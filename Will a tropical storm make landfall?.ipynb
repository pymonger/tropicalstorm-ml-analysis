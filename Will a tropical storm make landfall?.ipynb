{
 "cells": [
  {
   "cell_type": "markdown",
   "metadata": {},
   "source": [
    "# Will a tropical storm make landfall?"
   ]
  },
  {
   "cell_type": "markdown",
   "metadata": {},
   "source": [
    "## The source dataset"
   ]
  },
  {
   "cell_type": "markdown",
   "metadata": {},
   "source": [
    "We will use the IBTrACS (International Best Track Archive for Climate Stewardship) tropical storm database hosted at NOAA: https://www.ncdc.noaa.gov/ibtracs/index.php?name=wmo-data. We will be using the NetCDF file that contains all storms. Since NetCDF is a self-describing format, info about the variables contained in this dataset can be instrospected. Additional info about the variables is located here: ftp://eclipse.ncdc.noaa.gov/pub/ibtracs/v03r08/wmo/netcdf/README.netcdf.\n",
    "\n",
    "The class variable (prediction variable) will be determined from the dataset using the **landfall** variable:\n",
    "\n",
    "```\n",
    "    short landfall(storm, time) ;\n",
    "        landfall:long_name = \"Minimum distance to land until next report (0=landfall)\" ;\n",
    "        landfall:units = \"km\" ;\n",
    "        landfall:_FillValue = -999s ;\n",
    "```"
   ]
  },
  {
   "cell_type": "code",
   "execution_count": 25,
   "metadata": {
    "collapsed": true
   },
   "outputs": [],
   "source": [
    "import os, sys, re, json, arff\n",
    "from subprocess import check_output\n",
    "import netCDF4 as NC\n",
    "import numpy as np\n",
    "import pandas as pd\n",
    "from ipyleaflet import Map, GeoJSON\n",
    "from astropy.time import Time\n",
    "from IPython.display import display, HTML\n",
    "\n",
    "\n",
    "# get netcdf dataset\n",
    "file = \"Allstorms.ibtracs_wmo.v03r08.nc\"\n",
    "ds = NC.Dataset(file)"
   ]
  },
  {
   "cell_type": "markdown",
   "metadata": {},
   "source": [
    "## Extract features"
   ]
  },
  {
   "cell_type": "markdown",
   "metadata": {},
   "source": [
    "We will extract features the following features from this dataset:\n",
    "\n",
    "* name (STRING)\n",
    "* genesis_basin { 0 = NA - North Atlantic, 1 = SA - South Atlantic, 2 = WP - West Pacific, 3 = EP - East Pacific, 4 = SP - South Pacific, 5 = NI - North Indian, 6 = SI - South Indian }\n",
    "* sub_basin of first observation { 0 = NA - North Atlantic, 1 = SA - South Atlantic, 2 = WP - West Pacific, 3 = EP - East Pacific, 4 = SP - South Pacific, 5 = NI - North Indian, 6 = SI - South Indian, 7 = AS - Arabian Sea, 8 = BB - Bay of Bengal, 9 = EA - Eastern Australia, 10 = WA - Wester Australia, 11 = CP - Central Pacific, 12 = CS - Carribbean Sea, 13 = GM - Gulf of Mexico, 14 = MM - Missing }\n",
    "* time of first observation (MJD value) (REAL)\n",
    "* longitude of first observation (REAL)\n",
    "* latitude of first observation (REAL)\n",
    "* distance to land of first observation (REAL)\n",
    "* msw (maximum sustained wind) of first observation (REAL)\n",
    "* mcp (minimum central pressure) of first observation (REAL)\n",
    "* storm nature { 0 = TS - Tropical, 1 = SS - Subtropical, 2 = ET - Extratropical, 3 = DS - Disturbance, 4 = MX - Mix of conflicting reports, 5 = NR - Not Reported, 6 = MM - Missing, 7 = - Missing }\n",
    "* track_type { 0 = main - cylclogenesis to cyclolysis, 1 = merge - cyclogenesis to merger, 2 = split - split to cyclolysis, 3 = other - split to merger }\n",
    "* made_landfall { TRUE, FALSE }"
   ]
  },
  {
   "cell_type": "code",
   "execution_count": null,
   "metadata": {
    "collapsed": false
   },
   "outputs": [],
   "source": [
    "# define dict for discrete features\n",
    "disc_map = {\n",
    "    \"basin\": {\n",
    "         0: \"NA\",\n",
    "         1: \"SA\",\n",
    "         2: \"WP\",\n",
    "         3: \"EP\",\n",
    "         4: \"SP\",\n",
    "         5: \"NI\",\n",
    "         6: \"SI\",\n",
    "         7: \"AS\",\n",
    "         8: \"BB\",\n",
    "         9: \"EA\",\n",
    "        10: \"WA\",\n",
    "        11: \"CP\",\n",
    "        12: \"CS\",\n",
    "        13: \"GM\",\n",
    "        14: \"MM\",\n",
    "    },\n",
    "    \"nature\": {\n",
    "        0: \"TS\",\n",
    "        1: \"SS\",\n",
    "        2: \"ET\",\n",
    "        3: \"DS\",\n",
    "        4: \"MX\",\n",
    "        5: \"NR\",\n",
    "        6: \"MM\",\n",
    "        7: \"MM2\",\n",
    "    },\n",
    "    \"track_type\": {\n",
    "        0: \"main\",\n",
    "        1: \"merge\",\n",
    "        2: \"split\",\n",
    "        3: \"other\",\n",
    "    }\n",
    "}\n",
    "\n",
    "# extract features from each hurricane and separate them by class (made_landfall)\n",
    "data = []\n",
    "landfall_count = 0\n",
    "\n",
    "# compile regular expression for matching unnamed storms\n",
    "unnamed_re = re.compile(r'(UNNAMED|NOT NAMED)')\n",
    "\n",
    "for i in range(ds.dimensions['storm'].size):\n",
    "    \n",
    "    # get number of observations\n",
    "    obs = ds.variables['numObs'][i]\n",
    "    if obs <= 2: continue # skip if there are 2 or less observations\n",
    "    \n",
    "    # extract filterable features first\n",
    "    name = np.array_str(NC.chartostring(ds.variables['name'][i,:]))[2:-1]\n",
    "    genesis_basin = ds.variables['genesis_basin'][i]\n",
    "    sub_basin = ds.variables['sub_basin'][i,:obs-1]\n",
    "    nature = ds.variables['nature_wmo'][i:,obs-1]\n",
    "    \n",
    "    # skip records that have missing values in features\n",
    "    if genesis_basin == 14:\n",
    "        continue\n",
    "    # skipping this filter; this filters out the east pacific storms\n",
    "    #if sub_basin[0] == 14:\n",
    "    #    continue\n",
    "    if nature[0] in (4, 5, 6, 7):\n",
    "        continue\n",
    "        \n",
    "    # skip records with unnamed storms\n",
    "    if unnamed_re.search(name): continue\n",
    "    \n",
    "    # extract the rest of the features\n",
    "    time = ds.variables['time_wmo'][i,:obs-1]\n",
    "    time_iso = Time(time, format='mjd', scale='utc')\n",
    "    lon = ds.variables['lon_wmo'][i,:obs-1]\n",
    "    if abs(lon[0] - lon[-1]) > 180.: # handle wrapping issue\n",
    "        lon[np.where(lon > 0)] -= 360. # handle wrapping issue\n",
    "    lat = ds.variables['lat_wmo'][i,:obs-1]\n",
    "    dist2land = ds.variables['dist2land'][i,:obs-1]\n",
    "    msw = ds.variables['wind_wmo'][i,:obs-1]\n",
    "    mcp = ds.variables['pres_wmo'][i,:obs-1]\n",
    "    tt = ds.variables['track_type'][i]\n",
    "    landfall = (ds.variables['landfall'][i,:obs-1] == 0).any()\n",
    "    \n",
    "    # create GeoJSON of storm track\n",
    "    ls = { \n",
    "        \"type\": \"LineString\",\n",
    "        \"coordinates\": np.dstack((lon, lat))[0].tolist(),\n",
    "    }\n",
    "    \n",
    "    # create feature for leaflet display;\n",
    "    # stuff features into a message info for on_hover display\n",
    "    msg = \"{} {} {} {} {} {} {} {} {} {} {} {} {}\".format(i, name, obs, genesis_basin, sub_basin[0],\n",
    "                                                          time_iso[0].iso, lon[0], lat[0], dist2land[0],\n",
    "                                                          msw[0], mcp[0], nature[0], tt, landfall)\n",
    "    ls_feature = { \n",
    "        \"type\": \"Feature\",\n",
    "        \"properties\": { \"msg\": msg },\n",
    "        \"geometry\": ls,\n",
    "    }\n",
    "    \n",
    "    # create data dict\n",
    "    data.append({\n",
    "        \"name\": name,\n",
    "        \"genesis_basin\": disc_map['basin'][genesis_basin],\n",
    "        \"sub_basin\": disc_map['basin'][sub_basin[0]],\n",
    "        \"time\": time[0],\n",
    "        \"lon\": lon[0],\n",
    "        \"lat\": lat[0],\n",
    "        \"dist2land\": dist2land[0],\n",
    "        \"msw\": msw[0],\n",
    "        \"mcp\": mcp[0],\n",
    "        \"nature\": disc_map['nature'][nature[0]],\n",
    "        \"track_type\": disc_map['track_type'][tt],\n",
    "        \"landfall\": landfall,\n",
    "        \"feature\": ls_feature,\n",
    "    })\n",
    "    \n",
    "    # tally landfall\n",
    "    if landfall: landfall_count += 1\n",
    "    \n",
    "# print tally\n",
    "print(\"total storms: {}\".format(len(data)))\n",
    "print(\"hit landfall: {}\".format(landfall_count))\n",
    "\n",
    "# create data frame\n",
    "df = pd.DataFrame(data, columns=[\"name\", \"genesis_basin\", \"sub_basin\", \"time\",\n",
    "                                 \"lon\", \"lat\", \"dist2land\", \"msw\", \"mcp\", \"nature\",\n",
    "                                 \"track_type\", \"landfall\"])"
   ]
  },
  {
   "cell_type": "code",
   "execution_count": null,
   "metadata": {
    "collapsed": false
   },
   "outputs": [],
   "source": [
    "display(df)"
   ]
  },
  {
   "cell_type": "markdown",
   "metadata": {},
   "source": [
    "## Visualize the filtered storms"
   ]
  },
  {
   "cell_type": "code",
   "execution_count": null,
   "metadata": {
    "collapsed": false
   },
   "outputs": [],
   "source": [
    "# set styles\n",
    "style = {\n",
    "    \"color\": \"red\",\n",
    "    \"weight\": 1,\n",
    "}\n",
    "hover_style = {\n",
    "    \"weight\": 5,\n",
    "}\n",
    "\n",
    "# hover handler\n",
    "def hover_handler(event=None, id=None, properties=None):\n",
    "    sys.stdout.write(\"\\r\" + properties['msg'])\n",
    "    sys.stdout.flush()\n",
    "\n",
    "# show map    \n",
    "m = Map(center=[0, 0], zoom=2)\n",
    "m"
   ]
  },
  {
   "cell_type": "code",
   "execution_count": null,
   "metadata": {
    "collapsed": true
   },
   "outputs": [],
   "source": [
    "# add tracks\n",
    "for i in data:\n",
    "    l = GeoJSON(data=i['feature'], style=style, hover_style=hover_style)\n",
    "    l.on_hover(hover_handler)\n",
    "    m.add_layer(l)"
   ]
  },
  {
   "cell_type": "code",
   "execution_count": null,
   "metadata": {
    "collapsed": true
   },
   "outputs": [],
   "source": []
  }
 ],
 "metadata": {
  "anaconda-cloud": {},
  "kernelspec": {
   "display_name": "Python [Root]",
   "language": "python",
   "name": "Python [Root]"
  },
  "language_info": {
   "codemirror_mode": {
    "name": "ipython",
    "version": 3
   },
   "file_extension": ".py",
   "mimetype": "text/x-python",
   "name": "python",
   "nbconvert_exporter": "python",
   "pygments_lexer": "ipython3",
   "version": "3.5.2"
  },
  "widgets": {
   "state": {
    "648b553e7dfe4cc9b31feb3fcf1b70ed": {
     "views": [
      {
       "cell_index": 9
      }
     ]
    }
   },
   "version": "1.2.0"
  }
 },
 "nbformat": 4,
 "nbformat_minor": 0
}
