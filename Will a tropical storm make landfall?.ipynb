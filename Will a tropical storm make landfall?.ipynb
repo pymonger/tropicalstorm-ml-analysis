{
 "cells": [
  {
   "cell_type": "markdown",
   "metadata": {
    "nbpresent": {
     "id": "94172be2-100f-4c2a-86ef-ea4d5f03f770"
    },
    "toc": "true"
   },
   "source": [
    "# Table of Contents\n",
    " <p><div class=\"lev1 toc-item\"><a href=\"#Will-a-tropical-storm-make-landfall?\" data-toc-modified-id=\"Will-a-tropical-storm-make-landfall?-1\"><span class=\"toc-item-num\">1&nbsp;&nbsp;</span>Will a tropical storm make landfall?</a></div><div class=\"lev2 toc-item\"><a href=\"#Generate-the-dataset\" data-toc-modified-id=\"Generate-the-dataset-1.1\"><span class=\"toc-item-num\">1.1&nbsp;&nbsp;</span>Generate the dataset</a></div><div class=\"lev3 toc-item\"><a href=\"#Open-the-source-dataset\" data-toc-modified-id=\"Open-the-source-dataset-1.1.1\"><span class=\"toc-item-num\">1.1.1&nbsp;&nbsp;</span>Open the source dataset</a></div><div class=\"lev3 toc-item\"><a href=\"#Extract,-transform-and--load-features-(ETL)\" data-toc-modified-id=\"Extract,-transform-and--load-features-(ETL)-1.1.2\"><span class=\"toc-item-num\">1.1.2&nbsp;&nbsp;</span>Extract, transform and  load features (ETL)</a></div><div class=\"lev3 toc-item\"><a href=\"#class-label-distribution-of-filtered-source-dataset\" data-toc-modified-id=\"class-label-distribution-of-filtered-source-dataset-1.1.3\"><span class=\"toc-item-num\">1.1.3&nbsp;&nbsp;</span>class label distribution of filtered source dataset</a></div><div class=\"lev3 toc-item\"><a href=\"#Generate-random-sampling-of-each-prediction-(class)-value-and-generate-ARFF-file\" data-toc-modified-id=\"Generate-random-sampling-of-each-prediction-(class)-value-and-generate-ARFF-file-1.1.4\"><span class=\"toc-item-num\">1.1.4&nbsp;&nbsp;</span>Generate random sampling of each prediction (class) value and generate ARFF file</a></div><div class=\"lev3 toc-item\"><a href=\"#breakdown-of-dataset-records-used-for-training-and-test-sets\" data-toc-modified-id=\"breakdown-of-dataset-records-used-for-training-and-test-sets-1.1.5\"><span class=\"toc-item-num\">1.1.5&nbsp;&nbsp;</span>breakdown of dataset records used for training and test sets</a></div><div class=\"lev3 toc-item\"><a href=\"#training-set-class-label-distribution-of-randomly-sampled-datasets-of-each-class-value\" data-toc-modified-id=\"training-set-class-label-distribution-of-randomly-sampled-datasets-of-each-class-value-1.1.6\"><span class=\"toc-item-num\">1.1.6&nbsp;&nbsp;</span>training set class label distribution of randomly sampled datasets of each class value</a></div><div class=\"lev3 toc-item\"><a href=\"#Save-DataFrame-datasets-(all,-landfall/nolandfall-training-sets-and-test-set)-as-tables-in-HDF5\" data-toc-modified-id=\"Save-DataFrame-datasets-(all,-landfall/nolandfall-training-sets-and-test-set)-as-tables-in-HDF5-1.1.7\"><span class=\"toc-item-num\">1.1.7&nbsp;&nbsp;</span>Save DataFrame datasets (all, landfall/nolandfall training sets and test set) as tables in HDF5</a></div><div class=\"lev3 toc-item\"><a href=\"#Visualize-the-dataset-storms-tracks\" data-toc-modified-id=\"Visualize-the-dataset-storms-tracks-1.1.8\"><span class=\"toc-item-num\">1.1.8&nbsp;&nbsp;</span>Visualize the dataset storms tracks</a></div>"
   ]
  },
  {
   "cell_type": "markdown",
   "metadata": {
    "nbpresent": {
     "id": "5b355b78-91b9-4100-beb7-3efbd9988324"
    }
   },
   "source": [
    "* **FA16-BL-INFO-I526-34917**\n",
    "* **Applied Machine Learning**\n",
    "* **Gerald Manipon, MS Data Science student - Indiana University**\n",
    "* **gmanipon@iu.edu**\n",
    "* **this jupyter notebook can be found here: https://github.com/pymonger/tropicalstorm-ml-analysis**"
   ]
  },
  {
   "cell_type": "markdown",
   "metadata": {
    "nbpresent": {
     "id": "e8ed7e82-1523-42ea-afa4-c1f58517170b"
    }
   },
   "source": [
    "# Will a tropical storm make landfall?"
   ]
  },
  {
   "cell_type": "markdown",
   "metadata": {
    "nbpresent": {
     "id": "0e00032f-0d97-447c-99c2-91049571b085"
    }
   },
   "source": [
    "As a native of the Hawaiian Islands, the recent tropical storms in 2016 (Madeline and Lester) that threatened the state has sparked a very interesting and personal question. Can we predict whether or not a tropical storm will make landfall and possibly affect the safety and lives of the inhabitants? Currently there are real-time storm tracking models that enable our emergency response agencies to be as responsive as possible and to give up-to-the-minute status on potential threats. However, what does historical data say and can we predict landfall using machine learning on the initial observation of a tropical storm?"
   ]
  },
  {
   "cell_type": "markdown",
   "metadata": {
    "nbpresent": {
     "id": "30d35ee9-f4ae-48fe-88e9-a9b1c29b800f"
    }
   },
   "source": [
    "## Generate the dataset"
   ]
  },
  {
   "cell_type": "markdown",
   "metadata": {
    "nbpresent": {
     "id": "01ef4b2d-69c4-41d4-96bf-e0514859e5b4"
    }
   },
   "source": [
    "The source dataset I will use comes from the IBTrACS (International Best Track Archive for Climate Stewardship) project: https://www.ncdc.noaa.gov/ibtracs/index.php. This project is endorsed by the WMO (World Meteorological Organization) as an \"official archiving and distribution resource for tropical cyclone best track data\". The IBTrACS project provides datasets that:\n",
    "\n",
    "* Contains the most complete global set of historical tropical cyclones available\n",
    "* Combines information from numerous tropical cyclone datasets\n",
    "* Simplifies inter-agency comparisons by providing storm data from multiple sources in one place\n",
    "* Provides data in popular formats to facilitate analysis\n",
    "* Checks the quality of storm inventories, positions, pressures, and wind speeds, passing the information on to the user\n",
    "\n",
    "I will be using the IBTrACS-WMO NetCDF file that contains all storms: https://www.ncdc.noaa.gov/ibtracs/index.php?name=wmo-data. Since NetCDF is a self-describing format, info about the variables contained in this dataset can be introspected. Additional info about the variables is located here: ftp://eclipse.ncdc.noaa.gov/pub/ibtracs/v03r08/wmo/netcdf/README.netcdf.\n",
    "\n",
    "I will be performing some ETL (extraction, transformation and loading) tasks to prepare and filter (remove records with missing values) the source dataset to a derived dataset which I will use for this analysis. The source dataset essentially aggregates every recorded tropical storm from different source agencies and provides time-series information of pertinent variables describing the storm as it progressed through its track. *Since I'm only interested in being able to predict whether or not the storm will make landfall based on the storm's genesis and initial observation, my derived dataset will be composed of features that are essentially the values of the source dataset variables at observation **t<sub>0</sub>**.*\n",
    "\n",
    "The class variable (prediction variable) will be derived from the source dataset's **landfall** variable:\n",
    "\n",
    "* **landfall** { True, False }\n",
    "```\n",
    "    short landfall(storm, time) ;\n",
    "        landfall:long_name = \"Minimum distance to land until next report (0=landfall)\" ;\n",
    "        landfall:units = \"km\" ;\n",
    "        landfall:_FillValue = -999s ;\n",
    "```\n",
    "\n",
    "I will aggregate this variable into a single value of **True** or **False** if it makes landfall at any time in a storm's track.\n",
    "\n",
    "The features I will include from the source dataset are:\n",
    "\n",
    "* **genesis_basin** { 0 = NA - North Atlantic, 1 = SA - South Atlantic, 2 = WP - West Pacific, 3 = EP - East Pacific, 4 = SP - South Pacific, 5 = NI - North Indian, 6 = SI - South Indian }\n",
    "  ```\n",
    "    byte genesis_basin(storm) ;\n",
    "        genesis_basin:long_name = \"Basin of genesis\" ;\n",
    "        genesis_basin:units = \" \" ;\n",
    "        genesis_basin:key = \"0 = NA - North Atlantic\\n\",\n",
    "    \"1 = SA - South Atlantic\\n\",\n",
    "    \"2 = WP - West Pacific\\n\",\n",
    "    \"3 = EP - East Pacific\\n\",\n",
    "    \"4 = SP - South Pacific\\n\",\n",
    "    \"5 = NI - North Indian\\n\",\n",
    "    \"6 = SI - South Indian\\n\",\n",
    "    \"7 = AS - Arabian Sea\\n\",\n",
    "    \"8 = BB - Bay of Bengal\\n\",\n",
    "    \"9 = EA - Eastern Australia\\n\",\n",
    "    \"10 = WA - Western Australia\\n\",\n",
    "    \"11 = CP - Central Pacific\\n\",\n",
    "    \"12 = CS - Carribbean Sea\\n\",\n",
    "    \"13 = GM - Gulf of Mexico\\n\",\n",
    "    \"14 = MM - Missing\" ;\n",
    "        genesis_basin:Note = \"Based on where the storm began\" ;\n",
    "  ```\n",
    "  * the additional variable info at ftp://eclipse.ncdc.noaa.gov/pub/ibtracs/v03r08/wmo/netcdf/README.netcdf states that only values 0-6 are used for this variable thus I will be discretizing the values for this feature\n",
    "* **sub_basin** of first observation { 0 = NA - North Atlantic, 1 = SA - South Atlantic, 2 = WP - West Pacific, 3 = EP - East Pacific, 4 = SP - South Pacific, 5 = NI - North Indian, 6 = SI - South Indian, 7 = AS - Arabian Sea, 8 = BB - Bay of Bengal, 9 = EA - Eastern Australia, 10 = WA - Western Australia, 11 = CP - Central Pacific, 12 = CS - Carribbean Sea, 13 = GM - Gulf of Mexico, 14 = MM - Missing }\n",
    "  ```\n",
    "    byte sub_basin(storm, time) ;\n",
    "        sub_basin:long_name = \"Sub-Basin\" ;\n",
    "        sub_basin:units = \" \" ;\n",
    "        sub_basin:key = \"0 = NA - North Atlantic\\n\",\n",
    "    \"1 = SA - South Atlantic\\n\",\n",
    "    \"2 = WP - West Pacific\\n\",\n",
    "    \"3 = EP - East Pacific\\n\",\n",
    "    \"4 = SP - South Pacific\\n\",\n",
    "    \"5 = NI - North Indian\\n\",\n",
    "    \"6 = SI - South Indian\\n\",\n",
    "    \"7 = AS - Arabian Sea\\n\",\n",
    "    \"8 = BB - Bay of Bengal\\n\",\n",
    "    \"9 = EA - Eastern Australia\\n\",\n",
    "    \"10 = WA - Western Australia\\n\",\n",
    "    \"11 = CP - Central Pacific\\n\",\n",
    "    \"12 = CS - Carribbean Sea\\n\",\n",
    "    \"13 = GM - Gulf of Mexico\\n\",\n",
    "    \"14 = MM - Missing\" ;\n",
    "        sub_basin:Note = \"Based on present location\" ;\n",
    "        sub_basin:_FillValue = '\\201' ;\n",
    "  ```\n",
    "  * this feature will remain numeric since there are 14 values (2 more than the limit of 12 discrete variables imposed by the assignment)\n",
    "* **time** of first observation (MJD value) (REAL)\n",
    "  ```\n",
    "    double time_wmo(storm, time) ;\n",
    "        time_wmo:long_name = \"Modified Julian Day\" ;\n",
    "        time_wmo:units = \"days since 1858-11-17 00:00:00\" ;\n",
    "        time_wmo:_FillValue = 9.969209999999999e+36 ;\n",
    "  ```\n",
    "* **lon** (longitude) of first observation (REAL)\n",
    "  ```\n",
    "    short lon_wmo(storm, time) ;\n",
    "        lon_wmo:long_name = \"Storm center longitude\" ;\n",
    "        lon_wmo:units = \"degrees_east\" ;\n",
    "        lon_wmo:scale_factor = 0.0099999998f ;\n",
    "        lon_wmo:_FillValue = -32767s ;\n",
    "  ```\n",
    "* **lat** (latitude) of first observation (REAL)\n",
    "  ```\n",
    "    short lat_wmo(storm, time) ;\n",
    "        lat_wmo:long_name = \"Storm center latitude\" ;\n",
    "        lat_wmo:units = \"degrees_north\" ;\n",
    "        lat_wmo:scale_factor = 0.0099999998f ;\n",
    "        lat_wmo:_FillValue = -32767s ;\n",
    "  ```\n",
    "* **dist2land** (distance to land) of first observation (REAL)\n",
    "  ```\n",
    "    short dist2land(storm, time) ;\n",
    "        dist2land:long_name = \"Distance to land\" ;\n",
    "        dist2land:units = \"km\" ;\n",
    "        dist2land:_FillValue = -999s ;\n",
    "  ```\n",
    "* **msw** (maximum sustained wind) of first observation (REAL)\n",
    "  ```\n",
    "    short pres_wmo(storm, time) ;\n",
    "        pres_wmo:long_name = \"Minimum Central Pressure (MCP)\" ;\n",
    "        pres_wmo:units = \"mb\" ;\n",
    "        pres_wmo:scale_factor = 0.1f ;\n",
    "        pres_wmo:_FillValue = -32767s ;\n",
    "  ```\n",
    "* **mcp** (minimum central pressure) of first observation (REAL)\n",
    "  ```\n",
    "    short wind_wmo(storm, time) ;\n",
    "        wind_wmo:long_name = \"Maximum Sustained Wind (MSW)\" ;\n",
    "        wind_wmo:units = \"kt\" ;\n",
    "        wind_wmo:scale_factor = 0.1f ;\n",
    "        wind_wmo:_FillValue = -32767s ;\n",
    "  ```\n",
    "* **nature** (storm nature) { 0 = TS - Tropical, 1 = SS - Subtropical, 2 = ET - Extratropical, 3 = DS - Disturbance, 4 = MX - Mix of conflicting reports, 5 = NR - Not Reported, 6 = MM - Missing, 7 = - Missing }\n",
    "  ```\n",
    "        nature_wmo:long_name = \"Storm nature\" ;\n",
    "        nature_wmo:key = \"0 = TS - Tropical\\n\",\n",
    "    \"1 = SS - Subtropical\\n\",\n",
    "    \"2 = ET - Extratropical\\n\",\n",
    "    \"3 = DS - Disturbance\\n\",\n",
    "    \"4 = MX - Mix of conflicting reports\\n\",\n",
    "    \"5 = NR - Not Reported\\n\",\n",
    "    \"6 = MM - Missing\\n\",\n",
    "    \"7 =  - Missing\" ;\n",
    "        nature_wmo:Note = \"Based on classification from original sources\" ;\n",
    "        nature_wmo:_FillValue = '\\201' ;\n",
    "  ```\n",
    "  * this feature will be discretized\n",
    "* **track_type** { 0 = main - cylclogenesis to cyclolysis, 1 = merge - cyclogenesis to merger, 2 = split - split to cyclolysis, 3 = other - split to merger }\n",
    "  ```\n",
    "    byte track_type(storm) ;\n",
    "        track_type:long_name = \"Track type\" ;\n",
    "        track_type:key = \"0 = main - cyclogenesis to cyclolysis\\n\",\n",
    "    \"1 = merge - cyclogenesis to merger\\n\",\n",
    "    \"2 = split - split to cyclolysis\\n\",\n",
    "    \"3 = other - split to merger\" ;\n",
    "  ```\n",
    "  * this feature will be discretized\n"
   ]
  },
  {
   "cell_type": "markdown",
   "metadata": {
    "nbpresent": {
     "id": "d5d8feed-6c5f-42d5-91dc-d83062fe54e6"
    }
   },
   "source": [
    "### Open the source dataset"
   ]
  },
  {
   "cell_type": "code",
   "execution_count": 1,
   "metadata": {
    "collapsed": true,
    "nbpresent": {
     "id": "5dcd9a3f-cceb-4a84-9051-ea64648fcb24"
    }
   },
   "outputs": [],
   "source": [
    "import os, sys, re, json, arff\n",
    "from copy import deepcopy\n",
    "from subprocess import check_output\n",
    "import netCDF4 as NC\n",
    "import numpy as np\n",
    "import pandas as pd\n",
    "from ipyleaflet import Map, GeoJSON\n",
    "from astropy.time import Time\n",
    "from IPython.display import display, HTML, Markdown\n",
    "\n",
    "\n",
    "# get netcdf dataset\n",
    "file = \"Allstorms.ibtracs_wmo.v03r08.nc\"\n",
    "ds = NC.Dataset(file)"
   ]
  },
  {
   "cell_type": "markdown",
   "metadata": {
    "nbpresent": {
     "id": "ed5e7cd2-2cfa-4061-b7bb-697aab9d7540"
    }
   },
   "source": [
    "### Extract, transform and  load features (ETL)"
   ]
  },
  {
   "cell_type": "code",
   "execution_count": 3,
   "metadata": {
    "collapsed": false,
    "nbpresent": {
     "id": "f6770ac7-29b7-4f83-9f65-b84d9d2a27c7"
    }
   },
   "outputs": [
    {
     "name": "stderr",
     "output_type": "stream",
     "text": [
      "WARNING: ErfaWarning: ERFA function \"d2dtf\" yielded 1 of \"dubious year (Note 5)\" [astropy._erfa.core]\n"
     ]
    },
    {
     "data": {
      "text/markdown": [
       "### class label distribution of filtered source dataset"
      ],
      "text/plain": [
       "<IPython.core.display.Markdown object>"
      ]
     },
     "metadata": {},
     "output_type": "display_data"
    },
    {
     "data": {
      "text/markdown": [
       "* total storms: 4836"
      ],
      "text/plain": [
       "<IPython.core.display.Markdown object>"
      ]
     },
     "metadata": {},
     "output_type": "display_data"
    },
    {
     "data": {
      "text/markdown": [
       "* total storms with class variable landfall == True: 2315"
      ],
      "text/plain": [
       "<IPython.core.display.Markdown object>"
      ]
     },
     "metadata": {},
     "output_type": "display_data"
    },
    {
     "data": {
      "text/markdown": [
       "* total storms with class variable landfall == False: 2521"
      ],
      "text/plain": [
       "<IPython.core.display.Markdown object>"
      ]
     },
     "metadata": {},
     "output_type": "display_data"
    }
   ],
   "source": [
    "# define dict for discrete features\n",
    "disc_map = {\n",
    "    \"basin\": {\n",
    "         0: \"NA\", # North Atlantic\n",
    "         1: \"SA\", # South Atlantic\n",
    "         2: \"WP\", # West Pacific\n",
    "         3: \"EP\", # East Pacific\n",
    "         4: \"SP\", # South Pacific\n",
    "         5: \"NI\", # North Indian\n",
    "         6: \"SI\", # South Indian\n",
    "         7: \"AS\", # Arabian Sea\n",
    "         8: \"BB\", # Bay of Bengal\n",
    "         9: \"EA\", # Eastern Australia\n",
    "        10: \"WA\", # Western Australia\n",
    "        11: \"CP\", # Central Pacific\n",
    "        12: \"CS\", # Carribbean Sea\n",
    "        13: \"GM\", # Gulf of Mexico\n",
    "        14: \"MM\", # Missing\n",
    "    },\n",
    "    \"nature\": {\n",
    "        0: \"TS\",  # Tropical\n",
    "        1: \"SS\",  # Subtropical\n",
    "        2: \"ET\",  # Extratropical\n",
    "        3: \"DS\",  # Disturbance\n",
    "        4: \"MX\",  # Mix of conflicting reports\n",
    "        5: \"NR\",  # Not Reported\n",
    "        6: \"MM\",  # Missing\n",
    "        7: \"MM2\", # Also Missing\n",
    "    },\n",
    "    \"track_type\": {\n",
    "        0: \"main\",  # cyclogenesis to cyclolysis\n",
    "        1: \"merge\", # cyclogenesis to merger\n",
    "        2: \"split\", # split to cyclolysis\n",
    "        3: \"other\", # split to merger\n",
    "    },\n",
    "    \"month\": {\n",
    "        1: \"Jan\",\n",
    "        2: \"Feb\",\n",
    "        3: \"Mar\",\n",
    "        4: \"Apr\",\n",
    "        5: \"May\",\n",
    "        6: \"Jun\",\n",
    "        7: \"Jul\",\n",
    "        8: \"Aug\",\n",
    "        9: \"Sep\",\n",
    "        10: \"Oct\",\n",
    "        11: \"Nov\",\n",
    "        12: \"Dec\",\n",
    "    }\n",
    "}\n",
    "\n",
    "# extract features from each hurricane and save into a list of dicts\n",
    "data = []\n",
    "landfall_count = 0\n",
    "\n",
    "# compile regular expression for matching unnamed storms\n",
    "unnamed_re = re.compile(r'(UNNAMED|NOT NAMED)')\n",
    "\n",
    "for i in range(ds.dimensions['storm'].size):\n",
    "    \n",
    "    # get number of observations\n",
    "    obs = ds.variables['numObs'][i]\n",
    "    if obs <= 2: continue # skip if there are 2 or less observations\n",
    "    \n",
    "    # get storm id (storm names can be re-used so we need to track them uniquely)\n",
    "    id = np.array_str(NC.chartostring(ds.variables['storm_sn'][i,:]))[2:-1]\n",
    "    \n",
    "    # extract filterable features first\n",
    "    name = np.array_str(NC.chartostring(ds.variables['name'][i,:]))[2:-1]\n",
    "    genesis_basin = ds.variables['genesis_basin'][i]\n",
    "    sub_basin = ds.variables['sub_basin'][i,:obs-1]\n",
    "    nature = ds.variables['nature_wmo'][i:,obs-1]\n",
    "    \n",
    "    # skip records that have missing values in features\n",
    "    if genesis_basin == 14:\n",
    "        continue\n",
    "    # skipping this filter; this filters out the east pacific storms\n",
    "    #if sub_basin[0] == 14:\n",
    "    #    continue\n",
    "    if nature[0] in (4, 5, 6, 7):\n",
    "        continue\n",
    "        \n",
    "    # skip records with unnamed storms\n",
    "    #if unnamed_re.search(name): continue\n",
    "    \n",
    "    # extract the rest of the features\n",
    "    time = ds.variables['time_wmo'][i,:obs-1]\n",
    "    time_iso = Time(time, format='mjd', scale='utc')\n",
    "    \n",
    "    # including the time feature as-is (absolute value) from the source doesn't make \n",
    "    # sense for prediction; a better feature to derive from the time feature is the \n",
    "    # month of year since this can give the algorithm insight into seasonal effects\n",
    "    month = time_iso[0].datetime.month\n",
    "    \n",
    "    # extract lon and handle wrapping issue\n",
    "    lon = ds.variables['lon_wmo'][i,:obs-1]\n",
    "    lon_diff = lon[0] - lon[-1]\n",
    "    if lon_diff > 180.:\n",
    "        lon[np.where(lon > 0)] -= 360.\n",
    "    elif lon_diff < 180.:\n",
    "        lon[np.where(lon < 0)] += 360.\n",
    "        \n",
    "    lat = ds.variables['lat_wmo'][i,:obs-1]\n",
    "    dist2land = ds.variables['dist2land'][i,:obs-1]\n",
    "    msw = ds.variables['wind_wmo'][i,:obs-1]\n",
    "    mcp = ds.variables['pres_wmo'][i,:obs-1]\n",
    "    tt = ds.variables['track_type'][i]\n",
    "    landfall = (ds.variables['landfall'][i,:obs-1] == 0).any()\n",
    "    \n",
    "    # create GeoJSON of storm track\n",
    "    ls = { \n",
    "        \"type\": \"LineString\",\n",
    "        \"coordinates\": np.dstack((lon, lat))[0].tolist(),\n",
    "    }\n",
    "    \n",
    "    # create feature for leaflet display;\n",
    "    # stuff features into a message info for on_hover display\n",
    "    msg = \"{} {} {} {} {} {} {} {} {} {} {} {} {}\".format(i, name, obs, genesis_basin, sub_basin[0],\n",
    "                                                          time_iso[0].iso, lon[0], lat[0], dist2land[0],\n",
    "                                                          msw[0], mcp[0], nature[0], tt, landfall)\n",
    "    ls_feature = { \n",
    "        \"type\": \"Feature\",\n",
    "        \"properties\": { \"msg\": msg },\n",
    "        \"geometry\": ls,\n",
    "    }\n",
    "    \n",
    "    # create data dict\n",
    "    data.append({\n",
    "        \"id\": id,\n",
    "        \"name\": name,\n",
    "        \"genesis_basin\": disc_map['basin'][genesis_basin],\n",
    "        \"sub_basin\": disc_map['basin'][sub_basin[0]],\n",
    "        \"time\": time[0],\n",
    "        \"month\": disc_map['month'][month],\n",
    "        \"lon\": lon[0],\n",
    "        \"lat\": lat[0],\n",
    "        \"dist2land\": dist2land[0],\n",
    "        \"msw\": msw[0],\n",
    "        \"mcp\": mcp[0],\n",
    "        \"nature\": disc_map['nature'][nature[0]],\n",
    "        \"track_type\": disc_map['track_type'][tt],\n",
    "        \"landfall\": landfall,\n",
    "        \"feature\": json.dumps(ls_feature),\n",
    "    })\n",
    "    \n",
    "    # tally landfall\n",
    "    if landfall: landfall_count += 1\n",
    "    \n",
    "# create data frame\n",
    "df = pd.DataFrame(data)\n",
    "\n",
    "# print class label distribution of filtered source dataset\n",
    "display(Markdown(\"### class label distribution of filtered source dataset\"))\n",
    "display(Markdown(\"* total storms: {}\".format(len(data))))\n",
    "display(Markdown(\"* total storms with class variable landfall == True: {}\".format(landfall_count)))\n",
    "display(Markdown(\"* total storms with class variable landfall == False: {}\".format(len(data)-landfall_count)))\n"
   ]
  },
  {
   "cell_type": "code",
   "execution_count": 4,
   "metadata": {
    "collapsed": false,
    "nbpresent": {
     "id": "3a0fc7e6-4703-4a12-9579-376b59ae6055"
    }
   },
   "outputs": [
    {
     "data": {
      "text/html": [
       "<div>\n",
       "<table border=\"1\" class=\"dataframe\">\n",
       "  <thead>\n",
       "    <tr style=\"text-align: right;\">\n",
       "      <th></th>\n",
       "      <th>id</th>\n",
       "      <th>name</th>\n",
       "      <th>genesis_basin</th>\n",
       "      <th>sub_basin</th>\n",
       "      <th>time</th>\n",
       "      <th>month</th>\n",
       "      <th>lon</th>\n",
       "      <th>lat</th>\n",
       "      <th>dist2land</th>\n",
       "      <th>msw</th>\n",
       "      <th>mcp</th>\n",
       "      <th>nature</th>\n",
       "      <th>track_type</th>\n",
       "      <th>landfall</th>\n",
       "    </tr>\n",
       "  </thead>\n",
       "  <tbody>\n",
       "    <tr>\n",
       "      <th>0</th>\n",
       "      <td>1851175N26270</td>\n",
       "      <td>UNNAMED</td>\n",
       "      <td>NA</td>\n",
       "      <td>GM</td>\n",
       "      <td>-2702.00</td>\n",
       "      <td>Jun</td>\n",
       "      <td>265.200012</td>\n",
       "      <td>28.000000</td>\n",
       "      <td>116</td>\n",
       "      <td>80.0</td>\n",
       "      <td>0.0</td>\n",
       "      <td>TS</td>\n",
       "      <td>main</td>\n",
       "      <td>True</td>\n",
       "    </tr>\n",
       "    <tr>\n",
       "      <th>1</th>\n",
       "      <td>1851228N13313</td>\n",
       "      <td>UNNAMED</td>\n",
       "      <td>NA</td>\n",
       "      <td>NA</td>\n",
       "      <td>-2650.00</td>\n",
       "      <td>Aug</td>\n",
       "      <td>312.000000</td>\n",
       "      <td>13.400000</td>\n",
       "      <td>1048</td>\n",
       "      <td>40.0</td>\n",
       "      <td>0.0</td>\n",
       "      <td>TS</td>\n",
       "      <td>main</td>\n",
       "      <td>True</td>\n",
       "    </tr>\n",
       "    <tr>\n",
       "      <th>2</th>\n",
       "      <td>1851256N33287</td>\n",
       "      <td>UNNAMED</td>\n",
       "      <td>NA</td>\n",
       "      <td>NA</td>\n",
       "      <td>-2622.00</td>\n",
       "      <td>Sep</td>\n",
       "      <td>286.500000</td>\n",
       "      <td>32.500000</td>\n",
       "      <td>370</td>\n",
       "      <td>50.0</td>\n",
       "      <td>0.0</td>\n",
       "      <td>TS</td>\n",
       "      <td>main</td>\n",
       "      <td>False</td>\n",
       "    </tr>\n",
       "    <tr>\n",
       "      <th>3</th>\n",
       "      <td>1851289N29282</td>\n",
       "      <td>UNNAMED</td>\n",
       "      <td>NA</td>\n",
       "      <td>NA</td>\n",
       "      <td>-2589.00</td>\n",
       "      <td>Oct</td>\n",
       "      <td>282.000000</td>\n",
       "      <td>28.699999</td>\n",
       "      <td>244</td>\n",
       "      <td>40.0</td>\n",
       "      <td>0.0</td>\n",
       "      <td>TS</td>\n",
       "      <td>main</td>\n",
       "      <td>True</td>\n",
       "    </tr>\n",
       "    <tr>\n",
       "      <th>4</th>\n",
       "      <td>1852232N21293</td>\n",
       "      <td>UNNAMED</td>\n",
       "      <td>NA</td>\n",
       "      <td>NA</td>\n",
       "      <td>-2281.00</td>\n",
       "      <td>Aug</td>\n",
       "      <td>292.899994</td>\n",
       "      <td>20.500000</td>\n",
       "      <td>234</td>\n",
       "      <td>60.0</td>\n",
       "      <td>0.0</td>\n",
       "      <td>TS</td>\n",
       "      <td>main</td>\n",
       "      <td>True</td>\n",
       "    </tr>\n",
       "    <tr>\n",
       "      <th>5</th>\n",
       "      <td>1852247N14309</td>\n",
       "      <td>UNNAMED</td>\n",
       "      <td>NA</td>\n",
       "      <td>GM</td>\n",
       "      <td>-2260.00</td>\n",
       "      <td>Sep</td>\n",
       "      <td>269.600006</td>\n",
       "      <td>26.400000</td>\n",
       "      <td>302</td>\n",
       "      <td>70.0</td>\n",
       "      <td>0.0</td>\n",
       "      <td>TS</td>\n",
       "      <td>main</td>\n",
       "      <td>True</td>\n",
       "    </tr>\n",
       "    <tr>\n",
       "      <th>6</th>\n",
       "      <td>1852249N17296</td>\n",
       "      <td>UNNAMED</td>\n",
       "      <td>NA</td>\n",
       "      <td>CS</td>\n",
       "      <td>-2264.00</td>\n",
       "      <td>Sep</td>\n",
       "      <td>295.899994</td>\n",
       "      <td>17.000000</td>\n",
       "      <td>208</td>\n",
       "      <td>70.0</td>\n",
       "      <td>0.0</td>\n",
       "      <td>TS</td>\n",
       "      <td>main</td>\n",
       "      <td>True</td>\n",
       "    </tr>\n",
       "    <tr>\n",
       "      <th>7</th>\n",
       "      <td>1852264N13309</td>\n",
       "      <td>UNNAMED</td>\n",
       "      <td>NA</td>\n",
       "      <td>NA</td>\n",
       "      <td>-2247.00</td>\n",
       "      <td>Sep</td>\n",
       "      <td>301.500000</td>\n",
       "      <td>16.100000</td>\n",
       "      <td>662</td>\n",
       "      <td>50.0</td>\n",
       "      <td>0.0</td>\n",
       "      <td>TS</td>\n",
       "      <td>main</td>\n",
       "      <td>False</td>\n",
       "    </tr>\n",
       "    <tr>\n",
       "      <th>8</th>\n",
       "      <td>1852278N14293</td>\n",
       "      <td>UNNAMED</td>\n",
       "      <td>NA</td>\n",
       "      <td>CS</td>\n",
       "      <td>-2233.00</td>\n",
       "      <td>Oct</td>\n",
       "      <td>286.200012</td>\n",
       "      <td>17.000000</td>\n",
       "      <td>111</td>\n",
       "      <td>90.0</td>\n",
       "      <td>0.0</td>\n",
       "      <td>TS</td>\n",
       "      <td>main</td>\n",
       "      <td>True</td>\n",
       "    </tr>\n",
       "    <tr>\n",
       "      <th>9</th>\n",
       "      <td>1853242N12336</td>\n",
       "      <td>UNNAMED</td>\n",
       "      <td>NA</td>\n",
       "      <td>NA</td>\n",
       "      <td>-1905.00</td>\n",
       "      <td>Aug</td>\n",
       "      <td>336.799988</td>\n",
       "      <td>12.099999</td>\n",
       "      <td>682</td>\n",
       "      <td>40.0</td>\n",
       "      <td>0.0</td>\n",
       "      <td>TS</td>\n",
       "      <td>main</td>\n",
       "      <td>False</td>\n",
       "    </tr>\n",
       "    <tr>\n",
       "      <th>10</th>\n",
       "      <td>1853251N37307</td>\n",
       "      <td>UNNAMED</td>\n",
       "      <td>NA</td>\n",
       "      <td>NA</td>\n",
       "      <td>-1896.00</td>\n",
       "      <td>Sep</td>\n",
       "      <td>307.000000</td>\n",
       "      <td>37.000000</td>\n",
       "      <td>1067</td>\n",
       "      <td>100.0</td>\n",
       "      <td>0.0</td>\n",
       "      <td>TS</td>\n",
       "      <td>merge</td>\n",
       "      <td>False</td>\n",
       "    </tr>\n",
       "    <tr>\n",
       "      <th>11</th>\n",
       "      <td>1853253N41303</td>\n",
       "      <td>UNNAMED</td>\n",
       "      <td>NA</td>\n",
       "      <td>NA</td>\n",
       "      <td>-1894.75</td>\n",
       "      <td>Sep</td>\n",
       "      <td>300.600006</td>\n",
       "      <td>39.899998</td>\n",
       "      <td>601</td>\n",
       "      <td>90.0</td>\n",
       "      <td>0.0</td>\n",
       "      <td>TS</td>\n",
       "      <td>merge</td>\n",
       "      <td>False</td>\n",
       "    </tr>\n",
       "    <tr>\n",
       "      <th>12</th>\n",
       "      <td>1853269N26298</td>\n",
       "      <td>UNNAMED</td>\n",
       "      <td>NA</td>\n",
       "      <td>NA</td>\n",
       "      <td>-1878.00</td>\n",
       "      <td>Sep</td>\n",
       "      <td>298.000000</td>\n",
       "      <td>25.799999</td>\n",
       "      <td>906</td>\n",
       "      <td>50.0</td>\n",
       "      <td>0.0</td>\n",
       "      <td>TS</td>\n",
       "      <td>main</td>\n",
       "      <td>False</td>\n",
       "    </tr>\n",
       "    <tr>\n",
       "      <th>13</th>\n",
       "      <td>1853291N32280</td>\n",
       "      <td>UNNAMED</td>\n",
       "      <td>NA</td>\n",
       "      <td>NA</td>\n",
       "      <td>-1855.00</td>\n",
       "      <td>Oct</td>\n",
       "      <td>281.500000</td>\n",
       "      <td>27.500000</td>\n",
       "      <td>167</td>\n",
       "      <td>70.0</td>\n",
       "      <td>0.0</td>\n",
       "      <td>TS</td>\n",
       "      <td>main</td>\n",
       "      <td>False</td>\n",
       "    </tr>\n",
       "    <tr>\n",
       "      <th>14</th>\n",
       "      <td>1854176N26268</td>\n",
       "      <td>UNNAMED</td>\n",
       "      <td>NA</td>\n",
       "      <td>GM</td>\n",
       "      <td>-1606.00</td>\n",
       "      <td>Jun</td>\n",
       "      <td>267.500000</td>\n",
       "      <td>26.000000</td>\n",
       "      <td>380</td>\n",
       "      <td>60.0</td>\n",
       "      <td>0.0</td>\n",
       "      <td>TS</td>\n",
       "      <td>main</td>\n",
       "      <td>True</td>\n",
       "    </tr>\n",
       "    <tr>\n",
       "      <th>15</th>\n",
       "      <td>1854246N25300</td>\n",
       "      <td>UNNAMED</td>\n",
       "      <td>NA</td>\n",
       "      <td>NA</td>\n",
       "      <td>-1532.00</td>\n",
       "      <td>Sep</td>\n",
       "      <td>283.399994</td>\n",
       "      <td>26.400000</td>\n",
       "      <td>201</td>\n",
       "      <td>110.0</td>\n",
       "      <td>0.0</td>\n",
       "      <td>TS</td>\n",
       "      <td>main</td>\n",
       "      <td>True</td>\n",
       "    </tr>\n",
       "    <tr>\n",
       "      <th>16</th>\n",
       "      <td>1854261N28266</td>\n",
       "      <td>UNNAMED</td>\n",
       "      <td>NA</td>\n",
       "      <td>GM</td>\n",
       "      <td>-1521.00</td>\n",
       "      <td>Sep</td>\n",
       "      <td>266.399994</td>\n",
       "      <td>28.199999</td>\n",
       "      <td>168</td>\n",
       "      <td>90.0</td>\n",
       "      <td>0.0</td>\n",
       "      <td>TS</td>\n",
       "      <td>main</td>\n",
       "      <td>True</td>\n",
       "    </tr>\n",
       "    <tr>\n",
       "      <th>17</th>\n",
       "      <td>1854293N25292</td>\n",
       "      <td>UNNAMED</td>\n",
       "      <td>NA</td>\n",
       "      <td>NA</td>\n",
       "      <td>-1489.00</td>\n",
       "      <td>Oct</td>\n",
       "      <td>292.399994</td>\n",
       "      <td>25.000000</td>\n",
       "      <td>652</td>\n",
       "      <td>50.0</td>\n",
       "      <td>0.0</td>\n",
       "      <td>TS</td>\n",
       "      <td>main</td>\n",
       "      <td>False</td>\n",
       "    </tr>\n",
       "    <tr>\n",
       "      <th>18</th>\n",
       "      <td>1855222N44318</td>\n",
       "      <td>UNNAMED</td>\n",
       "      <td>NA</td>\n",
       "      <td>NA</td>\n",
       "      <td>-1195.00</td>\n",
       "      <td>Aug</td>\n",
       "      <td>318.000000</td>\n",
       "      <td>44.000000</td>\n",
       "      <td>905</td>\n",
       "      <td>90.0</td>\n",
       "      <td>0.0</td>\n",
       "      <td>TS</td>\n",
       "      <td>main</td>\n",
       "      <td>False</td>\n",
       "    </tr>\n",
       "    <tr>\n",
       "      <th>19</th>\n",
       "      <td>1855236N12304</td>\n",
       "      <td>UNNAMED</td>\n",
       "      <td>NA</td>\n",
       "      <td>NA</td>\n",
       "      <td>-1181.00</td>\n",
       "      <td>Aug</td>\n",
       "      <td>304.100006</td>\n",
       "      <td>12.000000</td>\n",
       "      <td>562</td>\n",
       "      <td>50.0</td>\n",
       "      <td>0.0</td>\n",
       "      <td>TS</td>\n",
       "      <td>main</td>\n",
       "      <td>True</td>\n",
       "    </tr>\n",
       "    <tr>\n",
       "      <th>20</th>\n",
       "      <td>1855252N20274</td>\n",
       "      <td>UNNAMED</td>\n",
       "      <td>NA</td>\n",
       "      <td>GM</td>\n",
       "      <td>-1159.00</td>\n",
       "      <td>Sep</td>\n",
       "      <td>270.899994</td>\n",
       "      <td>26.699999</td>\n",
       "      <td>256</td>\n",
       "      <td>70.0</td>\n",
       "      <td>0.0</td>\n",
       "      <td>TS</td>\n",
       "      <td>main</td>\n",
       "      <td>True</td>\n",
       "    </tr>\n",
       "    <tr>\n",
       "      <th>21</th>\n",
       "      <td>1856221N25277</td>\n",
       "      <td>UNNAMED</td>\n",
       "      <td>NA</td>\n",
       "      <td>GM</td>\n",
       "      <td>-830.00</td>\n",
       "      <td>Aug</td>\n",
       "      <td>276.100006</td>\n",
       "      <td>25.000000</td>\n",
       "      <td>240</td>\n",
       "      <td>70.0</td>\n",
       "      <td>0.0</td>\n",
       "      <td>TS</td>\n",
       "      <td>main</td>\n",
       "      <td>True</td>\n",
       "    </tr>\n",
       "    <tr>\n",
       "      <th>22</th>\n",
       "      <td>1856226N11308</td>\n",
       "      <td>UNNAMED</td>\n",
       "      <td>NA</td>\n",
       "      <td>NA</td>\n",
       "      <td>-826.00</td>\n",
       "      <td>Aug</td>\n",
       "      <td>303.899994</td>\n",
       "      <td>12.099999</td>\n",
       "      <td>556</td>\n",
       "      <td>70.0</td>\n",
       "      <td>0.0</td>\n",
       "      <td>TS</td>\n",
       "      <td>main</td>\n",
       "      <td>False</td>\n",
       "    </tr>\n",
       "    <tr>\n",
       "      <th>23</th>\n",
       "      <td>1856232N33285</td>\n",
       "      <td>UNNAMED</td>\n",
       "      <td>NA</td>\n",
       "      <td>NA</td>\n",
       "      <td>-820.00</td>\n",
       "      <td>Aug</td>\n",
       "      <td>284.500000</td>\n",
       "      <td>32.500000</td>\n",
       "      <td>262</td>\n",
       "      <td>50.0</td>\n",
       "      <td>0.0</td>\n",
       "      <td>TS</td>\n",
       "      <td>main</td>\n",
       "      <td>True</td>\n",
       "    </tr>\n",
       "    <tr>\n",
       "      <th>24</th>\n",
       "      <td>1856235N13302</td>\n",
       "      <td>UNNAMED</td>\n",
       "      <td>NA</td>\n",
       "      <td>NA</td>\n",
       "      <td>-814.00</td>\n",
       "      <td>Aug</td>\n",
       "      <td>290.200012</td>\n",
       "      <td>21.000000</td>\n",
       "      <td>157</td>\n",
       "      <td>70.0</td>\n",
       "      <td>0.0</td>\n",
       "      <td>TS</td>\n",
       "      <td>main</td>\n",
       "      <td>True</td>\n",
       "    </tr>\n",
       "    <tr>\n",
       "      <th>25</th>\n",
       "      <td>1856262N32311</td>\n",
       "      <td>UNNAMED</td>\n",
       "      <td>NA</td>\n",
       "      <td>NA</td>\n",
       "      <td>-790.00</td>\n",
       "      <td>Sep</td>\n",
       "      <td>311.200012</td>\n",
       "      <td>32.000000</td>\n",
       "      <td>1667</td>\n",
       "      <td>50.0</td>\n",
       "      <td>0.0</td>\n",
       "      <td>TS</td>\n",
       "      <td>split</td>\n",
       "      <td>False</td>\n",
       "    </tr>\n",
       "    <tr>\n",
       "      <th>26</th>\n",
       "      <td>1857181N34286</td>\n",
       "      <td>UNNAMED</td>\n",
       "      <td>NA</td>\n",
       "      <td>NA</td>\n",
       "      <td>-505.00</td>\n",
       "      <td>Jun</td>\n",
       "      <td>285.500000</td>\n",
       "      <td>34.000000</td>\n",
       "      <td>192</td>\n",
       "      <td>50.0</td>\n",
       "      <td>0.0</td>\n",
       "      <td>TS</td>\n",
       "      <td>main</td>\n",
       "      <td>False</td>\n",
       "    </tr>\n",
       "    <tr>\n",
       "      <th>27</th>\n",
       "      <td>1857249N27286</td>\n",
       "      <td>UNNAMED</td>\n",
       "      <td>NA</td>\n",
       "      <td>NA</td>\n",
       "      <td>-436.25</td>\n",
       "      <td>Sep</td>\n",
       "      <td>287.000000</td>\n",
       "      <td>26.500000</td>\n",
       "      <td>521</td>\n",
       "      <td>40.0</td>\n",
       "      <td>0.0</td>\n",
       "      <td>ET</td>\n",
       "      <td>main</td>\n",
       "      <td>True</td>\n",
       "    </tr>\n",
       "    <tr>\n",
       "      <th>28</th>\n",
       "      <td>1857265N33287</td>\n",
       "      <td>UNNAMED</td>\n",
       "      <td>NA</td>\n",
       "      <td>NA</td>\n",
       "      <td>-421.00</td>\n",
       "      <td>Sep</td>\n",
       "      <td>286.500000</td>\n",
       "      <td>32.500000</td>\n",
       "      <td>370</td>\n",
       "      <td>70.0</td>\n",
       "      <td>0.0</td>\n",
       "      <td>TS</td>\n",
       "      <td>main</td>\n",
       "      <td>False</td>\n",
       "    </tr>\n",
       "    <tr>\n",
       "      <th>29</th>\n",
       "      <td>1857267N16305</td>\n",
       "      <td>UNNAMED</td>\n",
       "      <td>NA</td>\n",
       "      <td>NA</td>\n",
       "      <td>-419.00</td>\n",
       "      <td>Sep</td>\n",
       "      <td>305.299988</td>\n",
       "      <td>16.000000</td>\n",
       "      <td>903</td>\n",
       "      <td>50.0</td>\n",
       "      <td>0.0</td>\n",
       "      <td>TS</td>\n",
       "      <td>main</td>\n",
       "      <td>True</td>\n",
       "    </tr>\n",
       "    <tr>\n",
       "      <th>...</th>\n",
       "      <td>...</td>\n",
       "      <td>...</td>\n",
       "      <td>...</td>\n",
       "      <td>...</td>\n",
       "      <td>...</td>\n",
       "      <td>...</td>\n",
       "      <td>...</td>\n",
       "      <td>...</td>\n",
       "      <td>...</td>\n",
       "      <td>...</td>\n",
       "      <td>...</td>\n",
       "      <td>...</td>\n",
       "      <td>...</td>\n",
       "      <td>...</td>\n",
       "    </tr>\n",
       "    <tr>\n",
       "      <th>4806</th>\n",
       "      <td>2014212N11242</td>\n",
       "      <td>ISELLE</td>\n",
       "      <td>EP</td>\n",
       "      <td>MM</td>\n",
       "      <td>56868.50</td>\n",
       "      <td>Jul</td>\n",
       "      <td>242.100006</td>\n",
       "      <td>11.300000</td>\n",
       "      <td>1544</td>\n",
       "      <td>20.0</td>\n",
       "      <td>1010.0</td>\n",
       "      <td>TS</td>\n",
       "      <td>main</td>\n",
       "      <td>False</td>\n",
       "    </tr>\n",
       "    <tr>\n",
       "      <th>4807</th>\n",
       "      <td>2014214N13249</td>\n",
       "      <td>JULIO</td>\n",
       "      <td>EP</td>\n",
       "      <td>MM</td>\n",
       "      <td>56871.00</td>\n",
       "      <td>Aug</td>\n",
       "      <td>248.800003</td>\n",
       "      <td>12.500000</td>\n",
       "      <td>1015</td>\n",
       "      <td>25.0</td>\n",
       "      <td>1008.0</td>\n",
       "      <td>TS</td>\n",
       "      <td>main</td>\n",
       "      <td>False</td>\n",
       "    </tr>\n",
       "    <tr>\n",
       "      <th>4808</th>\n",
       "      <td>2014225N15255</td>\n",
       "      <td>KARINA</td>\n",
       "      <td>EP</td>\n",
       "      <td>MM</td>\n",
       "      <td>56881.50</td>\n",
       "      <td>Aug</td>\n",
       "      <td>255.000000</td>\n",
       "      <td>15.099999</td>\n",
       "      <td>392</td>\n",
       "      <td>25.0</td>\n",
       "      <td>1008.0</td>\n",
       "      <td>DS</td>\n",
       "      <td>main</td>\n",
       "      <td>False</td>\n",
       "    </tr>\n",
       "    <tr>\n",
       "      <th>4809</th>\n",
       "      <td>2014229N16246</td>\n",
       "      <td>LOWELL</td>\n",
       "      <td>EP</td>\n",
       "      <td>MM</td>\n",
       "      <td>56886.00</td>\n",
       "      <td>Aug</td>\n",
       "      <td>246.300003</td>\n",
       "      <td>16.000000</td>\n",
       "      <td>863</td>\n",
       "      <td>20.0</td>\n",
       "      <td>1008.0</td>\n",
       "      <td>DS</td>\n",
       "      <td>main</td>\n",
       "      <td>False</td>\n",
       "    </tr>\n",
       "    <tr>\n",
       "      <th>4810</th>\n",
       "      <td>2014234N12261</td>\n",
       "      <td>MARIE</td>\n",
       "      <td>EP</td>\n",
       "      <td>MM</td>\n",
       "      <td>56891.00</td>\n",
       "      <td>Aug</td>\n",
       "      <td>261.200012</td>\n",
       "      <td>12.300000</td>\n",
       "      <td>428</td>\n",
       "      <td>30.0</td>\n",
       "      <td>1007.0</td>\n",
       "      <td>DS</td>\n",
       "      <td>main</td>\n",
       "      <td>False</td>\n",
       "    </tr>\n",
       "    <tr>\n",
       "      <th>4811</th>\n",
       "      <td>2014236N22288</td>\n",
       "      <td>CRISTOBAL</td>\n",
       "      <td>NA</td>\n",
       "      <td>NA</td>\n",
       "      <td>56892.75</td>\n",
       "      <td>Aug</td>\n",
       "      <td>287.799988</td>\n",
       "      <td>21.500000</td>\n",
       "      <td>89</td>\n",
       "      <td>30.0</td>\n",
       "      <td>1005.0</td>\n",
       "      <td>ET</td>\n",
       "      <td>main</td>\n",
       "      <td>True</td>\n",
       "    </tr>\n",
       "    <tr>\n",
       "      <th>4812</th>\n",
       "      <td>2014245N19268</td>\n",
       "      <td>DOLLY</td>\n",
       "      <td>NA</td>\n",
       "      <td>GM</td>\n",
       "      <td>56901.50</td>\n",
       "      <td>Sep</td>\n",
       "      <td>267.700012</td>\n",
       "      <td>19.199999</td>\n",
       "      <td>67</td>\n",
       "      <td>25.0</td>\n",
       "      <td>1009.0</td>\n",
       "      <td>DS</td>\n",
       "      <td>main</td>\n",
       "      <td>True</td>\n",
       "    </tr>\n",
       "    <tr>\n",
       "      <th>4813</th>\n",
       "      <td>2014246N17254</td>\n",
       "      <td>NORBERT</td>\n",
       "      <td>EP</td>\n",
       "      <td>MM</td>\n",
       "      <td>56902.50</td>\n",
       "      <td>Sep</td>\n",
       "      <td>253.500000</td>\n",
       "      <td>17.000000</td>\n",
       "      <td>304</td>\n",
       "      <td>35.0</td>\n",
       "      <td>1004.0</td>\n",
       "      <td>DS</td>\n",
       "      <td>main</td>\n",
       "      <td>False</td>\n",
       "    </tr>\n",
       "    <tr>\n",
       "      <th>4814</th>\n",
       "      <td>2014248N19129</td>\n",
       "      <td>FENGSHEN</td>\n",
       "      <td>WP</td>\n",
       "      <td>MM</td>\n",
       "      <td>56905.50</td>\n",
       "      <td>Sep</td>\n",
       "      <td>127.599998</td>\n",
       "      <td>20.299999</td>\n",
       "      <td>595</td>\n",
       "      <td>0.0</td>\n",
       "      <td>1004.0</td>\n",
       "      <td>ET</td>\n",
       "      <td>main</td>\n",
       "      <td>False</td>\n",
       "    </tr>\n",
       "    <tr>\n",
       "      <th>4815</th>\n",
       "      <td>2014253N13244</td>\n",
       "      <td>SIXTEEN</td>\n",
       "      <td>EP</td>\n",
       "      <td>MM</td>\n",
       "      <td>56910.25</td>\n",
       "      <td>Sep</td>\n",
       "      <td>243.500000</td>\n",
       "      <td>12.500000</td>\n",
       "      <td>1351</td>\n",
       "      <td>25.0</td>\n",
       "      <td>1009.0</td>\n",
       "      <td>DS</td>\n",
       "      <td>main</td>\n",
       "      <td>False</td>\n",
       "    </tr>\n",
       "    <tr>\n",
       "      <th>4816</th>\n",
       "      <td>2014253N14260</td>\n",
       "      <td>ODILE</td>\n",
       "      <td>EP</td>\n",
       "      <td>MM</td>\n",
       "      <td>56909.50</td>\n",
       "      <td>Sep</td>\n",
       "      <td>259.899994</td>\n",
       "      <td>13.500000</td>\n",
       "      <td>352</td>\n",
       "      <td>25.0</td>\n",
       "      <td>1007.0</td>\n",
       "      <td>TS</td>\n",
       "      <td>main</td>\n",
       "      <td>True</td>\n",
       "    </tr>\n",
       "    <tr>\n",
       "      <th>4817</th>\n",
       "      <td>2014254N10142</td>\n",
       "      <td>KALMAEGI</td>\n",
       "      <td>WP</td>\n",
       "      <td>MM</td>\n",
       "      <td>56911.75</td>\n",
       "      <td>Sep</td>\n",
       "      <td>134.000000</td>\n",
       "      <td>13.500000</td>\n",
       "      <td>933</td>\n",
       "      <td>0.0</td>\n",
       "      <td>1004.0</td>\n",
       "      <td>TS</td>\n",
       "      <td>main</td>\n",
       "      <td>True</td>\n",
       "    </tr>\n",
       "    <tr>\n",
       "      <th>4818</th>\n",
       "      <td>2014254N14327</td>\n",
       "      <td>EDOUARD</td>\n",
       "      <td>NA</td>\n",
       "      <td>NA</td>\n",
       "      <td>56910.75</td>\n",
       "      <td>Sep</td>\n",
       "      <td>326.799988</td>\n",
       "      <td>13.700000</td>\n",
       "      <td>1696</td>\n",
       "      <td>25.0</td>\n",
       "      <td>1009.0</td>\n",
       "      <td>DS</td>\n",
       "      <td>main</td>\n",
       "      <td>False</td>\n",
       "    </tr>\n",
       "    <tr>\n",
       "      <th>4819</th>\n",
       "      <td>2014259N11262</td>\n",
       "      <td>POLO</td>\n",
       "      <td>EP</td>\n",
       "      <td>MM</td>\n",
       "      <td>56916.00</td>\n",
       "      <td>Sep</td>\n",
       "      <td>262.399994</td>\n",
       "      <td>11.400000</td>\n",
       "      <td>482</td>\n",
       "      <td>35.0</td>\n",
       "      <td>1007.0</td>\n",
       "      <td>DS</td>\n",
       "      <td>main</td>\n",
       "      <td>False</td>\n",
       "    </tr>\n",
       "    <tr>\n",
       "      <th>4820</th>\n",
       "      <td>2014260N13135</td>\n",
       "      <td>FUNG-WONG</td>\n",
       "      <td>WP</td>\n",
       "      <td>MM</td>\n",
       "      <td>56917.00</td>\n",
       "      <td>Sep</td>\n",
       "      <td>135.000000</td>\n",
       "      <td>12.599999</td>\n",
       "      <td>1017</td>\n",
       "      <td>0.0</td>\n",
       "      <td>1002.0</td>\n",
       "      <td>ET</td>\n",
       "      <td>main</td>\n",
       "      <td>True</td>\n",
       "    </tr>\n",
       "    <tr>\n",
       "      <th>4821</th>\n",
       "      <td>2014267N15257</td>\n",
       "      <td>RACHEL</td>\n",
       "      <td>EP</td>\n",
       "      <td>MM</td>\n",
       "      <td>56924.00</td>\n",
       "      <td>Sep</td>\n",
       "      <td>257.399994</td>\n",
       "      <td>14.500000</td>\n",
       "      <td>352</td>\n",
       "      <td>30.0</td>\n",
       "      <td>1006.0</td>\n",
       "      <td>DS</td>\n",
       "      <td>main</td>\n",
       "      <td>False</td>\n",
       "    </tr>\n",
       "    <tr>\n",
       "      <th>4822</th>\n",
       "      <td>2014267N18150</td>\n",
       "      <td>KAMMURI</td>\n",
       "      <td>WP</td>\n",
       "      <td>MM</td>\n",
       "      <td>56923.50</td>\n",
       "      <td>Sep</td>\n",
       "      <td>149.599991</td>\n",
       "      <td>17.900000</td>\n",
       "      <td>2126</td>\n",
       "      <td>0.0</td>\n",
       "      <td>1004.0</td>\n",
       "      <td>ET</td>\n",
       "      <td>main</td>\n",
       "      <td>False</td>\n",
       "    </tr>\n",
       "    <tr>\n",
       "      <th>4823</th>\n",
       "      <td>2014271N10160</td>\n",
       "      <td>PHANFONE</td>\n",
       "      <td>WP</td>\n",
       "      <td>MM</td>\n",
       "      <td>56928.25</td>\n",
       "      <td>Sep</td>\n",
       "      <td>157.099991</td>\n",
       "      <td>11.000000</td>\n",
       "      <td>1681</td>\n",
       "      <td>0.0</td>\n",
       "      <td>1004.0</td>\n",
       "      <td>ET</td>\n",
       "      <td>main</td>\n",
       "      <td>True</td>\n",
       "    </tr>\n",
       "    <tr>\n",
       "      <th>4824</th>\n",
       "      <td>2014274N15260</td>\n",
       "      <td>SIMON</td>\n",
       "      <td>EP</td>\n",
       "      <td>MM</td>\n",
       "      <td>56930.50</td>\n",
       "      <td>Sep</td>\n",
       "      <td>259.899994</td>\n",
       "      <td>14.700000</td>\n",
       "      <td>227</td>\n",
       "      <td>25.0</td>\n",
       "      <td>1008.0</td>\n",
       "      <td>DS</td>\n",
       "      <td>main</td>\n",
       "      <td>True</td>\n",
       "    </tr>\n",
       "    <tr>\n",
       "      <th>4825</th>\n",
       "      <td>2014275N06166</td>\n",
       "      <td>VONGFONG</td>\n",
       "      <td>WP</td>\n",
       "      <td>MM</td>\n",
       "      <td>56932.50</td>\n",
       "      <td>Oct</td>\n",
       "      <td>162.099991</td>\n",
       "      <td>7.300000</td>\n",
       "      <td>1625</td>\n",
       "      <td>0.0</td>\n",
       "      <td>1006.0</td>\n",
       "      <td>ET</td>\n",
       "      <td>main</td>\n",
       "      <td>True</td>\n",
       "    </tr>\n",
       "    <tr>\n",
       "      <th>4826</th>\n",
       "      <td>2014283N22299</td>\n",
       "      <td>FAY</td>\n",
       "      <td>NA</td>\n",
       "      <td>NA</td>\n",
       "      <td>56940.00</td>\n",
       "      <td>Oct</td>\n",
       "      <td>298.799988</td>\n",
       "      <td>22.000000</td>\n",
       "      <td>610</td>\n",
       "      <td>35.0</td>\n",
       "      <td>1007.0</td>\n",
       "      <td>TS</td>\n",
       "      <td>main</td>\n",
       "      <td>False</td>\n",
       "    </tr>\n",
       "    <tr>\n",
       "      <th>4827</th>\n",
       "      <td>2014284N10231</td>\n",
       "      <td>ANA</td>\n",
       "      <td>EP</td>\n",
       "      <td>MM</td>\n",
       "      <td>56940.50</td>\n",
       "      <td>Oct</td>\n",
       "      <td>231.300003</td>\n",
       "      <td>9.700000</td>\n",
       "      <td>2429</td>\n",
       "      <td>20.0</td>\n",
       "      <td>1009.0</td>\n",
       "      <td>ET</td>\n",
       "      <td>main</td>\n",
       "      <td>False</td>\n",
       "    </tr>\n",
       "    <tr>\n",
       "      <th>4828</th>\n",
       "      <td>2014285N16305</td>\n",
       "      <td>GONZALO</td>\n",
       "      <td>NA</td>\n",
       "      <td>NA</td>\n",
       "      <td>56941.75</td>\n",
       "      <td>Oct</td>\n",
       "      <td>305.100006</td>\n",
       "      <td>16.400000</td>\n",
       "      <td>917</td>\n",
       "      <td>25.0</td>\n",
       "      <td>1010.0</td>\n",
       "      <td>ET</td>\n",
       "      <td>main</td>\n",
       "      <td>False</td>\n",
       "    </tr>\n",
       "    <tr>\n",
       "      <th>4829</th>\n",
       "      <td>2014290N14261</td>\n",
       "      <td>TRUDY</td>\n",
       "      <td>EP</td>\n",
       "      <td>MM</td>\n",
       "      <td>56947.25</td>\n",
       "      <td>Oct</td>\n",
       "      <td>261.399994</td>\n",
       "      <td>13.900000</td>\n",
       "      <td>250</td>\n",
       "      <td>25.0</td>\n",
       "      <td>1007.0</td>\n",
       "      <td>TS</td>\n",
       "      <td>main</td>\n",
       "      <td>True</td>\n",
       "    </tr>\n",
       "    <tr>\n",
       "      <th>4830</th>\n",
       "      <td>2014294N20265</td>\n",
       "      <td>HANNA:INVEST</td>\n",
       "      <td>NA</td>\n",
       "      <td>GM</td>\n",
       "      <td>56951.00</td>\n",
       "      <td>Oct</td>\n",
       "      <td>264.700012</td>\n",
       "      <td>19.500000</td>\n",
       "      <td>88</td>\n",
       "      <td>25.0</td>\n",
       "      <td>1002.0</td>\n",
       "      <td>DS</td>\n",
       "      <td>main</td>\n",
       "      <td>True</td>\n",
       "    </tr>\n",
       "    <tr>\n",
       "      <th>4831</th>\n",
       "      <td>2014303N11261</td>\n",
       "      <td>VANCE</td>\n",
       "      <td>EP</td>\n",
       "      <td>MM</td>\n",
       "      <td>56959.75</td>\n",
       "      <td>Oct</td>\n",
       "      <td>260.899994</td>\n",
       "      <td>10.700000</td>\n",
       "      <td>609</td>\n",
       "      <td>30.0</td>\n",
       "      <td>1007.0</td>\n",
       "      <td>TS</td>\n",
       "      <td>main</td>\n",
       "      <td>False</td>\n",
       "    </tr>\n",
       "    <tr>\n",
       "      <th>4832</th>\n",
       "      <td>2014303N13141</td>\n",
       "      <td>NURI</td>\n",
       "      <td>WP</td>\n",
       "      <td>MM</td>\n",
       "      <td>56960.00</td>\n",
       "      <td>Oct</td>\n",
       "      <td>140.899994</td>\n",
       "      <td>12.599999</td>\n",
       "      <td>1599</td>\n",
       "      <td>0.0</td>\n",
       "      <td>1004.0</td>\n",
       "      <td>ET</td>\n",
       "      <td>main</td>\n",
       "      <td>False</td>\n",
       "    </tr>\n",
       "    <tr>\n",
       "      <th>4833</th>\n",
       "      <td>2014329N08131</td>\n",
       "      <td>SINLAKU</td>\n",
       "      <td>WP</td>\n",
       "      <td>MM</td>\n",
       "      <td>56987.00</td>\n",
       "      <td>Nov</td>\n",
       "      <td>128.000000</td>\n",
       "      <td>8.400000</td>\n",
       "      <td>173</td>\n",
       "      <td>0.0</td>\n",
       "      <td>1002.0</td>\n",
       "      <td>TS</td>\n",
       "      <td>main</td>\n",
       "      <td>True</td>\n",
       "    </tr>\n",
       "    <tr>\n",
       "      <th>4834</th>\n",
       "      <td>2014334N02156</td>\n",
       "      <td>HAGUPIT</td>\n",
       "      <td>WP</td>\n",
       "      <td>MM</td>\n",
       "      <td>56991.50</td>\n",
       "      <td>Nov</td>\n",
       "      <td>156.000000</td>\n",
       "      <td>2.600000</td>\n",
       "      <td>797</td>\n",
       "      <td>0.0</td>\n",
       "      <td>1006.0</td>\n",
       "      <td>TS</td>\n",
       "      <td>main</td>\n",
       "      <td>True</td>\n",
       "    </tr>\n",
       "    <tr>\n",
       "      <th>4835</th>\n",
       "      <td>2014362N07130</td>\n",
       "      <td>JANGMI</td>\n",
       "      <td>WP</td>\n",
       "      <td>MM</td>\n",
       "      <td>57019.00</td>\n",
       "      <td>Dec</td>\n",
       "      <td>128.699997</td>\n",
       "      <td>7.400000</td>\n",
       "      <td>231</td>\n",
       "      <td>0.0</td>\n",
       "      <td>1006.0</td>\n",
       "      <td>TS</td>\n",
       "      <td>main</td>\n",
       "      <td>True</td>\n",
       "    </tr>\n",
       "  </tbody>\n",
       "</table>\n",
       "<p>4836 rows × 14 columns</p>\n",
       "</div>"
      ],
      "text/plain": [
       "                 id          name genesis_basin sub_basin      time month  \\\n",
       "0     1851175N26270       UNNAMED            NA        GM  -2702.00   Jun   \n",
       "1     1851228N13313       UNNAMED            NA        NA  -2650.00   Aug   \n",
       "2     1851256N33287       UNNAMED            NA        NA  -2622.00   Sep   \n",
       "3     1851289N29282       UNNAMED            NA        NA  -2589.00   Oct   \n",
       "4     1852232N21293       UNNAMED            NA        NA  -2281.00   Aug   \n",
       "5     1852247N14309       UNNAMED            NA        GM  -2260.00   Sep   \n",
       "6     1852249N17296       UNNAMED            NA        CS  -2264.00   Sep   \n",
       "7     1852264N13309       UNNAMED            NA        NA  -2247.00   Sep   \n",
       "8     1852278N14293       UNNAMED            NA        CS  -2233.00   Oct   \n",
       "9     1853242N12336       UNNAMED            NA        NA  -1905.00   Aug   \n",
       "10    1853251N37307       UNNAMED            NA        NA  -1896.00   Sep   \n",
       "11    1853253N41303       UNNAMED            NA        NA  -1894.75   Sep   \n",
       "12    1853269N26298       UNNAMED            NA        NA  -1878.00   Sep   \n",
       "13    1853291N32280       UNNAMED            NA        NA  -1855.00   Oct   \n",
       "14    1854176N26268       UNNAMED            NA        GM  -1606.00   Jun   \n",
       "15    1854246N25300       UNNAMED            NA        NA  -1532.00   Sep   \n",
       "16    1854261N28266       UNNAMED            NA        GM  -1521.00   Sep   \n",
       "17    1854293N25292       UNNAMED            NA        NA  -1489.00   Oct   \n",
       "18    1855222N44318       UNNAMED            NA        NA  -1195.00   Aug   \n",
       "19    1855236N12304       UNNAMED            NA        NA  -1181.00   Aug   \n",
       "20    1855252N20274       UNNAMED            NA        GM  -1159.00   Sep   \n",
       "21    1856221N25277       UNNAMED            NA        GM   -830.00   Aug   \n",
       "22    1856226N11308       UNNAMED            NA        NA   -826.00   Aug   \n",
       "23    1856232N33285       UNNAMED            NA        NA   -820.00   Aug   \n",
       "24    1856235N13302       UNNAMED            NA        NA   -814.00   Aug   \n",
       "25    1856262N32311       UNNAMED            NA        NA   -790.00   Sep   \n",
       "26    1857181N34286       UNNAMED            NA        NA   -505.00   Jun   \n",
       "27    1857249N27286       UNNAMED            NA        NA   -436.25   Sep   \n",
       "28    1857265N33287       UNNAMED            NA        NA   -421.00   Sep   \n",
       "29    1857267N16305       UNNAMED            NA        NA   -419.00   Sep   \n",
       "...             ...           ...           ...       ...       ...   ...   \n",
       "4806  2014212N11242        ISELLE            EP        MM  56868.50   Jul   \n",
       "4807  2014214N13249         JULIO            EP        MM  56871.00   Aug   \n",
       "4808  2014225N15255        KARINA            EP        MM  56881.50   Aug   \n",
       "4809  2014229N16246        LOWELL            EP        MM  56886.00   Aug   \n",
       "4810  2014234N12261         MARIE            EP        MM  56891.00   Aug   \n",
       "4811  2014236N22288     CRISTOBAL            NA        NA  56892.75   Aug   \n",
       "4812  2014245N19268         DOLLY            NA        GM  56901.50   Sep   \n",
       "4813  2014246N17254       NORBERT            EP        MM  56902.50   Sep   \n",
       "4814  2014248N19129      FENGSHEN            WP        MM  56905.50   Sep   \n",
       "4815  2014253N13244       SIXTEEN            EP        MM  56910.25   Sep   \n",
       "4816  2014253N14260         ODILE            EP        MM  56909.50   Sep   \n",
       "4817  2014254N10142      KALMAEGI            WP        MM  56911.75   Sep   \n",
       "4818  2014254N14327       EDOUARD            NA        NA  56910.75   Sep   \n",
       "4819  2014259N11262          POLO            EP        MM  56916.00   Sep   \n",
       "4820  2014260N13135     FUNG-WONG            WP        MM  56917.00   Sep   \n",
       "4821  2014267N15257        RACHEL            EP        MM  56924.00   Sep   \n",
       "4822  2014267N18150       KAMMURI            WP        MM  56923.50   Sep   \n",
       "4823  2014271N10160      PHANFONE            WP        MM  56928.25   Sep   \n",
       "4824  2014274N15260         SIMON            EP        MM  56930.50   Sep   \n",
       "4825  2014275N06166      VONGFONG            WP        MM  56932.50   Oct   \n",
       "4826  2014283N22299           FAY            NA        NA  56940.00   Oct   \n",
       "4827  2014284N10231           ANA            EP        MM  56940.50   Oct   \n",
       "4828  2014285N16305       GONZALO            NA        NA  56941.75   Oct   \n",
       "4829  2014290N14261         TRUDY            EP        MM  56947.25   Oct   \n",
       "4830  2014294N20265  HANNA:INVEST            NA        GM  56951.00   Oct   \n",
       "4831  2014303N11261         VANCE            EP        MM  56959.75   Oct   \n",
       "4832  2014303N13141          NURI            WP        MM  56960.00   Oct   \n",
       "4833  2014329N08131       SINLAKU            WP        MM  56987.00   Nov   \n",
       "4834  2014334N02156       HAGUPIT            WP        MM  56991.50   Nov   \n",
       "4835  2014362N07130        JANGMI            WP        MM  57019.00   Dec   \n",
       "\n",
       "             lon        lat  dist2land    msw     mcp nature track_type  \\\n",
       "0     265.200012  28.000000        116   80.0     0.0     TS       main   \n",
       "1     312.000000  13.400000       1048   40.0     0.0     TS       main   \n",
       "2     286.500000  32.500000        370   50.0     0.0     TS       main   \n",
       "3     282.000000  28.699999        244   40.0     0.0     TS       main   \n",
       "4     292.899994  20.500000        234   60.0     0.0     TS       main   \n",
       "5     269.600006  26.400000        302   70.0     0.0     TS       main   \n",
       "6     295.899994  17.000000        208   70.0     0.0     TS       main   \n",
       "7     301.500000  16.100000        662   50.0     0.0     TS       main   \n",
       "8     286.200012  17.000000        111   90.0     0.0     TS       main   \n",
       "9     336.799988  12.099999        682   40.0     0.0     TS       main   \n",
       "10    307.000000  37.000000       1067  100.0     0.0     TS      merge   \n",
       "11    300.600006  39.899998        601   90.0     0.0     TS      merge   \n",
       "12    298.000000  25.799999        906   50.0     0.0     TS       main   \n",
       "13    281.500000  27.500000        167   70.0     0.0     TS       main   \n",
       "14    267.500000  26.000000        380   60.0     0.0     TS       main   \n",
       "15    283.399994  26.400000        201  110.0     0.0     TS       main   \n",
       "16    266.399994  28.199999        168   90.0     0.0     TS       main   \n",
       "17    292.399994  25.000000        652   50.0     0.0     TS       main   \n",
       "18    318.000000  44.000000        905   90.0     0.0     TS       main   \n",
       "19    304.100006  12.000000        562   50.0     0.0     TS       main   \n",
       "20    270.899994  26.699999        256   70.0     0.0     TS       main   \n",
       "21    276.100006  25.000000        240   70.0     0.0     TS       main   \n",
       "22    303.899994  12.099999        556   70.0     0.0     TS       main   \n",
       "23    284.500000  32.500000        262   50.0     0.0     TS       main   \n",
       "24    290.200012  21.000000        157   70.0     0.0     TS       main   \n",
       "25    311.200012  32.000000       1667   50.0     0.0     TS      split   \n",
       "26    285.500000  34.000000        192   50.0     0.0     TS       main   \n",
       "27    287.000000  26.500000        521   40.0     0.0     ET       main   \n",
       "28    286.500000  32.500000        370   70.0     0.0     TS       main   \n",
       "29    305.299988  16.000000        903   50.0     0.0     TS       main   \n",
       "...          ...        ...        ...    ...     ...    ...        ...   \n",
       "4806  242.100006  11.300000       1544   20.0  1010.0     TS       main   \n",
       "4807  248.800003  12.500000       1015   25.0  1008.0     TS       main   \n",
       "4808  255.000000  15.099999        392   25.0  1008.0     DS       main   \n",
       "4809  246.300003  16.000000        863   20.0  1008.0     DS       main   \n",
       "4810  261.200012  12.300000        428   30.0  1007.0     DS       main   \n",
       "4811  287.799988  21.500000         89   30.0  1005.0     ET       main   \n",
       "4812  267.700012  19.199999         67   25.0  1009.0     DS       main   \n",
       "4813  253.500000  17.000000        304   35.0  1004.0     DS       main   \n",
       "4814  127.599998  20.299999        595    0.0  1004.0     ET       main   \n",
       "4815  243.500000  12.500000       1351   25.0  1009.0     DS       main   \n",
       "4816  259.899994  13.500000        352   25.0  1007.0     TS       main   \n",
       "4817  134.000000  13.500000        933    0.0  1004.0     TS       main   \n",
       "4818  326.799988  13.700000       1696   25.0  1009.0     DS       main   \n",
       "4819  262.399994  11.400000        482   35.0  1007.0     DS       main   \n",
       "4820  135.000000  12.599999       1017    0.0  1002.0     ET       main   \n",
       "4821  257.399994  14.500000        352   30.0  1006.0     DS       main   \n",
       "4822  149.599991  17.900000       2126    0.0  1004.0     ET       main   \n",
       "4823  157.099991  11.000000       1681    0.0  1004.0     ET       main   \n",
       "4824  259.899994  14.700000        227   25.0  1008.0     DS       main   \n",
       "4825  162.099991   7.300000       1625    0.0  1006.0     ET       main   \n",
       "4826  298.799988  22.000000        610   35.0  1007.0     TS       main   \n",
       "4827  231.300003   9.700000       2429   20.0  1009.0     ET       main   \n",
       "4828  305.100006  16.400000        917   25.0  1010.0     ET       main   \n",
       "4829  261.399994  13.900000        250   25.0  1007.0     TS       main   \n",
       "4830  264.700012  19.500000         88   25.0  1002.0     DS       main   \n",
       "4831  260.899994  10.700000        609   30.0  1007.0     TS       main   \n",
       "4832  140.899994  12.599999       1599    0.0  1004.0     ET       main   \n",
       "4833  128.000000   8.400000        173    0.0  1002.0     TS       main   \n",
       "4834  156.000000   2.600000        797    0.0  1006.0     TS       main   \n",
       "4835  128.699997   7.400000        231    0.0  1006.0     TS       main   \n",
       "\n",
       "     landfall  \n",
       "0        True  \n",
       "1        True  \n",
       "2       False  \n",
       "3        True  \n",
       "4        True  \n",
       "5        True  \n",
       "6        True  \n",
       "7       False  \n",
       "8        True  \n",
       "9       False  \n",
       "10      False  \n",
       "11      False  \n",
       "12      False  \n",
       "13      False  \n",
       "14       True  \n",
       "15       True  \n",
       "16       True  \n",
       "17      False  \n",
       "18      False  \n",
       "19       True  \n",
       "20       True  \n",
       "21       True  \n",
       "22      False  \n",
       "23       True  \n",
       "24       True  \n",
       "25      False  \n",
       "26      False  \n",
       "27       True  \n",
       "28      False  \n",
       "29       True  \n",
       "...       ...  \n",
       "4806    False  \n",
       "4807    False  \n",
       "4808    False  \n",
       "4809    False  \n",
       "4810    False  \n",
       "4811     True  \n",
       "4812     True  \n",
       "4813    False  \n",
       "4814    False  \n",
       "4815    False  \n",
       "4816     True  \n",
       "4817     True  \n",
       "4818    False  \n",
       "4819    False  \n",
       "4820     True  \n",
       "4821    False  \n",
       "4822    False  \n",
       "4823     True  \n",
       "4824     True  \n",
       "4825     True  \n",
       "4826    False  \n",
       "4827    False  \n",
       "4828    False  \n",
       "4829     True  \n",
       "4830     True  \n",
       "4831    False  \n",
       "4832    False  \n",
       "4833     True  \n",
       "4834     True  \n",
       "4835     True  \n",
       "\n",
       "[4836 rows x 14 columns]"
      ]
     },
     "metadata": {},
     "output_type": "display_data"
    }
   ],
   "source": [
    "display(df[['id', 'name', 'genesis_basin', 'sub_basin', 'time', 'month', 'lon', 'lat',\n",
    "            'dist2land', 'msw', 'mcp', 'nature', 'track_type', 'landfall']])"
   ]
  },
  {
   "cell_type": "markdown",
   "metadata": {
    "nbpresent": {
     "id": "cc1a848a-38fc-4f94-adea-2af0460dd486"
    }
   },
   "source": [
    "### Generate random sampling of each prediction (class) value and generate ARFF file"
   ]
  },
  {
   "cell_type": "code",
   "execution_count": 7,
   "metadata": {
    "collapsed": false,
    "nbpresent": {
     "id": "45380f11-b691-4089-b20a-c76adba27f9d"
    }
   },
   "outputs": [
    {
     "data": {
      "text/markdown": [
       "### breakdown of dataset records used for training and test sets"
      ],
      "text/plain": [
       "<IPython.core.display.Markdown object>"
      ]
     },
     "metadata": {},
     "output_type": "display_data"
    },
    {
     "data": {
      "text/markdown": [
       "* total storms: 4836"
      ],
      "text/plain": [
       "<IPython.core.display.Markdown object>"
      ]
     },
     "metadata": {},
     "output_type": "display_data"
    },
    {
     "data": {
      "text/markdown": [
       "* total storms used for training set : 1000"
      ],
      "text/plain": [
       "<IPython.core.display.Markdown object>"
      ]
     },
     "metadata": {},
     "output_type": "display_data"
    },
    {
     "data": {
      "text/markdown": [
       "* total storms used for test set: 3836"
      ],
      "text/plain": [
       "<IPython.core.display.Markdown object>"
      ]
     },
     "metadata": {},
     "output_type": "display_data"
    },
    {
     "data": {
      "text/markdown": [
       "### training set class label distribution of randomly sampled datasets of each class value"
      ],
      "text/plain": [
       "<IPython.core.display.Markdown object>"
      ]
     },
     "metadata": {},
     "output_type": "display_data"
    },
    {
     "data": {
      "text/markdown": [
       "* total training set storms: 1000"
      ],
      "text/plain": [
       "<IPython.core.display.Markdown object>"
      ]
     },
     "metadata": {},
     "output_type": "display_data"
    },
    {
     "data": {
      "text/markdown": [
       "* total training set storms with class variable landfall == True : 500"
      ],
      "text/plain": [
       "<IPython.core.display.Markdown object>"
      ]
     },
     "metadata": {},
     "output_type": "display_data"
    },
    {
     "data": {
      "text/markdown": [
       "* total training set storms with class variable landfall == False: 500"
      ],
      "text/plain": [
       "<IPython.core.display.Markdown object>"
      ]
     },
     "metadata": {},
     "output_type": "display_data"
    },
    {
     "data": {
      "text/markdown": [
       "* total test set storms: 3836"
      ],
      "text/plain": [
       "<IPython.core.display.Markdown object>"
      ]
     },
     "metadata": {},
     "output_type": "display_data"
    }
   ],
   "source": [
    "# randomly sample 500 records of each class value (these will be the training set)\n",
    "landfall_sample = df.loc[df['landfall'] == True].sample(500)\n",
    "nolandfall_sample = df.loc[df['landfall'] == False].sample(500)\n",
    "\n",
    "# get the rest of the records to be used as the test set\n",
    "test_set = df[-df['id'].isin(landfall_sample['id']) &\n",
    "              -df['id'].isin(nolandfall_sample['id'])]\n",
    "\n",
    "# base ARFF dict for create ARFF files\n",
    "arff_data = {\n",
    "    \"relation\": \"tropicalstorms\",\n",
    "    \"description\": \"IBTrACS (International Best Track Archive for Climate Stewardship) tropical storm database\",\n",
    "    \"attributes\": [\n",
    "        #(\"genesis_basin\", [\"NA\", \"SA\", \"WP\", \"EP\", \"SP\", \"NI\", \"SI\"]),\n",
    "        (\"nature\", [\"TS\", \"SS\", \"ET\", \"DS\"]),\n",
    "        (\"track_type\", [\"main\", \"merge\", \"split\", \"other\"]),\n",
    "        (\"month\", [\"Jan\", \"Feb\", \"Mar\", \"Apr\", \"May\", \"Jun\", \"Jul\", \"Aug\", \"Sep\", \"Oct\", \"Nov\", \"Dec\"]),\n",
    "        #(\"time\", \"DATE\"),\n",
    "        #(\"time\", \"REAL\"),\n",
    "        (\"lon\", \"REAL\"),\n",
    "        (\"lat\", \"REAL\"),\n",
    "        (\"dist2land\", \"REAL\"),\n",
    "        (\"msw\", \"REAL\"),\n",
    "        (\"mcp\", \"REAL\"),\n",
    "        (\"landfall\", [\"True\", \"False\"]),\n",
    "    ],\n",
    "    \"data\": [],\n",
    "}\n",
    "\n",
    "# create ARFF file for training set\n",
    "arff_data_training = deepcopy(arff_data)\n",
    "for r in landfall_sample.itertuples():\n",
    "    arff_data_training['data'].append([r.nature, r.track_type, r.month,\n",
    "                                       r.lon, r.lat, r.dist2land, r.msw,\n",
    "                                       r.mcp, r.landfall]) \n",
    "for r in nolandfall_sample.itertuples():\n",
    "    arff_data_training['data'].append([r.nature, r.track_type, r.month,\n",
    "                                       r.lon, r.lat, r.dist2land, r.msw,\n",
    "                                       r.mcp,  r.landfall]) \n",
    "with open('tropicalstorms-trainingset.arff', 'w') as f:\n",
    "    arff.dump(arff_data_training, f)\n",
    "\n",
    "# create ARFF file for test set\n",
    "arff_data_test = deepcopy(arff_data)\n",
    "for r in test_set.itertuples():\n",
    "    arff_data_test['data'].append([r.nature, r.track_type, r.month,\n",
    "                                   r.lon, r.lat, r.dist2land, r.msw,\n",
    "                                   r.mcp, r.landfall]) \n",
    "with open('tropicalstorms-testset.arff', 'w') as f:\n",
    "    arff.dump(arff_data_test, f)\n",
    "\n",
    "# print breakdown of records used for training and test sets\n",
    "display(Markdown(\"### breakdown of dataset records used for training and test sets\"))\n",
    "display(Markdown(\"* total storms: {}\".format(len(df))))\n",
    "display(Markdown(\"* total storms used for training set : {}\".format(len(landfall_sample) + len(nolandfall_sample))))\n",
    "display(Markdown(\"* total storms used for test set: {}\".format(len(test_set))))\n",
    "\n",
    "# print class label distribution of randomly sampled datasets of each class value\n",
    "display(Markdown(\"### training set class label distribution of randomly sampled datasets of each class value\"))\n",
    "display(Markdown(\"* total training set storms: {}\".format(len(landfall_sample) + len(nolandfall_sample))))\n",
    "display(Markdown(\"* total training set storms with class variable landfall == True : {}\".format(len(landfall_sample))))\n",
    "display(Markdown(\"* total training set storms with class variable landfall == False: {}\".format(len(nolandfall_sample))))\n",
    "display(Markdown(\"* total test set storms: {}\".format(len(test_set))))"
   ]
  },
  {
   "cell_type": "markdown",
   "metadata": {
    "nbpresent": {
     "id": "7759a8a1-377c-44c0-b37c-c00bb1e8a50b"
    }
   },
   "source": [
    "### Save DataFrame datasets (all, landfall/nolandfall training sets and test set) as tables in HDF5"
   ]
  },
  {
   "cell_type": "code",
   "execution_count": 8,
   "metadata": {
    "collapsed": false,
    "nbpresent": {
     "id": "58d1e61e-f9c8-4d4d-816c-b60c34e03475"
    }
   },
   "outputs": [],
   "source": [
    "# save\n",
    "df.to_hdf(\"tropicalstorms-all.h5\", \"tropicalstorms\", format=\"table\", complib=\"zlib\", complevel=9)\n",
    "landfall_sample.to_hdf(\"tropicalstorms-trainingset-landfall.h5\", \"tropicalstorms\", format=\"table\", complib=\"zlib\", complevel=9)\n",
    "nolandfall_sample.to_hdf(\"tropicalstorms-trainingset-nolandfall.h5\", \"tropicalstorms\", format=\"table\", complib=\"zlib\", complevel=9)\n",
    "test_set.to_hdf(\"tropicalstorms-testset.h5\", \"tropicalstorms\", format=\"table\", complib=\"zlib\", complevel=9)"
   ]
  },
  {
   "cell_type": "markdown",
   "metadata": {
    "nbpresent": {
     "id": "c489a945-e0d5-49de-b29c-77610e69a24a"
    }
   },
   "source": [
    "### Visualize the dataset storms tracks"
   ]
  },
  {
   "cell_type": "code",
   "execution_count": 9,
   "metadata": {
    "collapsed": false,
    "nbpresent": {
     "id": "3987ff39-27c5-4c27-877a-636cf96b6bc8"
    }
   },
   "outputs": [
    {
     "name": "stdout",
     "output_type": "stream",
     "text": [
      "2492 RITA 29 2 14 1963-12-15 00:00:00.000 130.59999084472656 12.0 535 0.0 1010.0 2 0"
     ]
    }
   ],
   "source": [
    "# set styles\n",
    "trainingset_landfall_style = {\n",
    "    \"color\": \"red\",\n",
    "    \"weight\": 1,\n",
    "}\n",
    "trainingset_nolandfall_style = {\n",
    "    \"color\": \"green\",\n",
    "    \"weight\": 1,\n",
    "}\n",
    "testset_style = {\n",
    "    \"color\": \"yellow\",\n",
    "    \"weight\": 1,\n",
    "}\n",
    "hover_style = {\n",
    "    \"weight\": 5,\n",
    "}\n",
    "\n",
    "# hover handler\n",
    "def hover_handler(event=None, id=None, properties=None):\n",
    "    sys.stdout.write(\"\\r\" + properties['msg'])\n",
    "    sys.stdout.flush()\n",
    "\n",
    "# show map    \n",
    "m = Map(center=[0, 180], zoom=2)\n",
    "m"
   ]
  },
  {
   "cell_type": "code",
   "execution_count": 10,
   "metadata": {
    "collapsed": false,
    "nbpresent": {
     "id": "48d0003b-5830-4263-bd6e-e413aa6a6c3f"
    }
   },
   "outputs": [],
   "source": [
    "# add training set storm tracks that made landfall\n",
    "for r in landfall_sample.itertuples():\n",
    "    l = GeoJSON(data=json.loads(r.feature), style=trainingset_landfall_style, hover_style=hover_style)\n",
    "    l.on_hover(hover_handler)\n",
    "    m.add_layer(l)\n",
    "    "
   ]
  },
  {
   "cell_type": "code",
   "execution_count": 11,
   "metadata": {
    "collapsed": false,
    "nbpresent": {
     "id": "bb9a1a1a-3f15-42c0-8967-03606336b787"
    }
   },
   "outputs": [],
   "source": [
    "# add training set storm tracks that didn't make landfall\n",
    "for r in nolandfall_sample.itertuples():\n",
    "    l = GeoJSON(data=json.loads(r.feature), style=trainingset_nolandfall_style, hover_style=hover_style)\n",
    "    l.on_hover(hover_handler)\n",
    "    m.add_layer(l)\n",
    "    "
   ]
  },
  {
   "cell_type": "code",
   "execution_count": null,
   "metadata": {
    "collapsed": true
   },
   "outputs": [],
   "source": []
  }
 ],
 "metadata": {
  "anaconda-cloud": {},
  "kernelspec": {
   "display_name": "Python [Root]",
   "language": "python",
   "name": "Python [Root]"
  },
  "language_info": {
   "codemirror_mode": {
    "name": "ipython",
    "version": 3
   },
   "file_extension": ".py",
   "mimetype": "text/x-python",
   "name": "python",
   "nbconvert_exporter": "python",
   "pygments_lexer": "ipython3",
   "version": "3.5.2"
  },
  "nav_menu": {},
  "nbpresent": {
   "slides": {
    "3a4ee92e-9545-45c6-82f4-77970aa4dfa7": {
     "id": "3a4ee92e-9545-45c6-82f4-77970aa4dfa7",
     "prev": null,
     "regions": {
      "e3f4c3d2-e6a1-4e58-8db8-58f0288b2307": {
       "attrs": {
        "height": 0.8,
        "width": 0.8,
        "x": 0.1,
        "y": 0.1
       },
       "content": {
        "cell": "94172be2-100f-4c2a-86ef-ea4d5f03f770",
        "part": "whole"
       },
       "id": "e3f4c3d2-e6a1-4e58-8db8-58f0288b2307"
      }
     }
    },
    "3ab18f56-dc32-4408-8664-4e3b6bbffaf9": {
     "id": "3ab18f56-dc32-4408-8664-4e3b6bbffaf9",
     "prev": "a3280c39-e3d5-401c-915d-a0d2bff61551",
     "regions": {
      "36814c49-1fc8-4988-9dc7-8807608f56db": {
       "attrs": {
        "height": 0.8,
        "width": 0.8,
        "x": 0.1,
        "y": 0.1
       },
       "content": {
        "cell": "01ef4b2d-69c4-41d4-96bf-e0514859e5b4",
        "part": "whole"
       },
       "id": "36814c49-1fc8-4988-9dc7-8807608f56db"
      }
     }
    },
    "4e8ff8fb-dbe7-4696-a621-b9c7c13befd2": {
     "id": "4e8ff8fb-dbe7-4696-a621-b9c7c13befd2",
     "prev": "6c6b552b-e006-45f3-bbee-2c378aaf1177",
     "regions": {
      "a458d110-4d6e-482c-95b6-2e7701526e8f": {
       "attrs": {
        "height": 0.8,
        "width": 0.8,
        "x": 0.1,
        "y": 0.1
       },
       "content": {
        "cell": "3987ff39-27c5-4c27-877a-636cf96b6bc8",
        "part": "whole"
       },
       "id": "a458d110-4d6e-482c-95b6-2e7701526e8f"
      }
     }
    },
    "5a965009-e807-4eb3-8b4a-f83219f72070": {
     "id": "5a965009-e807-4eb3-8b4a-f83219f72070",
     "prev": "bcde7d25-1442-4721-b101-580e096334e8",
     "regions": {
      "043b83b0-2a7f-4e3d-8fa7-1e9e8df78e9e": {
       "attrs": {
        "height": 0.8,
        "width": 0.8,
        "x": 0.1,
        "y": 0.1
       },
       "content": {
        "cell": "cc1a848a-38fc-4f94-adea-2af0460dd486",
        "part": "whole"
       },
       "id": "043b83b0-2a7f-4e3d-8fa7-1e9e8df78e9e"
      }
     }
    },
    "5aa85ada-ebca-4b86-8d8a-4ab2f2bfef1a": {
     "id": "5aa85ada-ebca-4b86-8d8a-4ab2f2bfef1a",
     "prev": "6c87c5cc-be44-4924-9d63-f438aca58155",
     "regions": {
      "7e95344b-444d-4f55-9342-23c7e14181f3": {
       "attrs": {
        "height": 0.8,
        "width": 0.8,
        "x": 0.1,
        "y": 0.1
       },
       "content": {
        "cell": "ed5e7cd2-2cfa-4061-b7bb-697aab9d7540",
        "part": "whole"
       },
       "id": "7e95344b-444d-4f55-9342-23c7e14181f3"
      }
     }
    },
    "66509af4-fe1b-471a-81f7-99f9b1095780": {
     "id": "66509af4-fe1b-471a-81f7-99f9b1095780",
     "prev": "c9ddb9ab-8443-4fe1-9eac-54a6a1dcb8b3",
     "regions": {
      "a7fbd50f-278e-42f0-a937-d29de57c0b39": {
       "attrs": {
        "height": 0.8,
        "width": 0.8,
        "x": 0.1,
        "y": 0.1
       },
       "content": {
        "cell": "0e00032f-0d97-447c-99c2-91049571b085",
        "part": "whole"
       },
       "id": "a7fbd50f-278e-42f0-a937-d29de57c0b39"
      }
     }
    },
    "6c6b552b-e006-45f3-bbee-2c378aaf1177": {
     "id": "6c6b552b-e006-45f3-bbee-2c378aaf1177",
     "prev": "70bc882c-f421-438c-9db1-c1a19a4af4c4",
     "regions": {
      "bebef9b4-b364-4091-915d-bc941b8e61ff": {
       "attrs": {
        "height": 0.8,
        "width": 0.8,
        "x": 0.1,
        "y": 0.1
       },
       "content": {
        "cell": "c489a945-e0d5-49de-b29c-77610e69a24a",
        "part": "whole"
       },
       "id": "bebef9b4-b364-4091-915d-bc941b8e61ff"
      }
     }
    },
    "6c87c5cc-be44-4924-9d63-f438aca58155": {
     "id": "6c87c5cc-be44-4924-9d63-f438aca58155",
     "prev": "7aa49481-4dd0-409c-9b66-190ea45a274c",
     "regions": {
      "c9c31ee8-6d48-475b-8f10-3fe9f31f4afe": {
       "attrs": {
        "height": 0.8,
        "width": 0.8,
        "x": 0.1,
        "y": 0.1
       },
       "content": {
        "cell": "5dcd9a3f-cceb-4a84-9051-ea64648fcb24",
        "part": "whole"
       },
       "id": "c9c31ee8-6d48-475b-8f10-3fe9f31f4afe"
      }
     }
    },
    "70bc882c-f421-438c-9db1-c1a19a4af4c4": {
     "id": "70bc882c-f421-438c-9db1-c1a19a4af4c4",
     "prev": "7c707ea6-ffef-469f-be4a-43a082bbcaa8",
     "regions": {
      "3d740726-0d0d-42d0-82f0-0836833fa7b9": {
       "attrs": {
        "height": 0.8,
        "width": 0.8,
        "x": 0.1,
        "y": 0.1
       },
       "content": {
        "cell": "58d1e61e-f9c8-4d4d-816c-b60c34e03475",
        "part": "whole"
       },
       "id": "3d740726-0d0d-42d0-82f0-0836833fa7b9"
      }
     }
    },
    "7aa49481-4dd0-409c-9b66-190ea45a274c": {
     "id": "7aa49481-4dd0-409c-9b66-190ea45a274c",
     "prev": "3ab18f56-dc32-4408-8664-4e3b6bbffaf9",
     "regions": {
      "6d8aa61b-0932-41b7-be14-4502ba02b32d": {
       "attrs": {
        "height": 0.8,
        "width": 0.8,
        "x": 0.1,
        "y": 0.1
       },
       "content": {
        "cell": "d5d8feed-6c5f-42d5-91dc-d83062fe54e6",
        "part": "whole"
       },
       "id": "6d8aa61b-0932-41b7-be14-4502ba02b32d"
      }
     }
    },
    "7c707ea6-ffef-469f-be4a-43a082bbcaa8": {
     "id": "7c707ea6-ffef-469f-be4a-43a082bbcaa8",
     "prev": "f531737e-b395-4e75-ad2c-1447f508d091",
     "regions": {
      "f2a273f5-9c7d-4e09-8708-faae9773ee01": {
       "attrs": {
        "height": 0.8,
        "width": 0.8,
        "x": 0.1,
        "y": 0.1
       },
       "content": {
        "cell": "7759a8a1-377c-44c0-b37c-c00bb1e8a50b",
        "part": "whole"
       },
       "id": "f2a273f5-9c7d-4e09-8708-faae9773ee01"
      }
     }
    },
    "9369157c-1dc2-4878-91cf-a77eb127910a": {
     "id": "9369157c-1dc2-4878-91cf-a77eb127910a",
     "prev": "3a4ee92e-9545-45c6-82f4-77970aa4dfa7",
     "regions": {
      "4c2c0c2c-9d39-4999-a2a2-c7c81d134342": {
       "attrs": {
        "height": 0.8,
        "width": 0.8,
        "x": 0.1,
        "y": 0.1
       },
       "content": {
        "cell": "5b355b78-91b9-4100-beb7-3efbd9988324",
        "part": "whole"
       },
       "id": "4c2c0c2c-9d39-4999-a2a2-c7c81d134342"
      }
     }
    },
    "a3280c39-e3d5-401c-915d-a0d2bff61551": {
     "id": "a3280c39-e3d5-401c-915d-a0d2bff61551",
     "prev": "66509af4-fe1b-471a-81f7-99f9b1095780",
     "regions": {
      "d5c6ecd0-6a5d-4aba-9f0a-b3720d47fe9e": {
       "attrs": {
        "height": 0.8,
        "width": 0.8,
        "x": 0.1,
        "y": 0.1
       },
       "content": {
        "cell": "30d35ee9-f4ae-48fe-88e9-a9b1c29b800f",
        "part": "whole"
       },
       "id": "d5c6ecd0-6a5d-4aba-9f0a-b3720d47fe9e"
      }
     }
    },
    "a520d407-6859-4295-9020-687377b4f1a6": {
     "id": "a520d407-6859-4295-9020-687377b4f1a6",
     "prev": "eb6362d6-c130-4caf-b068-67df562fc4a2",
     "regions": {
      "cf472c9b-6f3b-4d78-bb84-1e53f4042bf0": {
       "attrs": {
        "height": 0.8,
        "width": 0.8,
        "x": 0.1,
        "y": 0.1
       },
       "content": {
        "cell": "bb9a1a1a-3f15-42c0-8967-03606336b787",
        "part": "whole"
       },
       "id": "cf472c9b-6f3b-4d78-bb84-1e53f4042bf0"
      }
     }
    },
    "bcde7d25-1442-4721-b101-580e096334e8": {
     "id": "bcde7d25-1442-4721-b101-580e096334e8",
     "prev": "c4373530-81b6-44dc-b7db-4cc991ee43e4",
     "regions": {
      "0d5c01a0-8e44-452d-ada7-091e16b4c2e6": {
       "attrs": {
        "height": 0.8,
        "width": 0.8,
        "x": 0.1,
        "y": 0.1
       },
       "content": {
        "cell": "3a0fc7e6-4703-4a12-9579-376b59ae6055",
        "part": "whole"
       },
       "id": "0d5c01a0-8e44-452d-ada7-091e16b4c2e6"
      }
     }
    },
    "c4373530-81b6-44dc-b7db-4cc991ee43e4": {
     "id": "c4373530-81b6-44dc-b7db-4cc991ee43e4",
     "prev": "5aa85ada-ebca-4b86-8d8a-4ab2f2bfef1a",
     "regions": {
      "4b2ce045-cb3d-4e58-ac0b-d138c1fc8361": {
       "attrs": {
        "height": 0.8,
        "width": 0.8,
        "x": 0.1,
        "y": 0.1
       },
       "content": {
        "cell": "f6770ac7-29b7-4f83-9f65-b84d9d2a27c7",
        "part": "whole"
       },
       "id": "4b2ce045-cb3d-4e58-ac0b-d138c1fc8361"
      }
     }
    },
    "c9ddb9ab-8443-4fe1-9eac-54a6a1dcb8b3": {
     "id": "c9ddb9ab-8443-4fe1-9eac-54a6a1dcb8b3",
     "prev": "9369157c-1dc2-4878-91cf-a77eb127910a",
     "regions": {
      "fc2a4cc2-789e-4e55-88e9-758e33622c1f": {
       "attrs": {
        "height": 0.8,
        "width": 0.8,
        "x": 0.1,
        "y": 0.1
       },
       "content": {
        "cell": "e8ed7e82-1523-42ea-afa4-c1f58517170b",
        "part": "whole"
       },
       "id": "fc2a4cc2-789e-4e55-88e9-758e33622c1f"
      }
     }
    },
    "eb6362d6-c130-4caf-b068-67df562fc4a2": {
     "id": "eb6362d6-c130-4caf-b068-67df562fc4a2",
     "prev": "4e8ff8fb-dbe7-4696-a621-b9c7c13befd2",
     "regions": {
      "b9eed01c-95ac-496c-98c9-54a3026fed75": {
       "attrs": {
        "height": 0.8,
        "width": 0.8,
        "x": 0.1,
        "y": 0.1
       },
       "content": {
        "cell": "48d0003b-5830-4263-bd6e-e413aa6a6c3f",
        "part": "whole"
       },
       "id": "b9eed01c-95ac-496c-98c9-54a3026fed75"
      }
     }
    },
    "f531737e-b395-4e75-ad2c-1447f508d091": {
     "id": "f531737e-b395-4e75-ad2c-1447f508d091",
     "prev": "5a965009-e807-4eb3-8b4a-f83219f72070",
     "regions": {
      "a1e3da58-4b16-4643-bd8a-3667713fc65b": {
       "attrs": {
        "height": 0.8,
        "width": 0.8,
        "x": 0.1,
        "y": 0.1
       },
       "content": {
        "cell": "45380f11-b691-4089-b20a-c76adba27f9d",
        "part": "whole"
       },
       "id": "a1e3da58-4b16-4643-bd8a-3667713fc65b"
      }
     }
    }
   },
   "themes": {}
  },
  "toc": {
   "navigate_menu": true,
   "number_sections": false,
   "sideBar": true,
   "threshold": 6,
   "toc_cell": true,
   "toc_section_display": "block",
   "toc_window_display": false
  },
  "widgets": {
   "state": {
    "bf04d4e36a0e4896b287bc64e5acf5fd": {
     "views": [
      {
       "cell_index": 16
      }
     ]
    }
   },
   "version": "1.2.0"
  }
 },
 "nbformat": 4,
 "nbformat_minor": 0
}
