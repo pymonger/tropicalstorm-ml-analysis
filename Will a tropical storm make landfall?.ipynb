{
 "cells": [
  {
   "cell_type": "markdown",
   "metadata": {
    "nbpresent": {
     "id": "94172be2-100f-4c2a-86ef-ea4d5f03f770"
    },
    "toc": "true"
   },
   "source": [
    "# Table of Contents\n",
    " <p><div class=\"lev1 toc-item\"><a href=\"#Will-a-tropical-storm-make-landfall?\" data-toc-modified-id=\"Will-a-tropical-storm-make-landfall?-1\"><span class=\"toc-item-num\">1&nbsp;&nbsp;</span>Will a tropical storm make landfall?</a></div><div class=\"lev2 toc-item\"><a href=\"#Generate-the-dataset\" data-toc-modified-id=\"Generate-the-dataset-1.1\"><span class=\"toc-item-num\">1.1&nbsp;&nbsp;</span>Generate the dataset</a></div><div class=\"lev3 toc-item\"><a href=\"#Open-the-source-dataset\" data-toc-modified-id=\"Open-the-source-dataset-1.1.1\"><span class=\"toc-item-num\">1.1.1&nbsp;&nbsp;</span>Open the source dataset</a></div><div class=\"lev3 toc-item\"><a href=\"#Extract,-transform-and--load-features-(ETL)\" data-toc-modified-id=\"Extract,-transform-and--load-features-(ETL)-1.1.2\"><span class=\"toc-item-num\">1.1.2&nbsp;&nbsp;</span>Extract, transform and  load features (ETL)</a></div><div class=\"lev3 toc-item\"><a href=\"#class-label-distribution-of-filtered-source-dataset\" data-toc-modified-id=\"class-label-distribution-of-filtered-source-dataset-1.1.3\"><span class=\"toc-item-num\">1.1.3&nbsp;&nbsp;</span>class label distribution of filtered source dataset</a></div><div class=\"lev3 toc-item\"><a href=\"#Generate-random-sampling-of-each-prediction-(class)-value-and-generate-ARFF-file\" data-toc-modified-id=\"Generate-random-sampling-of-each-prediction-(class)-value-and-generate-ARFF-file-1.1.4\"><span class=\"toc-item-num\">1.1.4&nbsp;&nbsp;</span>Generate random sampling of each prediction (class) value and generate ARFF file</a></div><div class=\"lev3 toc-item\"><a href=\"#class-label-distribution-of-randomly-sampled-datasets-of-each-class-value\" data-toc-modified-id=\"class-label-distribution-of-randomly-sampled-datasets-of-each-class-value-1.1.5\"><span class=\"toc-item-num\">1.1.5&nbsp;&nbsp;</span>class label distribution of randomly sampled datasets of each class value</a></div><div class=\"lev3 toc-item\"><a href=\"#Save-DataFrame-datasets-(all,-landfall-and-nolandfall)-as-tables-in-HDF5\" data-toc-modified-id=\"Save-DataFrame-datasets-(all,-landfall-and-nolandfall)-as-tables-in-HDF5-1.1.6\"><span class=\"toc-item-num\">1.1.6&nbsp;&nbsp;</span>Save DataFrame datasets (all, landfall and nolandfall) as tables in HDF5</a></div><div class=\"lev3 toc-item\"><a href=\"#Visualize-the-dataset-storms-tracks\" data-toc-modified-id=\"Visualize-the-dataset-storms-tracks-1.1.7\"><span class=\"toc-item-num\">1.1.7&nbsp;&nbsp;</span>Visualize the dataset storms tracks</a></div>"
   ]
  },
  {
   "cell_type": "markdown",
   "metadata": {
    "nbpresent": {
     "id": "5b355b78-91b9-4100-beb7-3efbd9988324"
    }
   },
   "source": [
    "* **FA16-BL-INFO-I526-34917**\n",
    "* **Applied Machine Learning**\n",
    "* **Gerald Manipon, MS Data Science student - Indiana University**\n",
    "* **gmanipon@iu.edu**\n",
    "* **this jupyter notebook can be found here: https://github.com/pymonger/tropicalstorm-ml-analysis**"
   ]
  },
  {
   "cell_type": "markdown",
   "metadata": {
    "nbpresent": {
     "id": "e8ed7e82-1523-42ea-afa4-c1f58517170b"
    }
   },
   "source": [
    "# Will a tropical storm make landfall?"
   ]
  },
  {
   "cell_type": "markdown",
   "metadata": {
    "nbpresent": {
     "id": "0e00032f-0d97-447c-99c2-91049571b085"
    }
   },
   "source": [
    "As a native of the Hawaiian Islands, the recent tropical storms (Madeline and Lester) that have threatened the state has sparked a very interesting and personal question. Can we predict wether or not a tropical storm will make landfall and possibly affect the safety and lives of the inhabitants? Currently there are real-time storm tracking models that enable our emergency response agencies to be as responsive as possible and to give up-to-the-minute status on potential threats. However, what does historical data say and can we predict landfall using machine learning on the initial observation of a tropical storm?"
   ]
  },
  {
   "cell_type": "markdown",
   "metadata": {
    "nbpresent": {
     "id": "30d35ee9-f4ae-48fe-88e9-a9b1c29b800f"
    }
   },
   "source": [
    "## Generate the dataset"
   ]
  },
  {
   "cell_type": "markdown",
   "metadata": {
    "nbpresent": {
     "id": "01ef4b2d-69c4-41d4-96bf-e0514859e5b4"
    }
   },
   "source": [
    "The source dataset I will use comes from the IBTrACS (International Best Track Archive for Climate Stewardship) project: https://www.ncdc.noaa.gov/ibtracs/index.php. This project is endorsed by the WMO (World Meteorological Organization) as an \"official archiving and distribution resource for tropical cyclone best track data\". The IBTrACS project provides datasets that:\n",
    "\n",
    "* Contains the most complete global set of historical tropical cyclones available\n",
    "* Combines information from numerous tropical cyclone datasets\n",
    "* Simplifies inter-agency comparisons by providing storm data from multiple sources in one place\n",
    "* Provides data in popular formats to facilitate analysis\n",
    "* Checks the quality of storm inventories, positions, pressures, and wind speeds, passing the information on to the user\n",
    "\n",
    "I will be using the IBTrACS-WMO NetCDF file that contains all storms: https://www.ncdc.noaa.gov/ibtracs/index.php?name=wmo-data. Since NetCDF is a self-describing format, info about the variables contained in this dataset can be introspected. Additional info about the variables is located here: ftp://eclipse.ncdc.noaa.gov/pub/ibtracs/v03r08/wmo/netcdf/README.netcdf.\n",
    "\n",
    "I will be performing some ETL (extraction, transformation and loading) tasks to prepare and filter (remove records with missing values) the source dataset to a derived dataset which I will use for the rest of the semester. The source dataset essentially aggregates every recorded tropical storm from different source agencies and provides time-series information of pertinent variables describing the storm as it progressed through its track. *Since I'm only interested in being able to predict whether or not the storm will make landfall based on the storm's genesis and initial observation, my derived dataset will be composed of features that are essentially the values of the source dataset variables at observation **t<sub>0</sub>**.*\n",
    "\n",
    "The class variable (prediction variable) will be derived from the source dataset's **landfall** variable:\n",
    "\n",
    "* **landfall** { True, False }\n",
    "```\n",
    "    short landfall(storm, time) ;\n",
    "        landfall:long_name = \"Minimum distance to land until next report (0=landfall)\" ;\n",
    "        landfall:units = \"km\" ;\n",
    "        landfall:_FillValue = -999s ;\n",
    "```\n",
    "\n",
    "I will aggregate this variable into a single value of **True** or **False** if it makes landfall at any time in a storm's track.\n",
    "\n",
    "The features I will include from the source dataset are:\n",
    "\n",
    "* **name** (STRING)\n",
    "  ```\n",
    "    char name(storm, ncharnm) ;\n",
    "        name:long_name = \"Storm name\" ;\n",
    "  ```\n",
    "* **genesis_basin** { 0 = NA - North Atlantic, 1 = SA - South Atlantic, 2 = WP - West Pacific, 3 = EP - East Pacific, 4 = SP - South Pacific, 5 = NI - North Indian, 6 = SI - South Indian }\n",
    "  ```\n",
    "    byte genesis_basin(storm) ;\n",
    "        genesis_basin:long_name = \"Basin of genesis\" ;\n",
    "        genesis_basin:units = \" \" ;\n",
    "        genesis_basin:key = \"0 = NA - North Atlantic\\n\",\n",
    "    \"1 = SA - South Atlantic\\n\",\n",
    "    \"2 = WP - West Pacific\\n\",\n",
    "    \"3 = EP - East Pacific\\n\",\n",
    "    \"4 = SP - South Pacific\\n\",\n",
    "    \"5 = NI - North Indian\\n\",\n",
    "    \"6 = SI - South Indian\\n\",\n",
    "    \"7 = AS - Arabian Sea\\n\",\n",
    "    \"8 = BB - Bay of Bengal\\n\",\n",
    "    \"9 = EA - Eastern Australia\\n\",\n",
    "    \"10 = WA - Western Australia\\n\",\n",
    "    \"11 = CP - Central Pacific\\n\",\n",
    "    \"12 = CS - Carribbean Sea\\n\",\n",
    "    \"13 = GM - Gulf of Mexico\\n\",\n",
    "    \"14 = MM - Missing\" ;\n",
    "        genesis_basin:Note = \"Based on where the storm began\" ;\n",
    "  ```\n",
    "  * the additional variable info at ftp://eclipse.ncdc.noaa.gov/pub/ibtracs/v03r08/wmo/netcdf/README.netcdf states that only values 0-6 are used for this variable thus I will be discretizing the values for this feature\n",
    "* **sub_basin** of first observation { 0 = NA - North Atlantic, 1 = SA - South Atlantic, 2 = WP - West Pacific, 3 = EP - East Pacific, 4 = SP - South Pacific, 5 = NI - North Indian, 6 = SI - South Indian, 7 = AS - Arabian Sea, 8 = BB - Bay of Bengal, 9 = EA - Eastern Australia, 10 = WA - Western Australia, 11 = CP - Central Pacific, 12 = CS - Carribbean Sea, 13 = GM - Gulf of Mexico, 14 = MM - Missing }\n",
    "  ```\n",
    "    byte sub_basin(storm, time) ;\n",
    "        sub_basin:long_name = \"Sub-Basin\" ;\n",
    "        sub_basin:units = \" \" ;\n",
    "        sub_basin:key = \"0 = NA - North Atlantic\\n\",\n",
    "    \"1 = SA - South Atlantic\\n\",\n",
    "    \"2 = WP - West Pacific\\n\",\n",
    "    \"3 = EP - East Pacific\\n\",\n",
    "    \"4 = SP - South Pacific\\n\",\n",
    "    \"5 = NI - North Indian\\n\",\n",
    "    \"6 = SI - South Indian\\n\",\n",
    "    \"7 = AS - Arabian Sea\\n\",\n",
    "    \"8 = BB - Bay of Bengal\\n\",\n",
    "    \"9 = EA - Eastern Australia\\n\",\n",
    "    \"10 = WA - Western Australia\\n\",\n",
    "    \"11 = CP - Central Pacific\\n\",\n",
    "    \"12 = CS - Carribbean Sea\\n\",\n",
    "    \"13 = GM - Gulf of Mexico\\n\",\n",
    "    \"14 = MM - Missing\" ;\n",
    "        sub_basin:Note = \"Based on present location\" ;\n",
    "        sub_basin:_FillValue = '\\201' ;\n",
    "  ```\n",
    "  * this feature will remain numeric since there are 14 values (2 more than the limit of 12 discrete variables imposed by the assignment)\n",
    "* **time** of first observation (MJD value) (REAL)\n",
    "  ```\n",
    "    double time_wmo(storm, time) ;\n",
    "        time_wmo:long_name = \"Modified Julian Day\" ;\n",
    "        time_wmo:units = \"days since 1858-11-17 00:00:00\" ;\n",
    "        time_wmo:_FillValue = 9.969209999999999e+36 ;\n",
    "  ```\n",
    "* **lon** (longitude) of first observation (REAL)\n",
    "  ```\n",
    "    short lon_wmo(storm, time) ;\n",
    "        lon_wmo:long_name = \"Storm center longitude\" ;\n",
    "        lon_wmo:units = \"degrees_east\" ;\n",
    "        lon_wmo:scale_factor = 0.0099999998f ;\n",
    "        lon_wmo:_FillValue = -32767s ;\n",
    "  ```\n",
    "* **lat** (latitude) of first observation (REAL)\n",
    "  ```\n",
    "    short lat_wmo(storm, time) ;\n",
    "        lat_wmo:long_name = \"Storm center latitude\" ;\n",
    "        lat_wmo:units = \"degrees_north\" ;\n",
    "        lat_wmo:scale_factor = 0.0099999998f ;\n",
    "        lat_wmo:_FillValue = -32767s ;\n",
    "  ```\n",
    "* **dist2land** (distance to land) of first observation (REAL)\n",
    "  ```\n",
    "    short dist2land(storm, time) ;\n",
    "        dist2land:long_name = \"Distance to land\" ;\n",
    "        dist2land:units = \"km\" ;\n",
    "        dist2land:_FillValue = -999s ;\n",
    "  ```\n",
    "* **msw** (maximum sustained wind) of first observation (REAL)\n",
    "  ```\n",
    "    short pres_wmo(storm, time) ;\n",
    "        pres_wmo:long_name = \"Minimum Central Pressure (MCP)\" ;\n",
    "        pres_wmo:units = \"mb\" ;\n",
    "        pres_wmo:scale_factor = 0.1f ;\n",
    "        pres_wmo:_FillValue = -32767s ;\n",
    "  ```\n",
    "* **mcp** (minimum central pressure) of first observation (REAL)\n",
    "  ```\n",
    "    short wind_wmo(storm, time) ;\n",
    "        wind_wmo:long_name = \"Maximum Sustained Wind (MSW)\" ;\n",
    "        wind_wmo:units = \"kt\" ;\n",
    "        wind_wmo:scale_factor = 0.1f ;\n",
    "        wind_wmo:_FillValue = -32767s ;\n",
    "  ```\n",
    "* **nature** (storm nature) { 0 = TS - Tropical, 1 = SS - Subtropical, 2 = ET - Extratropical, 3 = DS - Disturbance, 4 = MX - Mix of conflicting reports, 5 = NR - Not Reported, 6 = MM - Missing, 7 = - Missing }\n",
    "  ```\n",
    "        nature_wmo:long_name = \"Storm nature\" ;\n",
    "        nature_wmo:key = \"0 = TS - Tropical\\n\",\n",
    "    \"1 = SS - Subtropical\\n\",\n",
    "    \"2 = ET - Extratropical\\n\",\n",
    "    \"3 = DS - Disturbance\\n\",\n",
    "    \"4 = MX - Mix of conflicting reports\\n\",\n",
    "    \"5 = NR - Not Reported\\n\",\n",
    "    \"6 = MM - Missing\\n\",\n",
    "    \"7 =  - Missing\" ;\n",
    "        nature_wmo:Note = \"Based on classification from original sources\" ;\n",
    "        nature_wmo:_FillValue = '\\201' ;\n",
    "  ```\n",
    "  * this feature will be discretized\n",
    "* **track_type** { 0 = main - cylclogenesis to cyclolysis, 1 = merge - cyclogenesis to merger, 2 = split - split to cyclolysis, 3 = other - split to merger }\n",
    "  ```\n",
    "    byte track_type(storm) ;\n",
    "        track_type:long_name = \"Track type\" ;\n",
    "        track_type:key = \"0 = main - cyclogenesis to cyclolysis\\n\",\n",
    "    \"1 = merge - cyclogenesis to merger\\n\",\n",
    "    \"2 = split - split to cyclolysis\\n\",\n",
    "    \"3 = other - split to merger\" ;\n",
    "  ```\n",
    "  * this feature will be discretized\n"
   ]
  },
  {
   "cell_type": "markdown",
   "metadata": {
    "nbpresent": {
     "id": "d5d8feed-6c5f-42d5-91dc-d83062fe54e6"
    }
   },
   "source": [
    "### Open the source dataset"
   ]
  },
  {
   "cell_type": "code",
   "execution_count": 1,
   "metadata": {
    "collapsed": true,
    "nbpresent": {
     "id": "5dcd9a3f-cceb-4a84-9051-ea64648fcb24"
    }
   },
   "outputs": [],
   "source": [
    "import os, sys, re, json, arff\n",
    "from subprocess import check_output\n",
    "import netCDF4 as NC\n",
    "import numpy as np\n",
    "import pandas as pd\n",
    "from ipyleaflet import Map, GeoJSON\n",
    "from astropy.time import Time\n",
    "from IPython.display import display, HTML, Markdown\n",
    "\n",
    "\n",
    "# get netcdf dataset\n",
    "file = \"Allstorms.ibtracs_wmo.v03r08.nc\"\n",
    "ds = NC.Dataset(file)"
   ]
  },
  {
   "cell_type": "markdown",
   "metadata": {
    "nbpresent": {
     "id": "ed5e7cd2-2cfa-4061-b7bb-697aab9d7540"
    }
   },
   "source": [
    "### Extract, transform and  load features (ETL)"
   ]
  },
  {
   "cell_type": "code",
   "execution_count": 2,
   "metadata": {
    "collapsed": false,
    "nbpresent": {
     "id": "f6770ac7-29b7-4f83-9f65-b84d9d2a27c7"
    }
   },
   "outputs": [
    {
     "name": "stderr",
     "output_type": "stream",
     "text": [
      "WARNING: ErfaWarning: ERFA function \"d2dtf\" yielded 1 of \"dubious year (Note 5)\" [astropy._erfa.core]\n"
     ]
    },
    {
     "data": {
      "text/markdown": [
       "### class label distribution of filtered source dataset"
      ],
      "text/plain": [
       "<IPython.core.display.Markdown object>"
      ]
     },
     "metadata": {},
     "output_type": "display_data"
    },
    {
     "data": {
      "text/markdown": [
       "* total storms: 3636"
      ],
      "text/plain": [
       "<IPython.core.display.Markdown object>"
      ]
     },
     "metadata": {},
     "output_type": "display_data"
    },
    {
     "data": {
      "text/markdown": [
       "* total storms with class variable landfall == True: 1655"
      ],
      "text/plain": [
       "<IPython.core.display.Markdown object>"
      ]
     },
     "metadata": {},
     "output_type": "display_data"
    },
    {
     "data": {
      "text/markdown": [
       "* total storms with class variable landfall == False: 1981"
      ],
      "text/plain": [
       "<IPython.core.display.Markdown object>"
      ]
     },
     "metadata": {},
     "output_type": "display_data"
    }
   ],
   "source": [
    "# define dict for discrete features\n",
    "disc_map = {\n",
    "    \"basin\": {\n",
    "         0: \"NA\", # North Atlantic\n",
    "         1: \"SA\", # South Atlantic\n",
    "         2: \"WP\", # West Pacific\n",
    "         3: \"EP\", # East Pacific\n",
    "         4: \"SP\", # South Pacific\n",
    "         5: \"NI\", # North Indian\n",
    "         6: \"SI\", # South Indian\n",
    "         7: \"AS\", # Arabian Sea\n",
    "         8: \"BB\", # Bay of Bengal\n",
    "         9: \"EA\", # Eastern Australia\n",
    "        10: \"WA\", # Western Australia\n",
    "        11: \"CP\", # Central Pacific\n",
    "        12: \"CS\", # Carribbean Sea\n",
    "        13: \"GM\", # Gulf of Mexico\n",
    "        14: \"MM\", # Missing\n",
    "    },\n",
    "    \"nature\": {\n",
    "        0: \"TS\",  # Tropical\n",
    "        1: \"SS\",  # Subtropical\n",
    "        2: \"ET\",  # Extratropical\n",
    "        3: \"DS\",  # Disturbance\n",
    "        4: \"MX\",  # Mix of conflicting reports\n",
    "        5: \"NR\",  # Not Reported\n",
    "        6: \"MM\",  # Missing\n",
    "        7: \"MM2\", # Also Missing\n",
    "    },\n",
    "    \"track_type\": {\n",
    "        0: \"main\",  # cyclogenesis to cyclolysis\n",
    "        1: \"merge\", # cyclogenesis to merger\n",
    "        2: \"split\", # split to cyclolysis\n",
    "        3: \"other\", # split to merger\n",
    "    }\n",
    "}\n",
    "\n",
    "# extract features from each hurricane and save into a list of dicts\n",
    "data = []\n",
    "landfall_count = 0\n",
    "\n",
    "# compile regular expression for matching unnamed storms\n",
    "unnamed_re = re.compile(r'(UNNAMED|NOT NAMED)')\n",
    "\n",
    "for i in range(ds.dimensions['storm'].size):\n",
    "    \n",
    "    # get number of observations\n",
    "    obs = ds.variables['numObs'][i]\n",
    "    if obs <= 2: continue # skip if there are 2 or less observations\n",
    "    \n",
    "    # extract filterable features first\n",
    "    name = np.array_str(NC.chartostring(ds.variables['name'][i,:]))[2:-1]\n",
    "    genesis_basin = ds.variables['genesis_basin'][i]\n",
    "    sub_basin = ds.variables['sub_basin'][i,:obs-1]\n",
    "    nature = ds.variables['nature_wmo'][i:,obs-1]\n",
    "    \n",
    "    # skip records that have missing values in features\n",
    "    if genesis_basin == 14:\n",
    "        continue\n",
    "    # skipping this filter; this filters out the east pacific storms\n",
    "    #if sub_basin[0] == 14:\n",
    "    #    continue\n",
    "    if nature[0] in (4, 5, 6, 7):\n",
    "        continue\n",
    "        \n",
    "    # skip records with unnamed storms\n",
    "    if unnamed_re.search(name): continue\n",
    "    \n",
    "    # extract the rest of the features\n",
    "    time = ds.variables['time_wmo'][i,:obs-1]\n",
    "    time_iso = Time(time, format='mjd', scale='utc')\n",
    "    \n",
    "    # extract lon and handle wrapping issue\n",
    "    lon = ds.variables['lon_wmo'][i,:obs-1]\n",
    "    lon_diff = lon[0] - lon[-1]\n",
    "    if lon_diff > 180.:\n",
    "        lon[np.where(lon > 0)] -= 360.\n",
    "    elif lon_diff < 180.:\n",
    "        lon[np.where(lon < 0)] += 360.\n",
    "        \n",
    "    lat = ds.variables['lat_wmo'][i,:obs-1]\n",
    "    dist2land = ds.variables['dist2land'][i,:obs-1]\n",
    "    msw = ds.variables['wind_wmo'][i,:obs-1]\n",
    "    mcp = ds.variables['pres_wmo'][i,:obs-1]\n",
    "    tt = ds.variables['track_type'][i]\n",
    "    landfall = (ds.variables['landfall'][i,:obs-1] == 0).any()\n",
    "    \n",
    "    # create GeoJSON of storm track\n",
    "    ls = { \n",
    "        \"type\": \"LineString\",\n",
    "        \"coordinates\": np.dstack((lon, lat))[0].tolist(),\n",
    "    }\n",
    "    \n",
    "    # create feature for leaflet display;\n",
    "    # stuff features into a message info for on_hover display\n",
    "    msg = \"{} {} {} {} {} {} {} {} {} {} {} {} {}\".format(i, name, obs, genesis_basin, sub_basin[0],\n",
    "                                                          time_iso[0].iso, lon[0], lat[0], dist2land[0],\n",
    "                                                          msw[0], mcp[0], nature[0], tt, landfall)\n",
    "    ls_feature = { \n",
    "        \"type\": \"Feature\",\n",
    "        \"properties\": { \"msg\": msg },\n",
    "        \"geometry\": ls,\n",
    "    }\n",
    "    \n",
    "    # create data dict\n",
    "    data.append({\n",
    "        \"name\": name,\n",
    "        \"genesis_basin\": disc_map['basin'][genesis_basin],\n",
    "        \"sub_basin\": disc_map['basin'][sub_basin[0]],\n",
    "        \"time\": time[0],\n",
    "        \"lon\": lon[0],\n",
    "        \"lat\": lat[0],\n",
    "        \"dist2land\": dist2land[0],\n",
    "        \"msw\": msw[0],\n",
    "        \"mcp\": mcp[0],\n",
    "        \"nature\": disc_map['nature'][nature[0]],\n",
    "        \"track_type\": disc_map['track_type'][tt],\n",
    "        \"landfall\": landfall,\n",
    "        \"feature\": json.dumps(ls_feature),\n",
    "    })\n",
    "    \n",
    "    # tally landfall\n",
    "    if landfall: landfall_count += 1\n",
    "    \n",
    "# create data frame\n",
    "df = pd.DataFrame(data)\n",
    "\n",
    "# print class label distribution of filtered source dataset\n",
    "display(Markdown(\"### class label distribution of filtered source dataset\"))\n",
    "display(Markdown(\"* total storms: {}\".format(len(data))))\n",
    "display(Markdown(\"* total storms with class variable landfall == True: {}\".format(landfall_count)))\n",
    "display(Markdown(\"* total storms with class variable landfall == False: {}\".format(len(data)-landfall_count)))\n"
   ]
  },
  {
   "cell_type": "code",
   "execution_count": 3,
   "metadata": {
    "collapsed": false,
    "nbpresent": {
     "id": "3a0fc7e6-4703-4a12-9579-376b59ae6055"
    }
   },
   "outputs": [
    {
     "data": {
      "text/html": [
       "<div>\n",
       "<table border=\"1\" class=\"dataframe\">\n",
       "  <thead>\n",
       "    <tr style=\"text-align: right;\">\n",
       "      <th></th>\n",
       "      <th>name</th>\n",
       "      <th>genesis_basin</th>\n",
       "      <th>sub_basin</th>\n",
       "      <th>time</th>\n",
       "      <th>lon</th>\n",
       "      <th>lat</th>\n",
       "      <th>dist2land</th>\n",
       "      <th>msw</th>\n",
       "      <th>mcp</th>\n",
       "      <th>nature</th>\n",
       "      <th>track_type</th>\n",
       "      <th>landfall</th>\n",
       "    </tr>\n",
       "  </thead>\n",
       "  <tbody>\n",
       "    <tr>\n",
       "      <th>0</th>\n",
       "      <td>HIKI</td>\n",
       "      <td>EP</td>\n",
       "      <td>CP</td>\n",
       "      <td>33505.00</td>\n",
       "      <td>215.500000</td>\n",
       "      <td>14.500000</td>\n",
       "      <td>1229</td>\n",
       "      <td>25.0</td>\n",
       "      <td>0.0</td>\n",
       "      <td>TS</td>\n",
       "      <td>main</td>\n",
       "      <td>False</td>\n",
       "    </tr>\n",
       "    <tr>\n",
       "      <th>1</th>\n",
       "      <td>ABLE</td>\n",
       "      <td>NA</td>\n",
       "      <td>NA</td>\n",
       "      <td>33505.00</td>\n",
       "      <td>304.500000</td>\n",
       "      <td>17.100000</td>\n",
       "      <td>930</td>\n",
       "      <td>35.0</td>\n",
       "      <td>0.0</td>\n",
       "      <td>ET</td>\n",
       "      <td>main</td>\n",
       "      <td>True</td>\n",
       "    </tr>\n",
       "    <tr>\n",
       "      <th>2</th>\n",
       "      <td>BAKER</td>\n",
       "      <td>NA</td>\n",
       "      <td>NA</td>\n",
       "      <td>33511.50</td>\n",
       "      <td>306.000000</td>\n",
       "      <td>12.000000</td>\n",
       "      <td>683</td>\n",
       "      <td>30.0</td>\n",
       "      <td>0.0</td>\n",
       "      <td>TS</td>\n",
       "      <td>main</td>\n",
       "      <td>True</td>\n",
       "    </tr>\n",
       "    <tr>\n",
       "      <th>3</th>\n",
       "      <td>CHARLIE</td>\n",
       "      <td>NA</td>\n",
       "      <td>NA</td>\n",
       "      <td>33514.50</td>\n",
       "      <td>333.600006</td>\n",
       "      <td>11.099999</td>\n",
       "      <td>1045</td>\n",
       "      <td>35.0</td>\n",
       "      <td>0.0</td>\n",
       "      <td>ET</td>\n",
       "      <td>main</td>\n",
       "      <td>False</td>\n",
       "    </tr>\n",
       "    <tr>\n",
       "      <th>4</th>\n",
       "      <td>DOG</td>\n",
       "      <td>NA</td>\n",
       "      <td>NA</td>\n",
       "      <td>33523.75</td>\n",
       "      <td>304.399994</td>\n",
       "      <td>15.200000</td>\n",
       "      <td>772</td>\n",
       "      <td>80.0</td>\n",
       "      <td>0.0</td>\n",
       "      <td>ET</td>\n",
       "      <td>main</td>\n",
       "      <td>True</td>\n",
       "    </tr>\n",
       "    <tr>\n",
       "      <th>5</th>\n",
       "      <td>EASY</td>\n",
       "      <td>NA</td>\n",
       "      <td>CS</td>\n",
       "      <td>33525.25</td>\n",
       "      <td>276.799988</td>\n",
       "      <td>19.699999</td>\n",
       "      <td>194</td>\n",
       "      <td>40.0</td>\n",
       "      <td>0.0</td>\n",
       "      <td>TS</td>\n",
       "      <td>main</td>\n",
       "      <td>True</td>\n",
       "    </tr>\n",
       "    <tr>\n",
       "      <th>6</th>\n",
       "      <td>FOX</td>\n",
       "      <td>NA</td>\n",
       "      <td>NA</td>\n",
       "      <td>33532.25</td>\n",
       "      <td>319.000000</td>\n",
       "      <td>15.500000</td>\n",
       "      <td>1686</td>\n",
       "      <td>40.0</td>\n",
       "      <td>0.0</td>\n",
       "      <td>ET</td>\n",
       "      <td>main</td>\n",
       "      <td>False</td>\n",
       "    </tr>\n",
       "    <tr>\n",
       "      <th>7</th>\n",
       "      <td>GEORGE</td>\n",
       "      <td>NA</td>\n",
       "      <td>NA</td>\n",
       "      <td>33551.25</td>\n",
       "      <td>309.000000</td>\n",
       "      <td>24.600000</td>\n",
       "      <td>1660</td>\n",
       "      <td>35.0</td>\n",
       "      <td>0.0</td>\n",
       "      <td>ET</td>\n",
       "      <td>main</td>\n",
       "      <td>False</td>\n",
       "    </tr>\n",
       "    <tr>\n",
       "      <th>8</th>\n",
       "      <td>HOW</td>\n",
       "      <td>NA</td>\n",
       "      <td>GM</td>\n",
       "      <td>33555.25</td>\n",
       "      <td>271.600006</td>\n",
       "      <td>25.599998</td>\n",
       "      <td>385</td>\n",
       "      <td>30.0</td>\n",
       "      <td>0.0</td>\n",
       "      <td>TS</td>\n",
       "      <td>main</td>\n",
       "      <td>True</td>\n",
       "    </tr>\n",
       "    <tr>\n",
       "      <th>9</th>\n",
       "      <td>ITEM</td>\n",
       "      <td>NA</td>\n",
       "      <td>GM</td>\n",
       "      <td>33562.25</td>\n",
       "      <td>269.600006</td>\n",
       "      <td>23.299999</td>\n",
       "      <td>240</td>\n",
       "      <td>35.0</td>\n",
       "      <td>0.0</td>\n",
       "      <td>TS</td>\n",
       "      <td>main</td>\n",
       "      <td>True</td>\n",
       "    </tr>\n",
       "    <tr>\n",
       "      <th>10</th>\n",
       "      <td>JIG</td>\n",
       "      <td>NA</td>\n",
       "      <td>NA</td>\n",
       "      <td>33565.50</td>\n",
       "      <td>313.000000</td>\n",
       "      <td>22.400000</td>\n",
       "      <td>1982</td>\n",
       "      <td>40.0</td>\n",
       "      <td>0.0</td>\n",
       "      <td>ET</td>\n",
       "      <td>main</td>\n",
       "      <td>False</td>\n",
       "    </tr>\n",
       "    <tr>\n",
       "      <th>11</th>\n",
       "      <td>KING</td>\n",
       "      <td>NA</td>\n",
       "      <td>CS</td>\n",
       "      <td>33567.25</td>\n",
       "      <td>275.799988</td>\n",
       "      <td>16.000000</td>\n",
       "      <td>24</td>\n",
       "      <td>25.0</td>\n",
       "      <td>0.0</td>\n",
       "      <td>TS</td>\n",
       "      <td>main</td>\n",
       "      <td>True</td>\n",
       "    </tr>\n",
       "    <tr>\n",
       "      <th>12</th>\n",
       "      <td>LOVE</td>\n",
       "      <td>NA</td>\n",
       "      <td>GM</td>\n",
       "      <td>33572.00</td>\n",
       "      <td>270.500000</td>\n",
       "      <td>25.500000</td>\n",
       "      <td>392</td>\n",
       "      <td>40.0</td>\n",
       "      <td>0.0</td>\n",
       "      <td>ET</td>\n",
       "      <td>main</td>\n",
       "      <td>True</td>\n",
       "    </tr>\n",
       "    <tr>\n",
       "      <th>13</th>\n",
       "      <td>MIKE</td>\n",
       "      <td>NA</td>\n",
       "      <td>NA</td>\n",
       "      <td>33579.50</td>\n",
       "      <td>317.799988</td>\n",
       "      <td>24.699999</td>\n",
       "      <td>2448</td>\n",
       "      <td>25.0</td>\n",
       "      <td>0.0</td>\n",
       "      <td>TS</td>\n",
       "      <td>main</td>\n",
       "      <td>False</td>\n",
       "    </tr>\n",
       "    <tr>\n",
       "      <th>14</th>\n",
       "      <td>01W:GEORGIA</td>\n",
       "      <td>WP</td>\n",
       "      <td>MM</td>\n",
       "      <td>33723.25</td>\n",
       "      <td>158.300003</td>\n",
       "      <td>5.700000</td>\n",
       "      <td>1227</td>\n",
       "      <td>0.0</td>\n",
       "      <td>1002.0</td>\n",
       "      <td>TS</td>\n",
       "      <td>main</td>\n",
       "      <td>False</td>\n",
       "    </tr>\n",
       "    <tr>\n",
       "      <th>15</th>\n",
       "      <td>02W:HOPE</td>\n",
       "      <td>WP</td>\n",
       "      <td>MM</td>\n",
       "      <td>33751.00</td>\n",
       "      <td>151.500000</td>\n",
       "      <td>8.000000</td>\n",
       "      <td>1200</td>\n",
       "      <td>0.0</td>\n",
       "      <td>1002.0</td>\n",
       "      <td>TS</td>\n",
       "      <td>main</td>\n",
       "      <td>False</td>\n",
       "    </tr>\n",
       "    <tr>\n",
       "      <th>16</th>\n",
       "      <td>03W:IRIS</td>\n",
       "      <td>WP</td>\n",
       "      <td>MM</td>\n",
       "      <td>33764.50</td>\n",
       "      <td>144.899994</td>\n",
       "      <td>6.300000</td>\n",
       "      <td>960</td>\n",
       "      <td>0.0</td>\n",
       "      <td>1008.0</td>\n",
       "      <td>ET</td>\n",
       "      <td>main</td>\n",
       "      <td>True</td>\n",
       "    </tr>\n",
       "    <tr>\n",
       "      <th>17</th>\n",
       "      <td>04W:JOAN</td>\n",
       "      <td>WP</td>\n",
       "      <td>MM</td>\n",
       "      <td>33772.00</td>\n",
       "      <td>157.000000</td>\n",
       "      <td>6.500000</td>\n",
       "      <td>1227</td>\n",
       "      <td>0.0</td>\n",
       "      <td>1005.0</td>\n",
       "      <td>ET</td>\n",
       "      <td>main</td>\n",
       "      <td>False</td>\n",
       "    </tr>\n",
       "    <tr>\n",
       "      <th>18</th>\n",
       "      <td>ABLE</td>\n",
       "      <td>NA</td>\n",
       "      <td>NA</td>\n",
       "      <td>33782.00</td>\n",
       "      <td>292.000000</td>\n",
       "      <td>32.000000</td>\n",
       "      <td>809</td>\n",
       "      <td>30.0</td>\n",
       "      <td>0.0</td>\n",
       "      <td>TS</td>\n",
       "      <td>main</td>\n",
       "      <td>False</td>\n",
       "    </tr>\n",
       "    <tr>\n",
       "      <th>19</th>\n",
       "      <td>05W:KATE</td>\n",
       "      <td>WP</td>\n",
       "      <td>MM</td>\n",
       "      <td>33823.25</td>\n",
       "      <td>135.000000</td>\n",
       "      <td>11.000000</td>\n",
       "      <td>984</td>\n",
       "      <td>0.0</td>\n",
       "      <td>1006.0</td>\n",
       "      <td>ET</td>\n",
       "      <td>main</td>\n",
       "      <td>True</td>\n",
       "    </tr>\n",
       "    <tr>\n",
       "      <th>20</th>\n",
       "      <td>06W:LOUISE</td>\n",
       "      <td>WP</td>\n",
       "      <td>MM</td>\n",
       "      <td>33853.25</td>\n",
       "      <td>140.399994</td>\n",
       "      <td>10.500000</td>\n",
       "      <td>1360</td>\n",
       "      <td>0.0</td>\n",
       "      <td>963.0</td>\n",
       "      <td>TS</td>\n",
       "      <td>main</td>\n",
       "      <td>True</td>\n",
       "    </tr>\n",
       "    <tr>\n",
       "      <th>21</th>\n",
       "      <td>BAKER</td>\n",
       "      <td>NA</td>\n",
       "      <td>NA</td>\n",
       "      <td>33860.25</td>\n",
       "      <td>307.100006</td>\n",
       "      <td>20.900000</td>\n",
       "      <td>1358</td>\n",
       "      <td>30.0</td>\n",
       "      <td>0.0</td>\n",
       "      <td>TS</td>\n",
       "      <td>main</td>\n",
       "      <td>False</td>\n",
       "    </tr>\n",
       "    <tr>\n",
       "      <th>22</th>\n",
       "      <td>CHARLIE</td>\n",
       "      <td>NA</td>\n",
       "      <td>NA</td>\n",
       "      <td>33870.00</td>\n",
       "      <td>315.899994</td>\n",
       "      <td>12.099999</td>\n",
       "      <td>1179</td>\n",
       "      <td>30.0</td>\n",
       "      <td>0.0</td>\n",
       "      <td>TS</td>\n",
       "      <td>main</td>\n",
       "      <td>True</td>\n",
       "    </tr>\n",
       "    <tr>\n",
       "      <th>23</th>\n",
       "      <td>DOG</td>\n",
       "      <td>NA</td>\n",
       "      <td>NA</td>\n",
       "      <td>33885.25</td>\n",
       "      <td>334.399994</td>\n",
       "      <td>12.300000</td>\n",
       "      <td>916</td>\n",
       "      <td>25.0</td>\n",
       "      <td>0.0</td>\n",
       "      <td>TS</td>\n",
       "      <td>main</td>\n",
       "      <td>False</td>\n",
       "    </tr>\n",
       "    <tr>\n",
       "      <th>24</th>\n",
       "      <td>EASY</td>\n",
       "      <td>NA</td>\n",
       "      <td>NA</td>\n",
       "      <td>33890.25</td>\n",
       "      <td>328.000000</td>\n",
       "      <td>12.500000</td>\n",
       "      <td>1586</td>\n",
       "      <td>30.0</td>\n",
       "      <td>0.0</td>\n",
       "      <td>ET</td>\n",
       "      <td>main</td>\n",
       "      <td>False</td>\n",
       "    </tr>\n",
       "    <tr>\n",
       "      <th>25</th>\n",
       "      <td>FOX</td>\n",
       "      <td>NA</td>\n",
       "      <td>NA</td>\n",
       "      <td>33891.75</td>\n",
       "      <td>339.700012</td>\n",
       "      <td>12.599999</td>\n",
       "      <td>380</td>\n",
       "      <td>30.0</td>\n",
       "      <td>0.0</td>\n",
       "      <td>ET</td>\n",
       "      <td>main</td>\n",
       "      <td>False</td>\n",
       "    </tr>\n",
       "    <tr>\n",
       "      <th>26</th>\n",
       "      <td>10W:PAT</td>\n",
       "      <td>WP</td>\n",
       "      <td>MM</td>\n",
       "      <td>33909.00</td>\n",
       "      <td>137.000000</td>\n",
       "      <td>8.000000</td>\n",
       "      <td>987</td>\n",
       "      <td>0.0</td>\n",
       "      <td>1008.0</td>\n",
       "      <td>ET</td>\n",
       "      <td>main</td>\n",
       "      <td>True</td>\n",
       "    </tr>\n",
       "    <tr>\n",
       "      <th>27</th>\n",
       "      <td>GEORGE</td>\n",
       "      <td>NA</td>\n",
       "      <td>GM</td>\n",
       "      <td>33908.75</td>\n",
       "      <td>266.799988</td>\n",
       "      <td>19.400000</td>\n",
       "      <td>103</td>\n",
       "      <td>30.0</td>\n",
       "      <td>0.0</td>\n",
       "      <td>TS</td>\n",
       "      <td>main</td>\n",
       "      <td>True</td>\n",
       "    </tr>\n",
       "    <tr>\n",
       "      <th>28</th>\n",
       "      <td>HOW</td>\n",
       "      <td>NA</td>\n",
       "      <td>CS</td>\n",
       "      <td>33918.00</td>\n",
       "      <td>274.200012</td>\n",
       "      <td>20.199999</td>\n",
       "      <td>132</td>\n",
       "      <td>25.0</td>\n",
       "      <td>0.0</td>\n",
       "      <td>ET</td>\n",
       "      <td>main</td>\n",
       "      <td>True</td>\n",
       "    </tr>\n",
       "    <tr>\n",
       "      <th>29</th>\n",
       "      <td>11W:RUTH</td>\n",
       "      <td>WP</td>\n",
       "      <td>MM</td>\n",
       "      <td>33927.00</td>\n",
       "      <td>144.399994</td>\n",
       "      <td>11.700000</td>\n",
       "      <td>1565</td>\n",
       "      <td>0.0</td>\n",
       "      <td>1002.0</td>\n",
       "      <td>ET</td>\n",
       "      <td>main</td>\n",
       "      <td>True</td>\n",
       "    </tr>\n",
       "    <tr>\n",
       "      <th>...</th>\n",
       "      <td>...</td>\n",
       "      <td>...</td>\n",
       "      <td>...</td>\n",
       "      <td>...</td>\n",
       "      <td>...</td>\n",
       "      <td>...</td>\n",
       "      <td>...</td>\n",
       "      <td>...</td>\n",
       "      <td>...</td>\n",
       "      <td>...</td>\n",
       "      <td>...</td>\n",
       "      <td>...</td>\n",
       "    </tr>\n",
       "    <tr>\n",
       "      <th>3606</th>\n",
       "      <td>ISELLE</td>\n",
       "      <td>EP</td>\n",
       "      <td>MM</td>\n",
       "      <td>56868.50</td>\n",
       "      <td>242.100006</td>\n",
       "      <td>11.300000</td>\n",
       "      <td>1544</td>\n",
       "      <td>20.0</td>\n",
       "      <td>1010.0</td>\n",
       "      <td>TS</td>\n",
       "      <td>main</td>\n",
       "      <td>False</td>\n",
       "    </tr>\n",
       "    <tr>\n",
       "      <th>3607</th>\n",
       "      <td>JULIO</td>\n",
       "      <td>EP</td>\n",
       "      <td>MM</td>\n",
       "      <td>56871.00</td>\n",
       "      <td>248.800003</td>\n",
       "      <td>12.500000</td>\n",
       "      <td>1015</td>\n",
       "      <td>25.0</td>\n",
       "      <td>1008.0</td>\n",
       "      <td>TS</td>\n",
       "      <td>main</td>\n",
       "      <td>False</td>\n",
       "    </tr>\n",
       "    <tr>\n",
       "      <th>3608</th>\n",
       "      <td>KARINA</td>\n",
       "      <td>EP</td>\n",
       "      <td>MM</td>\n",
       "      <td>56881.50</td>\n",
       "      <td>255.000000</td>\n",
       "      <td>15.099999</td>\n",
       "      <td>392</td>\n",
       "      <td>25.0</td>\n",
       "      <td>1008.0</td>\n",
       "      <td>DS</td>\n",
       "      <td>main</td>\n",
       "      <td>False</td>\n",
       "    </tr>\n",
       "    <tr>\n",
       "      <th>3609</th>\n",
       "      <td>LOWELL</td>\n",
       "      <td>EP</td>\n",
       "      <td>MM</td>\n",
       "      <td>56886.00</td>\n",
       "      <td>246.300003</td>\n",
       "      <td>16.000000</td>\n",
       "      <td>863</td>\n",
       "      <td>20.0</td>\n",
       "      <td>1008.0</td>\n",
       "      <td>DS</td>\n",
       "      <td>main</td>\n",
       "      <td>False</td>\n",
       "    </tr>\n",
       "    <tr>\n",
       "      <th>3610</th>\n",
       "      <td>MARIE</td>\n",
       "      <td>EP</td>\n",
       "      <td>MM</td>\n",
       "      <td>56891.00</td>\n",
       "      <td>261.200012</td>\n",
       "      <td>12.300000</td>\n",
       "      <td>428</td>\n",
       "      <td>30.0</td>\n",
       "      <td>1007.0</td>\n",
       "      <td>DS</td>\n",
       "      <td>main</td>\n",
       "      <td>False</td>\n",
       "    </tr>\n",
       "    <tr>\n",
       "      <th>3611</th>\n",
       "      <td>CRISTOBAL</td>\n",
       "      <td>NA</td>\n",
       "      <td>NA</td>\n",
       "      <td>56892.75</td>\n",
       "      <td>287.799988</td>\n",
       "      <td>21.500000</td>\n",
       "      <td>89</td>\n",
       "      <td>30.0</td>\n",
       "      <td>1005.0</td>\n",
       "      <td>ET</td>\n",
       "      <td>main</td>\n",
       "      <td>True</td>\n",
       "    </tr>\n",
       "    <tr>\n",
       "      <th>3612</th>\n",
       "      <td>DOLLY</td>\n",
       "      <td>NA</td>\n",
       "      <td>GM</td>\n",
       "      <td>56901.50</td>\n",
       "      <td>267.700012</td>\n",
       "      <td>19.199999</td>\n",
       "      <td>67</td>\n",
       "      <td>25.0</td>\n",
       "      <td>1009.0</td>\n",
       "      <td>DS</td>\n",
       "      <td>main</td>\n",
       "      <td>True</td>\n",
       "    </tr>\n",
       "    <tr>\n",
       "      <th>3613</th>\n",
       "      <td>NORBERT</td>\n",
       "      <td>EP</td>\n",
       "      <td>MM</td>\n",
       "      <td>56902.50</td>\n",
       "      <td>253.500000</td>\n",
       "      <td>17.000000</td>\n",
       "      <td>304</td>\n",
       "      <td>35.0</td>\n",
       "      <td>1004.0</td>\n",
       "      <td>DS</td>\n",
       "      <td>main</td>\n",
       "      <td>False</td>\n",
       "    </tr>\n",
       "    <tr>\n",
       "      <th>3614</th>\n",
       "      <td>FENGSHEN</td>\n",
       "      <td>WP</td>\n",
       "      <td>MM</td>\n",
       "      <td>56905.50</td>\n",
       "      <td>127.599998</td>\n",
       "      <td>20.299999</td>\n",
       "      <td>595</td>\n",
       "      <td>0.0</td>\n",
       "      <td>1004.0</td>\n",
       "      <td>ET</td>\n",
       "      <td>main</td>\n",
       "      <td>False</td>\n",
       "    </tr>\n",
       "    <tr>\n",
       "      <th>3615</th>\n",
       "      <td>SIXTEEN</td>\n",
       "      <td>EP</td>\n",
       "      <td>MM</td>\n",
       "      <td>56910.25</td>\n",
       "      <td>243.500000</td>\n",
       "      <td>12.500000</td>\n",
       "      <td>1351</td>\n",
       "      <td>25.0</td>\n",
       "      <td>1009.0</td>\n",
       "      <td>DS</td>\n",
       "      <td>main</td>\n",
       "      <td>False</td>\n",
       "    </tr>\n",
       "    <tr>\n",
       "      <th>3616</th>\n",
       "      <td>ODILE</td>\n",
       "      <td>EP</td>\n",
       "      <td>MM</td>\n",
       "      <td>56909.50</td>\n",
       "      <td>259.899994</td>\n",
       "      <td>13.500000</td>\n",
       "      <td>352</td>\n",
       "      <td>25.0</td>\n",
       "      <td>1007.0</td>\n",
       "      <td>TS</td>\n",
       "      <td>main</td>\n",
       "      <td>True</td>\n",
       "    </tr>\n",
       "    <tr>\n",
       "      <th>3617</th>\n",
       "      <td>KALMAEGI</td>\n",
       "      <td>WP</td>\n",
       "      <td>MM</td>\n",
       "      <td>56911.75</td>\n",
       "      <td>134.000000</td>\n",
       "      <td>13.500000</td>\n",
       "      <td>933</td>\n",
       "      <td>0.0</td>\n",
       "      <td>1004.0</td>\n",
       "      <td>TS</td>\n",
       "      <td>main</td>\n",
       "      <td>True</td>\n",
       "    </tr>\n",
       "    <tr>\n",
       "      <th>3618</th>\n",
       "      <td>EDOUARD</td>\n",
       "      <td>NA</td>\n",
       "      <td>NA</td>\n",
       "      <td>56910.75</td>\n",
       "      <td>326.799988</td>\n",
       "      <td>13.700000</td>\n",
       "      <td>1696</td>\n",
       "      <td>25.0</td>\n",
       "      <td>1009.0</td>\n",
       "      <td>DS</td>\n",
       "      <td>main</td>\n",
       "      <td>False</td>\n",
       "    </tr>\n",
       "    <tr>\n",
       "      <th>3619</th>\n",
       "      <td>POLO</td>\n",
       "      <td>EP</td>\n",
       "      <td>MM</td>\n",
       "      <td>56916.00</td>\n",
       "      <td>262.399994</td>\n",
       "      <td>11.400000</td>\n",
       "      <td>482</td>\n",
       "      <td>35.0</td>\n",
       "      <td>1007.0</td>\n",
       "      <td>DS</td>\n",
       "      <td>main</td>\n",
       "      <td>False</td>\n",
       "    </tr>\n",
       "    <tr>\n",
       "      <th>3620</th>\n",
       "      <td>FUNG-WONG</td>\n",
       "      <td>WP</td>\n",
       "      <td>MM</td>\n",
       "      <td>56917.00</td>\n",
       "      <td>135.000000</td>\n",
       "      <td>12.599999</td>\n",
       "      <td>1017</td>\n",
       "      <td>0.0</td>\n",
       "      <td>1002.0</td>\n",
       "      <td>ET</td>\n",
       "      <td>main</td>\n",
       "      <td>True</td>\n",
       "    </tr>\n",
       "    <tr>\n",
       "      <th>3621</th>\n",
       "      <td>RACHEL</td>\n",
       "      <td>EP</td>\n",
       "      <td>MM</td>\n",
       "      <td>56924.00</td>\n",
       "      <td>257.399994</td>\n",
       "      <td>14.500000</td>\n",
       "      <td>352</td>\n",
       "      <td>30.0</td>\n",
       "      <td>1006.0</td>\n",
       "      <td>DS</td>\n",
       "      <td>main</td>\n",
       "      <td>False</td>\n",
       "    </tr>\n",
       "    <tr>\n",
       "      <th>3622</th>\n",
       "      <td>KAMMURI</td>\n",
       "      <td>WP</td>\n",
       "      <td>MM</td>\n",
       "      <td>56923.50</td>\n",
       "      <td>149.599991</td>\n",
       "      <td>17.900000</td>\n",
       "      <td>2126</td>\n",
       "      <td>0.0</td>\n",
       "      <td>1004.0</td>\n",
       "      <td>ET</td>\n",
       "      <td>main</td>\n",
       "      <td>False</td>\n",
       "    </tr>\n",
       "    <tr>\n",
       "      <th>3623</th>\n",
       "      <td>PHANFONE</td>\n",
       "      <td>WP</td>\n",
       "      <td>MM</td>\n",
       "      <td>56928.25</td>\n",
       "      <td>157.099991</td>\n",
       "      <td>11.000000</td>\n",
       "      <td>1681</td>\n",
       "      <td>0.0</td>\n",
       "      <td>1004.0</td>\n",
       "      <td>ET</td>\n",
       "      <td>main</td>\n",
       "      <td>True</td>\n",
       "    </tr>\n",
       "    <tr>\n",
       "      <th>3624</th>\n",
       "      <td>SIMON</td>\n",
       "      <td>EP</td>\n",
       "      <td>MM</td>\n",
       "      <td>56930.50</td>\n",
       "      <td>259.899994</td>\n",
       "      <td>14.700000</td>\n",
       "      <td>227</td>\n",
       "      <td>25.0</td>\n",
       "      <td>1008.0</td>\n",
       "      <td>DS</td>\n",
       "      <td>main</td>\n",
       "      <td>True</td>\n",
       "    </tr>\n",
       "    <tr>\n",
       "      <th>3625</th>\n",
       "      <td>VONGFONG</td>\n",
       "      <td>WP</td>\n",
       "      <td>MM</td>\n",
       "      <td>56932.50</td>\n",
       "      <td>162.099991</td>\n",
       "      <td>7.300000</td>\n",
       "      <td>1625</td>\n",
       "      <td>0.0</td>\n",
       "      <td>1006.0</td>\n",
       "      <td>ET</td>\n",
       "      <td>main</td>\n",
       "      <td>True</td>\n",
       "    </tr>\n",
       "    <tr>\n",
       "      <th>3626</th>\n",
       "      <td>FAY</td>\n",
       "      <td>NA</td>\n",
       "      <td>NA</td>\n",
       "      <td>56940.00</td>\n",
       "      <td>298.799988</td>\n",
       "      <td>22.000000</td>\n",
       "      <td>610</td>\n",
       "      <td>35.0</td>\n",
       "      <td>1007.0</td>\n",
       "      <td>TS</td>\n",
       "      <td>main</td>\n",
       "      <td>False</td>\n",
       "    </tr>\n",
       "    <tr>\n",
       "      <th>3627</th>\n",
       "      <td>ANA</td>\n",
       "      <td>EP</td>\n",
       "      <td>MM</td>\n",
       "      <td>56940.50</td>\n",
       "      <td>231.300003</td>\n",
       "      <td>9.700000</td>\n",
       "      <td>2429</td>\n",
       "      <td>20.0</td>\n",
       "      <td>1009.0</td>\n",
       "      <td>ET</td>\n",
       "      <td>main</td>\n",
       "      <td>False</td>\n",
       "    </tr>\n",
       "    <tr>\n",
       "      <th>3628</th>\n",
       "      <td>GONZALO</td>\n",
       "      <td>NA</td>\n",
       "      <td>NA</td>\n",
       "      <td>56941.75</td>\n",
       "      <td>305.100006</td>\n",
       "      <td>16.400000</td>\n",
       "      <td>917</td>\n",
       "      <td>25.0</td>\n",
       "      <td>1010.0</td>\n",
       "      <td>ET</td>\n",
       "      <td>main</td>\n",
       "      <td>False</td>\n",
       "    </tr>\n",
       "    <tr>\n",
       "      <th>3629</th>\n",
       "      <td>TRUDY</td>\n",
       "      <td>EP</td>\n",
       "      <td>MM</td>\n",
       "      <td>56947.25</td>\n",
       "      <td>261.399994</td>\n",
       "      <td>13.900000</td>\n",
       "      <td>250</td>\n",
       "      <td>25.0</td>\n",
       "      <td>1007.0</td>\n",
       "      <td>TS</td>\n",
       "      <td>main</td>\n",
       "      <td>True</td>\n",
       "    </tr>\n",
       "    <tr>\n",
       "      <th>3630</th>\n",
       "      <td>HANNA:INVEST</td>\n",
       "      <td>NA</td>\n",
       "      <td>GM</td>\n",
       "      <td>56951.00</td>\n",
       "      <td>264.700012</td>\n",
       "      <td>19.500000</td>\n",
       "      <td>88</td>\n",
       "      <td>25.0</td>\n",
       "      <td>1002.0</td>\n",
       "      <td>DS</td>\n",
       "      <td>main</td>\n",
       "      <td>True</td>\n",
       "    </tr>\n",
       "    <tr>\n",
       "      <th>3631</th>\n",
       "      <td>VANCE</td>\n",
       "      <td>EP</td>\n",
       "      <td>MM</td>\n",
       "      <td>56959.75</td>\n",
       "      <td>260.899994</td>\n",
       "      <td>10.700000</td>\n",
       "      <td>609</td>\n",
       "      <td>30.0</td>\n",
       "      <td>1007.0</td>\n",
       "      <td>TS</td>\n",
       "      <td>main</td>\n",
       "      <td>False</td>\n",
       "    </tr>\n",
       "    <tr>\n",
       "      <th>3632</th>\n",
       "      <td>NURI</td>\n",
       "      <td>WP</td>\n",
       "      <td>MM</td>\n",
       "      <td>56960.00</td>\n",
       "      <td>140.899994</td>\n",
       "      <td>12.599999</td>\n",
       "      <td>1599</td>\n",
       "      <td>0.0</td>\n",
       "      <td>1004.0</td>\n",
       "      <td>ET</td>\n",
       "      <td>main</td>\n",
       "      <td>False</td>\n",
       "    </tr>\n",
       "    <tr>\n",
       "      <th>3633</th>\n",
       "      <td>SINLAKU</td>\n",
       "      <td>WP</td>\n",
       "      <td>MM</td>\n",
       "      <td>56987.00</td>\n",
       "      <td>128.000000</td>\n",
       "      <td>8.400000</td>\n",
       "      <td>173</td>\n",
       "      <td>0.0</td>\n",
       "      <td>1002.0</td>\n",
       "      <td>TS</td>\n",
       "      <td>main</td>\n",
       "      <td>True</td>\n",
       "    </tr>\n",
       "    <tr>\n",
       "      <th>3634</th>\n",
       "      <td>HAGUPIT</td>\n",
       "      <td>WP</td>\n",
       "      <td>MM</td>\n",
       "      <td>56991.50</td>\n",
       "      <td>156.000000</td>\n",
       "      <td>2.600000</td>\n",
       "      <td>797</td>\n",
       "      <td>0.0</td>\n",
       "      <td>1006.0</td>\n",
       "      <td>TS</td>\n",
       "      <td>main</td>\n",
       "      <td>True</td>\n",
       "    </tr>\n",
       "    <tr>\n",
       "      <th>3635</th>\n",
       "      <td>JANGMI</td>\n",
       "      <td>WP</td>\n",
       "      <td>MM</td>\n",
       "      <td>57019.00</td>\n",
       "      <td>128.699997</td>\n",
       "      <td>7.400000</td>\n",
       "      <td>231</td>\n",
       "      <td>0.0</td>\n",
       "      <td>1006.0</td>\n",
       "      <td>TS</td>\n",
       "      <td>main</td>\n",
       "      <td>True</td>\n",
       "    </tr>\n",
       "  </tbody>\n",
       "</table>\n",
       "<p>3636 rows × 12 columns</p>\n",
       "</div>"
      ],
      "text/plain": [
       "              name genesis_basin sub_basin      time         lon        lat  \\\n",
       "0             HIKI            EP        CP  33505.00  215.500000  14.500000   \n",
       "1             ABLE            NA        NA  33505.00  304.500000  17.100000   \n",
       "2            BAKER            NA        NA  33511.50  306.000000  12.000000   \n",
       "3          CHARLIE            NA        NA  33514.50  333.600006  11.099999   \n",
       "4              DOG            NA        NA  33523.75  304.399994  15.200000   \n",
       "5             EASY            NA        CS  33525.25  276.799988  19.699999   \n",
       "6              FOX            NA        NA  33532.25  319.000000  15.500000   \n",
       "7           GEORGE            NA        NA  33551.25  309.000000  24.600000   \n",
       "8              HOW            NA        GM  33555.25  271.600006  25.599998   \n",
       "9             ITEM            NA        GM  33562.25  269.600006  23.299999   \n",
       "10             JIG            NA        NA  33565.50  313.000000  22.400000   \n",
       "11            KING            NA        CS  33567.25  275.799988  16.000000   \n",
       "12            LOVE            NA        GM  33572.00  270.500000  25.500000   \n",
       "13            MIKE            NA        NA  33579.50  317.799988  24.699999   \n",
       "14     01W:GEORGIA            WP        MM  33723.25  158.300003   5.700000   \n",
       "15        02W:HOPE            WP        MM  33751.00  151.500000   8.000000   \n",
       "16        03W:IRIS            WP        MM  33764.50  144.899994   6.300000   \n",
       "17        04W:JOAN            WP        MM  33772.00  157.000000   6.500000   \n",
       "18            ABLE            NA        NA  33782.00  292.000000  32.000000   \n",
       "19        05W:KATE            WP        MM  33823.25  135.000000  11.000000   \n",
       "20      06W:LOUISE            WP        MM  33853.25  140.399994  10.500000   \n",
       "21           BAKER            NA        NA  33860.25  307.100006  20.900000   \n",
       "22         CHARLIE            NA        NA  33870.00  315.899994  12.099999   \n",
       "23             DOG            NA        NA  33885.25  334.399994  12.300000   \n",
       "24            EASY            NA        NA  33890.25  328.000000  12.500000   \n",
       "25             FOX            NA        NA  33891.75  339.700012  12.599999   \n",
       "26         10W:PAT            WP        MM  33909.00  137.000000   8.000000   \n",
       "27          GEORGE            NA        GM  33908.75  266.799988  19.400000   \n",
       "28             HOW            NA        CS  33918.00  274.200012  20.199999   \n",
       "29        11W:RUTH            WP        MM  33927.00  144.399994  11.700000   \n",
       "...            ...           ...       ...       ...         ...        ...   \n",
       "3606        ISELLE            EP        MM  56868.50  242.100006  11.300000   \n",
       "3607         JULIO            EP        MM  56871.00  248.800003  12.500000   \n",
       "3608        KARINA            EP        MM  56881.50  255.000000  15.099999   \n",
       "3609        LOWELL            EP        MM  56886.00  246.300003  16.000000   \n",
       "3610         MARIE            EP        MM  56891.00  261.200012  12.300000   \n",
       "3611     CRISTOBAL            NA        NA  56892.75  287.799988  21.500000   \n",
       "3612         DOLLY            NA        GM  56901.50  267.700012  19.199999   \n",
       "3613       NORBERT            EP        MM  56902.50  253.500000  17.000000   \n",
       "3614      FENGSHEN            WP        MM  56905.50  127.599998  20.299999   \n",
       "3615       SIXTEEN            EP        MM  56910.25  243.500000  12.500000   \n",
       "3616         ODILE            EP        MM  56909.50  259.899994  13.500000   \n",
       "3617      KALMAEGI            WP        MM  56911.75  134.000000  13.500000   \n",
       "3618       EDOUARD            NA        NA  56910.75  326.799988  13.700000   \n",
       "3619          POLO            EP        MM  56916.00  262.399994  11.400000   \n",
       "3620     FUNG-WONG            WP        MM  56917.00  135.000000  12.599999   \n",
       "3621        RACHEL            EP        MM  56924.00  257.399994  14.500000   \n",
       "3622       KAMMURI            WP        MM  56923.50  149.599991  17.900000   \n",
       "3623      PHANFONE            WP        MM  56928.25  157.099991  11.000000   \n",
       "3624         SIMON            EP        MM  56930.50  259.899994  14.700000   \n",
       "3625      VONGFONG            WP        MM  56932.50  162.099991   7.300000   \n",
       "3626           FAY            NA        NA  56940.00  298.799988  22.000000   \n",
       "3627           ANA            EP        MM  56940.50  231.300003   9.700000   \n",
       "3628       GONZALO            NA        NA  56941.75  305.100006  16.400000   \n",
       "3629         TRUDY            EP        MM  56947.25  261.399994  13.900000   \n",
       "3630  HANNA:INVEST            NA        GM  56951.00  264.700012  19.500000   \n",
       "3631         VANCE            EP        MM  56959.75  260.899994  10.700000   \n",
       "3632          NURI            WP        MM  56960.00  140.899994  12.599999   \n",
       "3633       SINLAKU            WP        MM  56987.00  128.000000   8.400000   \n",
       "3634       HAGUPIT            WP        MM  56991.50  156.000000   2.600000   \n",
       "3635        JANGMI            WP        MM  57019.00  128.699997   7.400000   \n",
       "\n",
       "      dist2land   msw     mcp nature track_type landfall  \n",
       "0          1229  25.0     0.0     TS       main    False  \n",
       "1           930  35.0     0.0     ET       main     True  \n",
       "2           683  30.0     0.0     TS       main     True  \n",
       "3          1045  35.0     0.0     ET       main    False  \n",
       "4           772  80.0     0.0     ET       main     True  \n",
       "5           194  40.0     0.0     TS       main     True  \n",
       "6          1686  40.0     0.0     ET       main    False  \n",
       "7          1660  35.0     0.0     ET       main    False  \n",
       "8           385  30.0     0.0     TS       main     True  \n",
       "9           240  35.0     0.0     TS       main     True  \n",
       "10         1982  40.0     0.0     ET       main    False  \n",
       "11           24  25.0     0.0     TS       main     True  \n",
       "12          392  40.0     0.0     ET       main     True  \n",
       "13         2448  25.0     0.0     TS       main    False  \n",
       "14         1227   0.0  1002.0     TS       main    False  \n",
       "15         1200   0.0  1002.0     TS       main    False  \n",
       "16          960   0.0  1008.0     ET       main     True  \n",
       "17         1227   0.0  1005.0     ET       main    False  \n",
       "18          809  30.0     0.0     TS       main    False  \n",
       "19          984   0.0  1006.0     ET       main     True  \n",
       "20         1360   0.0   963.0     TS       main     True  \n",
       "21         1358  30.0     0.0     TS       main    False  \n",
       "22         1179  30.0     0.0     TS       main     True  \n",
       "23          916  25.0     0.0     TS       main    False  \n",
       "24         1586  30.0     0.0     ET       main    False  \n",
       "25          380  30.0     0.0     ET       main    False  \n",
       "26          987   0.0  1008.0     ET       main     True  \n",
       "27          103  30.0     0.0     TS       main     True  \n",
       "28          132  25.0     0.0     ET       main     True  \n",
       "29         1565   0.0  1002.0     ET       main     True  \n",
       "...         ...   ...     ...    ...        ...      ...  \n",
       "3606       1544  20.0  1010.0     TS       main    False  \n",
       "3607       1015  25.0  1008.0     TS       main    False  \n",
       "3608        392  25.0  1008.0     DS       main    False  \n",
       "3609        863  20.0  1008.0     DS       main    False  \n",
       "3610        428  30.0  1007.0     DS       main    False  \n",
       "3611         89  30.0  1005.0     ET       main     True  \n",
       "3612         67  25.0  1009.0     DS       main     True  \n",
       "3613        304  35.0  1004.0     DS       main    False  \n",
       "3614        595   0.0  1004.0     ET       main    False  \n",
       "3615       1351  25.0  1009.0     DS       main    False  \n",
       "3616        352  25.0  1007.0     TS       main     True  \n",
       "3617        933   0.0  1004.0     TS       main     True  \n",
       "3618       1696  25.0  1009.0     DS       main    False  \n",
       "3619        482  35.0  1007.0     DS       main    False  \n",
       "3620       1017   0.0  1002.0     ET       main     True  \n",
       "3621        352  30.0  1006.0     DS       main    False  \n",
       "3622       2126   0.0  1004.0     ET       main    False  \n",
       "3623       1681   0.0  1004.0     ET       main     True  \n",
       "3624        227  25.0  1008.0     DS       main     True  \n",
       "3625       1625   0.0  1006.0     ET       main     True  \n",
       "3626        610  35.0  1007.0     TS       main    False  \n",
       "3627       2429  20.0  1009.0     ET       main    False  \n",
       "3628        917  25.0  1010.0     ET       main    False  \n",
       "3629        250  25.0  1007.0     TS       main     True  \n",
       "3630         88  25.0  1002.0     DS       main     True  \n",
       "3631        609  30.0  1007.0     TS       main    False  \n",
       "3632       1599   0.0  1004.0     ET       main    False  \n",
       "3633        173   0.0  1002.0     TS       main     True  \n",
       "3634        797   0.0  1006.0     TS       main     True  \n",
       "3635        231   0.0  1006.0     TS       main     True  \n",
       "\n",
       "[3636 rows x 12 columns]"
      ]
     },
     "metadata": {},
     "output_type": "display_data"
    }
   ],
   "source": [
    "display(df[['name', 'genesis_basin', 'sub_basin', 'time', 'lon', 'lat', 'dist2land', 'msw',\n",
    "            'mcp', 'nature', 'track_type', 'landfall']])"
   ]
  },
  {
   "cell_type": "markdown",
   "metadata": {
    "nbpresent": {
     "id": "cc1a848a-38fc-4f94-adea-2af0460dd486"
    }
   },
   "source": [
    "### Generate random sampling of each prediction (class) value and generate ARFF file"
   ]
  },
  {
   "cell_type": "code",
   "execution_count": 9,
   "metadata": {
    "collapsed": false,
    "nbpresent": {
     "id": "45380f11-b691-4089-b20a-c76adba27f9d"
    }
   },
   "outputs": [
    {
     "data": {
      "text/markdown": [
       "### class label distribution of randomly sampled datasets of each class value"
      ],
      "text/plain": [
       "<IPython.core.display.Markdown object>"
      ]
     },
     "metadata": {},
     "output_type": "display_data"
    },
    {
     "data": {
      "text/markdown": [
       "* total storms: 1000"
      ],
      "text/plain": [
       "<IPython.core.display.Markdown object>"
      ]
     },
     "metadata": {},
     "output_type": "display_data"
    },
    {
     "data": {
      "text/markdown": [
       "* total storms with class variable landfall == True: 500"
      ],
      "text/plain": [
       "<IPython.core.display.Markdown object>"
      ]
     },
     "metadata": {},
     "output_type": "display_data"
    },
    {
     "data": {
      "text/markdown": [
       "* total storms with class variable landfall == False: 500"
      ],
      "text/plain": [
       "<IPython.core.display.Markdown object>"
      ]
     },
     "metadata": {},
     "output_type": "display_data"
    }
   ],
   "source": [
    "# randomly sample 500 records of each class value\n",
    "landfall_sample = df.loc[df['landfall'] == True].sample(500)\n",
    "nolandfall_sample = df.loc[df['landfall'] == False].sample(500)\n",
    "\n",
    "# generate ARFF file\n",
    "arff_data = {\n",
    "    \"relation\": \"tropicalstorms\",\n",
    "    \"description\": \"IBTrACS (International Best Track Archive for Climate Stewardship) tropical storm database\",\n",
    "    \"attributes\": [\n",
    "        (\"genesis_basin\", [\"NA\", \"SA\", \"WP\", \"EP\", \"SP\", \"NI\", \"SI\"]),\n",
    "        (\"nature\", [\"TS\", \"SS\", \"ET\", \"DS\"]),\n",
    "        (\"track_type\", [\"main\", \"merge\", \"split\", \"other\"]),\n",
    "        #(\"time\", \"DATE\"),\n",
    "        (\"time\", \"REAL\"),\n",
    "        (\"lon\", \"REAL\"),\n",
    "        (\"lat\", \"REAL\"),\n",
    "        (\"dist2land\", \"REAL\"),\n",
    "        (\"msw\", \"REAL\"),\n",
    "        (\"mcp\", \"REAL\"),\n",
    "        (\"landfall\", [\"True\", \"False\"]),\n",
    "    ],\n",
    "    \"data\": [],\n",
    "}\n",
    "for r in landfall_sample.itertuples():\n",
    "    arff_data['data'].append([r.genesis_basin, r.nature, r.track_type,\n",
    "                              #Time(r.time, format='mjd', scale='utc'),\n",
    "                              r.time, r.lon, r.lat, r.dist2land, r.msw,\n",
    "                              r.mcp, r.landfall]) \n",
    "for r in nolandfall_sample.itertuples():\n",
    "    arff_data['data'].append([r.genesis_basin, r.nature, r.track_type,\n",
    "                              #Time(r.time, format='mjd', scale='utc'),\n",
    "                              r.time, r.lon, r.lat, r.dist2land, r.msw,\n",
    "                              r.mcp,  r.landfall]) \n",
    "with open('tropicalstorms.arff', 'w') as f:\n",
    "    arff.dump(arff_data, f)\n",
    "\n",
    "# print class label distribution of randomly sampled datasets of each class value\n",
    "display(Markdown(\"### class label distribution of randomly sampled datasets of each class value\"))\n",
    "display(Markdown(\"* total storms: {}\".format(len(landfall_sample) + len(nolandfall_sample))))\n",
    "display(Markdown(\"* total storms with class variable landfall == True: {}\".format(len(landfall_sample))))\n",
    "display(Markdown(\"* total storms with class variable landfall == False: {}\".format(len(nolandfall_sample))))"
   ]
  },
  {
   "cell_type": "markdown",
   "metadata": {
    "nbpresent": {
     "id": "7759a8a1-377c-44c0-b37c-c00bb1e8a50b"
    }
   },
   "source": [
    "### Save DataFrame datasets (all, landfall and nolandfall) as tables in HDF5"
   ]
  },
  {
   "cell_type": "code",
   "execution_count": 10,
   "metadata": {
    "collapsed": false,
    "nbpresent": {
     "id": "58d1e61e-f9c8-4d4d-816c-b60c34e03475"
    }
   },
   "outputs": [],
   "source": [
    "# save\n",
    "df.to_hdf(\"tropicalstorms-all.h5\", \"tropicalstorms\", format=\"table\", complib=\"zlib\", complevel=9)\n",
    "landfall_sample.to_hdf(\"tropicalstorms-landfall.h5\", \"tropicalstorms\", format=\"table\", complib=\"zlib\", complevel=9)\n",
    "nolandfall_sample.to_hdf(\"tropicalstorms-nolandfall.h5\", \"tropicalstorms\", format=\"table\", complib=\"zlib\", complevel=9)"
   ]
  },
  {
   "cell_type": "markdown",
   "metadata": {
    "nbpresent": {
     "id": "c489a945-e0d5-49de-b29c-77610e69a24a"
    }
   },
   "source": [
    "### Visualize the dataset storms tracks"
   ]
  },
  {
   "cell_type": "code",
   "execution_count": 11,
   "metadata": {
    "collapsed": false,
    "nbpresent": {
     "id": "3987ff39-27c5-4c27-877a-636cf96b6bc8"
    }
   },
   "outputs": [
    {
     "name": "stdout",
     "output_type": "stream",
     "text": [
      "\r",
      "6481 CHANTAL 23 0 0 2007-07-31 00:00:00.000 293.5 35.5 753 30.0 1007.0 2 0"
     ]
    }
   ],
   "source": [
    "# set styles\n",
    "landfall_style = {\n",
    "    \"color\": \"red\",\n",
    "    \"weight\": 1,\n",
    "}\n",
    "nolandfall_style = {\n",
    "    \"color\": \"green\",\n",
    "    \"weight\": 1,\n",
    "}\n",
    "hover_style = {\n",
    "    \"weight\": 5,\n",
    "}\n",
    "\n",
    "# hover handler\n",
    "def hover_handler(event=None, id=None, properties=None):\n",
    "    sys.stdout.write(\"\\r\" + properties['msg'])\n",
    "    sys.stdout.flush()\n",
    "\n",
    "# show map    \n",
    "m = Map(center=[0, 180], zoom=2)\n",
    "m"
   ]
  },
  {
   "cell_type": "code",
   "execution_count": 12,
   "metadata": {
    "collapsed": false,
    "nbpresent": {
     "id": "48d0003b-5830-4263-bd6e-e413aa6a6c3f"
    }
   },
   "outputs": [],
   "source": [
    "# add tracks storms that made landfall\n",
    "for r in landfall_sample.itertuples():\n",
    "    l = GeoJSON(data=json.loads(r.feature), style=landfall_style, hover_style=hover_style)\n",
    "    l.on_hover(hover_handler)\n",
    "    m.add_layer(l)\n",
    "    "
   ]
  },
  {
   "cell_type": "code",
   "execution_count": 13,
   "metadata": {
    "collapsed": false,
    "nbpresent": {
     "id": "bb9a1a1a-3f15-42c0-8967-03606336b787"
    }
   },
   "outputs": [],
   "source": [
    "# add tracks storms that didn't make landfall\n",
    "for r in nolandfall_sample.itertuples():\n",
    "    l = GeoJSON(data=json.loads(r.feature), style=nolandfall_style, hover_style=hover_style)\n",
    "    l.on_hover(hover_handler)\n",
    "    m.add_layer(l)\n",
    "    "
   ]
  }
 ],
 "metadata": {
  "anaconda-cloud": {},
  "kernelspec": {
   "display_name": "Python [Root]",
   "language": "python",
   "name": "Python [Root]"
  },
  "language_info": {
   "codemirror_mode": {
    "name": "ipython",
    "version": 3
   },
   "file_extension": ".py",
   "mimetype": "text/x-python",
   "name": "python",
   "nbconvert_exporter": "python",
   "pygments_lexer": "ipython3",
   "version": "3.5.2"
  },
  "nav_menu": {},
  "nbpresent": {
   "slides": {
    "3a4ee92e-9545-45c6-82f4-77970aa4dfa7": {
     "id": "3a4ee92e-9545-45c6-82f4-77970aa4dfa7",
     "prev": null,
     "regions": {
      "e3f4c3d2-e6a1-4e58-8db8-58f0288b2307": {
       "attrs": {
        "height": 0.8,
        "width": 0.8,
        "x": 0.1,
        "y": 0.1
       },
       "content": {
        "cell": "94172be2-100f-4c2a-86ef-ea4d5f03f770",
        "part": "whole"
       },
       "id": "e3f4c3d2-e6a1-4e58-8db8-58f0288b2307"
      }
     }
    },
    "3ab18f56-dc32-4408-8664-4e3b6bbffaf9": {
     "id": "3ab18f56-dc32-4408-8664-4e3b6bbffaf9",
     "prev": "a3280c39-e3d5-401c-915d-a0d2bff61551",
     "regions": {
      "36814c49-1fc8-4988-9dc7-8807608f56db": {
       "attrs": {
        "height": 0.8,
        "width": 0.8,
        "x": 0.1,
        "y": 0.1
       },
       "content": {
        "cell": "01ef4b2d-69c4-41d4-96bf-e0514859e5b4",
        "part": "whole"
       },
       "id": "36814c49-1fc8-4988-9dc7-8807608f56db"
      }
     }
    },
    "4e8ff8fb-dbe7-4696-a621-b9c7c13befd2": {
     "id": "4e8ff8fb-dbe7-4696-a621-b9c7c13befd2",
     "prev": "6c6b552b-e006-45f3-bbee-2c378aaf1177",
     "regions": {
      "a458d110-4d6e-482c-95b6-2e7701526e8f": {
       "attrs": {
        "height": 0.8,
        "width": 0.8,
        "x": 0.1,
        "y": 0.1
       },
       "content": {
        "cell": "3987ff39-27c5-4c27-877a-636cf96b6bc8",
        "part": "whole"
       },
       "id": "a458d110-4d6e-482c-95b6-2e7701526e8f"
      }
     }
    },
    "5a965009-e807-4eb3-8b4a-f83219f72070": {
     "id": "5a965009-e807-4eb3-8b4a-f83219f72070",
     "prev": "bcde7d25-1442-4721-b101-580e096334e8",
     "regions": {
      "043b83b0-2a7f-4e3d-8fa7-1e9e8df78e9e": {
       "attrs": {
        "height": 0.8,
        "width": 0.8,
        "x": 0.1,
        "y": 0.1
       },
       "content": {
        "cell": "cc1a848a-38fc-4f94-adea-2af0460dd486",
        "part": "whole"
       },
       "id": "043b83b0-2a7f-4e3d-8fa7-1e9e8df78e9e"
      }
     }
    },
    "5aa85ada-ebca-4b86-8d8a-4ab2f2bfef1a": {
     "id": "5aa85ada-ebca-4b86-8d8a-4ab2f2bfef1a",
     "prev": "6c87c5cc-be44-4924-9d63-f438aca58155",
     "regions": {
      "7e95344b-444d-4f55-9342-23c7e14181f3": {
       "attrs": {
        "height": 0.8,
        "width": 0.8,
        "x": 0.1,
        "y": 0.1
       },
       "content": {
        "cell": "ed5e7cd2-2cfa-4061-b7bb-697aab9d7540",
        "part": "whole"
       },
       "id": "7e95344b-444d-4f55-9342-23c7e14181f3"
      }
     }
    },
    "66509af4-fe1b-471a-81f7-99f9b1095780": {
     "id": "66509af4-fe1b-471a-81f7-99f9b1095780",
     "prev": "c9ddb9ab-8443-4fe1-9eac-54a6a1dcb8b3",
     "regions": {
      "a7fbd50f-278e-42f0-a937-d29de57c0b39": {
       "attrs": {
        "height": 0.8,
        "width": 0.8,
        "x": 0.1,
        "y": 0.1
       },
       "content": {
        "cell": "0e00032f-0d97-447c-99c2-91049571b085",
        "part": "whole"
       },
       "id": "a7fbd50f-278e-42f0-a937-d29de57c0b39"
      }
     }
    },
    "6c6b552b-e006-45f3-bbee-2c378aaf1177": {
     "id": "6c6b552b-e006-45f3-bbee-2c378aaf1177",
     "prev": "70bc882c-f421-438c-9db1-c1a19a4af4c4",
     "regions": {
      "bebef9b4-b364-4091-915d-bc941b8e61ff": {
       "attrs": {
        "height": 0.8,
        "width": 0.8,
        "x": 0.1,
        "y": 0.1
       },
       "content": {
        "cell": "c489a945-e0d5-49de-b29c-77610e69a24a",
        "part": "whole"
       },
       "id": "bebef9b4-b364-4091-915d-bc941b8e61ff"
      }
     }
    },
    "6c87c5cc-be44-4924-9d63-f438aca58155": {
     "id": "6c87c5cc-be44-4924-9d63-f438aca58155",
     "prev": "7aa49481-4dd0-409c-9b66-190ea45a274c",
     "regions": {
      "c9c31ee8-6d48-475b-8f10-3fe9f31f4afe": {
       "attrs": {
        "height": 0.8,
        "width": 0.8,
        "x": 0.1,
        "y": 0.1
       },
       "content": {
        "cell": "5dcd9a3f-cceb-4a84-9051-ea64648fcb24",
        "part": "whole"
       },
       "id": "c9c31ee8-6d48-475b-8f10-3fe9f31f4afe"
      }
     }
    },
    "70bc882c-f421-438c-9db1-c1a19a4af4c4": {
     "id": "70bc882c-f421-438c-9db1-c1a19a4af4c4",
     "prev": "7c707ea6-ffef-469f-be4a-43a082bbcaa8",
     "regions": {
      "3d740726-0d0d-42d0-82f0-0836833fa7b9": {
       "attrs": {
        "height": 0.8,
        "width": 0.8,
        "x": 0.1,
        "y": 0.1
       },
       "content": {
        "cell": "58d1e61e-f9c8-4d4d-816c-b60c34e03475",
        "part": "whole"
       },
       "id": "3d740726-0d0d-42d0-82f0-0836833fa7b9"
      }
     }
    },
    "7aa49481-4dd0-409c-9b66-190ea45a274c": {
     "id": "7aa49481-4dd0-409c-9b66-190ea45a274c",
     "prev": "3ab18f56-dc32-4408-8664-4e3b6bbffaf9",
     "regions": {
      "6d8aa61b-0932-41b7-be14-4502ba02b32d": {
       "attrs": {
        "height": 0.8,
        "width": 0.8,
        "x": 0.1,
        "y": 0.1
       },
       "content": {
        "cell": "d5d8feed-6c5f-42d5-91dc-d83062fe54e6",
        "part": "whole"
       },
       "id": "6d8aa61b-0932-41b7-be14-4502ba02b32d"
      }
     }
    },
    "7c707ea6-ffef-469f-be4a-43a082bbcaa8": {
     "id": "7c707ea6-ffef-469f-be4a-43a082bbcaa8",
     "prev": "f531737e-b395-4e75-ad2c-1447f508d091",
     "regions": {
      "f2a273f5-9c7d-4e09-8708-faae9773ee01": {
       "attrs": {
        "height": 0.8,
        "width": 0.8,
        "x": 0.1,
        "y": 0.1
       },
       "content": {
        "cell": "7759a8a1-377c-44c0-b37c-c00bb1e8a50b",
        "part": "whole"
       },
       "id": "f2a273f5-9c7d-4e09-8708-faae9773ee01"
      }
     }
    },
    "9369157c-1dc2-4878-91cf-a77eb127910a": {
     "id": "9369157c-1dc2-4878-91cf-a77eb127910a",
     "prev": "3a4ee92e-9545-45c6-82f4-77970aa4dfa7",
     "regions": {
      "4c2c0c2c-9d39-4999-a2a2-c7c81d134342": {
       "attrs": {
        "height": 0.8,
        "width": 0.8,
        "x": 0.1,
        "y": 0.1
       },
       "content": {
        "cell": "5b355b78-91b9-4100-beb7-3efbd9988324",
        "part": "whole"
       },
       "id": "4c2c0c2c-9d39-4999-a2a2-c7c81d134342"
      }
     }
    },
    "a3280c39-e3d5-401c-915d-a0d2bff61551": {
     "id": "a3280c39-e3d5-401c-915d-a0d2bff61551",
     "prev": "66509af4-fe1b-471a-81f7-99f9b1095780",
     "regions": {
      "d5c6ecd0-6a5d-4aba-9f0a-b3720d47fe9e": {
       "attrs": {
        "height": 0.8,
        "width": 0.8,
        "x": 0.1,
        "y": 0.1
       },
       "content": {
        "cell": "30d35ee9-f4ae-48fe-88e9-a9b1c29b800f",
        "part": "whole"
       },
       "id": "d5c6ecd0-6a5d-4aba-9f0a-b3720d47fe9e"
      }
     }
    },
    "a520d407-6859-4295-9020-687377b4f1a6": {
     "id": "a520d407-6859-4295-9020-687377b4f1a6",
     "prev": "eb6362d6-c130-4caf-b068-67df562fc4a2",
     "regions": {
      "cf472c9b-6f3b-4d78-bb84-1e53f4042bf0": {
       "attrs": {
        "height": 0.8,
        "width": 0.8,
        "x": 0.1,
        "y": 0.1
       },
       "content": {
        "cell": "bb9a1a1a-3f15-42c0-8967-03606336b787",
        "part": "whole"
       },
       "id": "cf472c9b-6f3b-4d78-bb84-1e53f4042bf0"
      }
     }
    },
    "bcde7d25-1442-4721-b101-580e096334e8": {
     "id": "bcde7d25-1442-4721-b101-580e096334e8",
     "prev": "c4373530-81b6-44dc-b7db-4cc991ee43e4",
     "regions": {
      "0d5c01a0-8e44-452d-ada7-091e16b4c2e6": {
       "attrs": {
        "height": 0.8,
        "width": 0.8,
        "x": 0.1,
        "y": 0.1
       },
       "content": {
        "cell": "3a0fc7e6-4703-4a12-9579-376b59ae6055",
        "part": "whole"
       },
       "id": "0d5c01a0-8e44-452d-ada7-091e16b4c2e6"
      }
     }
    },
    "c4373530-81b6-44dc-b7db-4cc991ee43e4": {
     "id": "c4373530-81b6-44dc-b7db-4cc991ee43e4",
     "prev": "5aa85ada-ebca-4b86-8d8a-4ab2f2bfef1a",
     "regions": {
      "4b2ce045-cb3d-4e58-ac0b-d138c1fc8361": {
       "attrs": {
        "height": 0.8,
        "width": 0.8,
        "x": 0.1,
        "y": 0.1
       },
       "content": {
        "cell": "f6770ac7-29b7-4f83-9f65-b84d9d2a27c7",
        "part": "whole"
       },
       "id": "4b2ce045-cb3d-4e58-ac0b-d138c1fc8361"
      }
     }
    },
    "c9ddb9ab-8443-4fe1-9eac-54a6a1dcb8b3": {
     "id": "c9ddb9ab-8443-4fe1-9eac-54a6a1dcb8b3",
     "prev": "9369157c-1dc2-4878-91cf-a77eb127910a",
     "regions": {
      "fc2a4cc2-789e-4e55-88e9-758e33622c1f": {
       "attrs": {
        "height": 0.8,
        "width": 0.8,
        "x": 0.1,
        "y": 0.1
       },
       "content": {
        "cell": "e8ed7e82-1523-42ea-afa4-c1f58517170b",
        "part": "whole"
       },
       "id": "fc2a4cc2-789e-4e55-88e9-758e33622c1f"
      }
     }
    },
    "eb6362d6-c130-4caf-b068-67df562fc4a2": {
     "id": "eb6362d6-c130-4caf-b068-67df562fc4a2",
     "prev": "4e8ff8fb-dbe7-4696-a621-b9c7c13befd2",
     "regions": {
      "b9eed01c-95ac-496c-98c9-54a3026fed75": {
       "attrs": {
        "height": 0.8,
        "width": 0.8,
        "x": 0.1,
        "y": 0.1
       },
       "content": {
        "cell": "48d0003b-5830-4263-bd6e-e413aa6a6c3f",
        "part": "whole"
       },
       "id": "b9eed01c-95ac-496c-98c9-54a3026fed75"
      }
     }
    },
    "f531737e-b395-4e75-ad2c-1447f508d091": {
     "id": "f531737e-b395-4e75-ad2c-1447f508d091",
     "prev": "5a965009-e807-4eb3-8b4a-f83219f72070",
     "regions": {
      "a1e3da58-4b16-4643-bd8a-3667713fc65b": {
       "attrs": {
        "height": 0.8,
        "width": 0.8,
        "x": 0.1,
        "y": 0.1
       },
       "content": {
        "cell": "45380f11-b691-4089-b20a-c76adba27f9d",
        "part": "whole"
       },
       "id": "a1e3da58-4b16-4643-bd8a-3667713fc65b"
      }
     }
    }
   },
   "themes": {}
  },
  "toc": {
   "navigate_menu": true,
   "number_sections": false,
   "sideBar": true,
   "threshold": 6,
   "toc_cell": true,
   "toc_section_display": "block",
   "toc_window_display": false
  },
  "widgets": {
   "state": {
    "038f358f8db54ab58644cddca8d13955": {
     "views": [
      {
       "cell_index": 16
      }
     ]
    }
   },
   "version": "1.2.0"
  }
 },
 "nbformat": 4,
 "nbformat_minor": 0
}
